{
  "cells": [
    {
      "cell_type": "markdown",
      "metadata": {
        "id": "view-in-github",
        "colab_type": "text"
      },
      "source": [
        "<a href=\"https://colab.research.google.com/github/karimovaSvetlana/HSE/blob/Structural-analysis-%26-Visualization-of-networks/power_law.ipynb\" target=\"_parent\"><img src=\"https://colab.research.google.com/assets/colab-badge.svg\" alt=\"Open In Colab\"/></a>"
      ]
    },
    {
      "cell_type": "markdown",
      "id": "c924c795",
      "metadata": {
        "id": "c924c795"
      },
      "source": [
        "# Assignment — Power Law"
      ]
    },
    {
      "cell_type": "code",
      "execution_count": null,
      "id": "cb8f95ba",
      "metadata": {
        "id": "cb8f95ba"
      },
      "outputs": [],
      "source": [
        "import numpy as np\n",
        "import networkx as nx\n",
        "import matplotlib.pyplot as plt\n",
        "from zlib import adler32\n",
        "import requests\n",
        "import pandas as pd\n",
        "from typing import List"
      ]
    },
    {
      "cell_type": "markdown",
      "id": "73aaa645",
      "metadata": {
        "id": "73aaa645"
      },
      "source": [
        "### Task 1. Graphs by degree distribution (0 points)"
      ]
    },
    {
      "cell_type": "markdown",
      "id": "8ed859a9",
      "metadata": {
        "id": "8ed859a9"
      },
      "source": [
        "In this task, we will try to guess a graph by its degree distribution.\n",
        "\n",
        "__Graph A__ is described by the histogram `[0, 2, 10]` — 0 nodes with degree 0, 2 nodes with degree 1, 10 nodes with degree 2."
      ]
    },
    {
      "cell_type": "code",
      "execution_count": null,
      "id": "060dea35",
      "metadata": {
        "id": "060dea35",
        "colab": {
          "base_uri": "https://localhost:8080/",
          "height": 265
        },
        "outputId": "c3649a9a-3fc7-4026-ccc3-0dfe0fc425ba"
      },
      "outputs": [
        {
          "output_type": "display_data",
          "data": {
            "text/plain": [
              "<Figure size 432x288 with 1 Axes>"
            ],
            "image/png": "[encoded data removed]"
          },
          "metadata": {
            "needs_background": "light"
          }
        }
      ],
      "source": [
        "dens_a = [0, 2, 10]\n",
        "plt.bar(range(len(dens_a)), dens_a);"
      ]
    },
    {
      "cell_type": "code",
      "execution_count": null,
      "id": "1ea4c2be",
      "metadata": {
        "deletable": false,
        "nbgrader": {
          "cell_type": "code",
          "checksum": "7726ebdf8814362b9595c84fe0221e09",
          "grade": false,
          "grade_id": "cell-4308485bfb1bf30e",
          "locked": false,
          "schema_version": 3,
          "solution": true,
          "task": false
        },
        "id": "1ea4c2be"
      },
      "outputs": [],
      "source": [
        "def generate_graph_a() -> nx.Graph:\n",
        "    return nx.path_graph(12)"
      ]
    },
    {
      "cell_type": "code",
      "execution_count": null,
      "id": "f5e05468",
      "metadata": {
        "deletable": false,
        "editable": false,
        "nbgrader": {
          "cell_type": "code",
          "checksum": "f0a57f4933c3d7409a8822292bff6c0b",
          "grade": true,
          "grade_id": "cell-226da2d721eaace4",
          "locked": true,
          "points": 0,
          "schema_version": 3,
          "solution": false,
          "task": false
        },
        "id": "f5e05468",
        "colab": {
          "base_uri": "https://localhost:8080/",
          "height": 248
        },
        "outputId": "3cd5842e-d544-4627-d939-a9b22b63a85c"
      },
      "outputs": [
        {
          "output_type": "display_data",
          "data": {
            "text/plain": [
              "<Figure size 432x288 with 1 Axes>"
            ],
            "image/png": "[encoded data removed]"
          },
          "metadata": {}
        }
      ],
      "source": [
        "G = generate_graph_a()\n",
        "assert nx.degree_histogram(G) == dens_a\n",
        "assert nx.is_connected(G)\n",
        "nx.draw_networkx(G)"
      ]
    },
    {
      "cell_type": "markdown",
      "id": "d1e95036",
      "metadata": {
        "id": "d1e95036"
      },
      "source": [
        "__Graph B__"
      ]
    },
    {
      "cell_type": "code",
      "execution_count": null,
      "id": "167810b0",
      "metadata": {
        "id": "167810b0",
        "colab": {
          "base_uri": "https://localhost:8080/",
          "height": 265
        },
        "outputId": "fd6f8531-64c3-48d0-c004-ded77b05e44f"
      },
      "outputs": [
        {
          "output_type": "display_data",
          "data": {
            "text/plain": [
              "<Figure size 432x288 with 1 Axes>"
            ],
            "image/png": "[encoded data removed]"
          },
          "metadata": {
            "needs_background": "light"
          }
        }
      ],
      "source": [
        "dens_b = [0, 0, 10]\n",
        "plt.bar(range(len(dens_b)), dens_b);"
      ]
    },
    {
      "cell_type": "code",
      "execution_count": null,
      "id": "8714ef97",
      "metadata": {
        "deletable": false,
        "nbgrader": {
          "cell_type": "code",
          "checksum": "41e7af615198bd34567381ea1b34f56c",
          "grade": false,
          "grade_id": "cell-55d7cfacd5c8d553",
          "locked": false,
          "schema_version": 3,
          "solution": true,
          "task": false
        },
        "id": "8714ef97"
      },
      "outputs": [],
      "source": [
        "def generate_graph_b() -> nx.Graph:\n",
        "    return nx.cycle_graph(10)"
      ]
    },
    {
      "cell_type": "code",
      "execution_count": null,
      "id": "1a750543",
      "metadata": {
        "deletable": false,
        "editable": false,
        "nbgrader": {
          "cell_type": "code",
          "checksum": "17a01a7b79ffd6127bc1d861c15eec61",
          "grade": true,
          "grade_id": "cell-11bb8205ad27326a",
          "locked": true,
          "points": 0,
          "schema_version": 3,
          "solution": false,
          "task": false
        },
        "id": "1a750543",
        "colab": {
          "base_uri": "https://localhost:8080/",
          "height": 248
        },
        "outputId": "23567d43-58bf-4ffe-f7de-0fd93a901278"
      },
      "outputs": [
        {
          "output_type": "display_data",
          "data": {
            "text/plain": [
              "<Figure size 432x288 with 1 Axes>"
            ],
            "image/png": "[encoded data removed]"
          },
          "metadata": {}
        }
      ],
      "source": [
        "G = generate_graph_b()\n",
        "assert nx.degree_histogram(G) == dens_b\n",
        "assert nx.is_connected(G)\n",
        "nx.draw_networkx(G)"
      ]
    },
    {
      "cell_type": "markdown",
      "id": "0994fd0c",
      "metadata": {
        "id": "0994fd0c"
      },
      "source": [
        "__Graph C__"
      ]
    },
    {
      "cell_type": "code",
      "execution_count": null,
      "id": "28bb0e0f",
      "metadata": {
        "id": "28bb0e0f",
        "colab": {
          "base_uri": "https://localhost:8080/",
          "height": 265
        },
        "outputId": "3c407698-9b48-43c3-9f1f-2b8343871b29"
      },
      "outputs": [
        {
          "output_type": "display_data",
          "data": {
            "text/plain": [
              "<Figure size 432x288 with 1 Axes>"
            ],
            "image/png": "[encoded data removed]"
          },
          "metadata": {
            "needs_background": "light"
          }
        }
      ],
      "source": [
        "dens_c = [0, 0, 0, 0, 5]\n",
        "plt.bar(range(len(dens_c)), dens_c);"
      ]
    },
    {
      "cell_type": "code",
      "execution_count": null,
      "id": "f97fe4bc",
      "metadata": {
        "deletable": false,
        "nbgrader": {
          "cell_type": "code",
          "checksum": "dac931bc16a78ae011fdaab8f99a54ca",
          "grade": false,
          "grade_id": "cell-6ad0ea3f81976162",
          "locked": false,
          "schema_version": 3,
          "solution": true,
          "task": false
        },
        "id": "f97fe4bc"
      },
      "outputs": [],
      "source": [
        "def generate_graph_c() -> nx.Graph:\n",
        "    return nx.complete_graph(5)"
      ]
    },
    {
      "cell_type": "code",
      "execution_count": null,
      "id": "6973a90a",
      "metadata": {
        "deletable": false,
        "editable": false,
        "nbgrader": {
          "cell_type": "code",
          "checksum": "e757472a112c724d13e0fe548746c245",
          "grade": true,
          "grade_id": "cell-508d2e23c067c4d2",
          "locked": true,
          "points": 0,
          "schema_version": 3,
          "solution": false,
          "task": false
        },
        "id": "6973a90a",
        "colab": {
          "base_uri": "https://localhost:8080/",
          "height": 248
        },
        "outputId": "d5b357ba-d5ea-4694-897a-4e29e8438341"
      },
      "outputs": [
        {
          "output_type": "display_data",
          "data": {
            "text/plain": [
              "<Figure size 432x288 with 1 Axes>"
            ],
            "image/png": "[encoded data removed]"
          },
          "metadata": {}
        }
      ],
      "source": [
        "G = generate_graph_c()\n",
        "assert nx.degree_histogram(G) == dens_c\n",
        "assert nx.is_connected(G)\n",
        "nx.draw_networkx(G)"
      ]
    },
    {
      "cell_type": "markdown",
      "id": "edf0f2a2",
      "metadata": {
        "id": "edf0f2a2"
      },
      "source": [
        "__Graph D__"
      ]
    },
    {
      "cell_type": "code",
      "execution_count": null,
      "id": "ad406d1f",
      "metadata": {
        "id": "ad406d1f",
        "colab": {
          "base_uri": "https://localhost:8080/",
          "height": 265
        },
        "outputId": "c8b9f20c-5f81-4b9e-ca82-c76f7dee249f"
      },
      "outputs": [
        {
          "output_type": "display_data",
          "data": {
            "text/plain": [
              "<Figure size 432x288 with 1 Axes>"
            ],
            "image/png": "[encoded data removed]"
          },
          "metadata": {
            "needs_background": "light"
          }
        }
      ],
      "source": [
        "dens_d = [0, 5, 0, 0, 0, 1]\n",
        "plt.bar(range(len(dens_d)), dens_d);"
      ]
    },
    {
      "cell_type": "code",
      "execution_count": null,
      "id": "f629924f",
      "metadata": {
        "deletable": false,
        "nbgrader": {
          "cell_type": "code",
          "checksum": "f1ab3b74f2b7a677c3844675c785ef5a",
          "grade": false,
          "grade_id": "cell-2a6c0c0fe4dda491",
          "locked": false,
          "schema_version": 3,
          "solution": true,
          "task": false
        },
        "id": "f629924f"
      },
      "outputs": [],
      "source": [
        "def generate_graph_d() -> nx.Graph:\n",
        "    return nx.star_graph(5)"
      ]
    },
    {
      "cell_type": "code",
      "execution_count": null,
      "id": "460e4774",
      "metadata": {
        "deletable": false,
        "editable": false,
        "nbgrader": {
          "cell_type": "code",
          "checksum": "f2017a6038396ef2a945258eca96539c",
          "grade": true,
          "grade_id": "cell-c9c34144467f9031",
          "locked": true,
          "points": 0,
          "schema_version": 3,
          "solution": false,
          "task": false
        },
        "id": "460e4774",
        "colab": {
          "base_uri": "https://localhost:8080/",
          "height": 248
        },
        "outputId": "647c3f65-4864-4d3a-dab7-44eac1f66529"
      },
      "outputs": [
        {
          "output_type": "display_data",
          "data": {
            "text/plain": [
              "<Figure size 432x288 with 1 Axes>"
            ],
            "image/png": "[encoded data removed]"
          },
          "metadata": {}
        }
      ],
      "source": [
        "G = generate_graph_d()\n",
        "assert nx.degree_histogram(G) == dens_d\n",
        "assert nx.is_connected(G)\n",
        "nx.draw_networkx(G)"
      ]
    },
    {
      "cell_type": "markdown",
      "id": "b92d6889",
      "metadata": {
        "id": "b92d6889"
      },
      "source": [
        "### Task 2. Network degree CDF (0 points)"
      ]
    },
    {
      "cell_type": "markdown",
      "id": "be9f414b",
      "metadata": {
        "id": "be9f414b"
      },
      "source": [
        "In this task we will estimate CDF of degree distribution of a given graph. Firstly, let us download the Game of Thrones relationships dataset and create a graph."
      ]
    },
    {
      "cell_type": "code",
      "execution_count": null,
      "id": "8ea1c51f",
      "metadata": {
        "id": "8ea1c51f"
      },
      "outputs": [],
      "source": [
        "raw_data = pd.read_csv(\"https://raw.githubusercontent.com/network-science-course/network-science-course/main/datasets/game_of_thrones_relationships.csv\")\n"
      ]
    },
    {
      "cell_type": "code",
      "execution_count": null,
      "id": "393a29e4",
      "metadata": {
        "id": "393a29e4",
        "colab": {
          "base_uri": "https://localhost:8080/",
          "height": 206
        },
        "outputId": "f343ea89-bf59-47aa-8c1a-1fe45caa60e2"
      },
      "outputs": [
        {
          "output_type": "execute_result",
          "data": {
            "text/plain": [
              "           character1            character2 relationship        type\n",
              "0  /wiki/Nymeria_Sand  /wiki/Oberyn_Martell       father  biological\n",
              "1    /wiki/Bran_Stark    /wiki/Eddard_Stark       father  biological\n",
              "2    /wiki/Bran_Stark   /wiki/Catelyn_Stark       mother         NaN\n",
              "3   /wiki/Lothar_Frey     /wiki/Walder_Frey       father  biological\n",
              "4    /wiki/Robb_Stark    /wiki/Eddard_Stark       father  biological"
            ],
            "text/html": [
              "\n",
              "  <div id=\"df-dc13c6fe-23d7-4601-a123-ea20180b3546\">\n",
              "    <div class=\"colab-df-container\">\n",
              "      <div>\n",
              "<style scoped>\n",
              "    .dataframe tbody tr th:only-of-type {\n",
              "        vertical-align: middle;\n",
              "    }\n",
              "\n",
              "    .dataframe tbody tr th {\n",
              "        vertical-align: top;\n",
              "    }\n",
              "\n",
              "    .dataframe thead th {\n",
              "        text-align: right;\n",
              "    }\n",
              "</style>\n",
              "<table border=\"1\" class=\"dataframe\">\n",
              "  <thead>\n",
              "    <tr style=\"text-align: right;\">\n",
              "      <th></th>\n",
              "      <th>character1</th>\n",
              "      <th>character2</th>\n",
              "      <th>relationship</th>\n",
              "      <th>type</th>\n",
              "    </tr>\n",
              "  </thead>\n",
              "  <tbody>\n",
              "    <tr>\n",
              "      <th>0</th>\n",
              "      <td>/wiki/Nymeria_Sand</td>\n",
              "      <td>/wiki/Oberyn_Martell</td>\n",
              "      <td>father</td>\n",
              "      <td>biological</td>\n",
              "    </tr>\n",
              "    <tr>\n",
              "      <th>1</th>\n",
              "      <td>/wiki/Bran_Stark</td>\n",
              "      <td>/wiki/Eddard_Stark</td>\n",
              "      <td>father</td>\n",
              "      <td>biological</td>\n",
              "    </tr>\n",
              "    <tr>\n",
              "      <th>2</th>\n",
              "      <td>/wiki/Bran_Stark</td>\n",
              "      <td>/wiki/Catelyn_Stark</td>\n",
              "      <td>mother</td>\n",
              "      <td>NaN</td>\n",
              "    </tr>\n",
              "    <tr>\n",
              "      <th>3</th>\n",
              "      <td>/wiki/Lothar_Frey</td>\n",
              "      <td>/wiki/Walder_Frey</td>\n",
              "      <td>father</td>\n",
              "      <td>biological</td>\n",
              "    </tr>\n",
              "    <tr>\n",
              "      <th>4</th>\n",
              "      <td>/wiki/Robb_Stark</td>\n",
              "      <td>/wiki/Eddard_Stark</td>\n",
              "      <td>father</td>\n",
              "      <td>biological</td>\n",
              "    </tr>\n",
              "  </tbody>\n",
              "</table>\n",
              "</div>\n",
              "      <button class=\"colab-df-convert\" onclick=\"convertToInteractive('df-dc13c6fe-23d7-4601-a123-ea20180b3546')\"\n",
              "              title=\"Convert this dataframe to an interactive table.\"\n",
              "              style=\"display:none;\">\n",
              "        \n",
              "  <svg xmlns=\"http://www.w3.org/2000/svg\" height=\"24px\"viewBox=\"0 0 24 24\"\n",
              "       width=\"24px\">\n",
              "    <path d=\"M0 0h24v24H0V0z\" fill=\"none\"/>\n",
              "    <path d=\"M18.56 5.44l.94 2.06.94-2.06 2.06-.94-2.06-.94-.94-2.06-.94 2.06-2.06.94zm-11 1L8.5 8.5l.94-2.06 2.06-.94-2.06-.94L8.5 2.5l-.94 2.06-2.06.94zm10 10l.94 2.06.94-2.06 2.06-.94-2.06-.94-.94-2.06-.94 2.06-2.06.94z\"/><path d=\"M17.41 7.96l-1.37-1.37c-.4-.4-.92-.59-1.43-.59-.52 0-1.04.2-1.43.59L10.3 9.45l-7.72 7.72c-.78.78-.78 2.05 0 2.83L4 21.41c.39.39.9.59 1.41.59.51 0 1.02-.2 1.41-.59l7.78-7.78 2.81-2.81c.8-.78.8-2.07 0-2.86zM5.41 20L4 18.59l7.72-7.72 1.47 1.35L5.41 20z\"/>\n",
              "  </svg>\n",
              "      </button>\n",
              "      \n",
              "  <style>\n",
              "    .colab-df-container {\n",
              "      display:flex;\n",
              "      flex-wrap:wrap;\n",
              "      gap: 12px;\n",
              "    }\n",
              "\n",
              "    .colab-df-convert {\n",
              "      background-color: #E8F0FE;\n",
              "      border: none;\n",
              "      border-radius: 50%;\n",
              "      cursor: pointer;\n",
              "      display: none;\n",
              "      fill: #1967D2;\n",
              "      height: 32px;\n",
              "      padding: 0 0 0 0;\n",
              "      width: 32px;\n",
              "    }\n",
              "\n",
              "    .colab-df-convert:hover {\n",
              "      background-color: #E2EBFA;\n",
              "      box-shadow: 0px 1px 2px rgba(60, 64, 67, 0.3), 0px 1px 3px 1px rgba(60, 64, 67, 0.15);\n",
              "      fill: #174EA6;\n",
              "    }\n",
              "\n",
              "    [theme=dark] .colab-df-convert {\n",
              "      background-color: #3B4455;\n",
              "      fill: #D2E3FC;\n",
              "    }\n",
              "\n",
              "    [theme=dark] .colab-df-convert:hover {\n",
              "      background-color: #434B5C;\n",
              "      box-shadow: 0px 1px 3px 1px rgba(0, 0, 0, 0.15);\n",
              "      filter: drop-shadow(0px 1px 2px rgba(0, 0, 0, 0.3));\n",
              "      fill: #FFFFFF;\n",
              "    }\n",
              "  </style>\n",
              "\n",
              "      <script>\n",
              "        const buttonEl =\n",
              "          document.querySelector('#df-dc13c6fe-23d7-4601-a123-ea20180b3546 button.colab-df-convert');\n",
              "        buttonEl.style.display =\n",
              "          google.colab.kernel.accessAllowed ? 'block' : 'none';\n",
              "\n",
              "        async function convertToInteractive(key) {\n",
              "          const element = document.querySelector('#df-dc13c6fe-23d7-4601-a123-ea20180b3546');\n",
              "          const dataTable =\n",
              "            await google.colab.kernel.invokeFunction('convertToInteractive',\n",
              "                                                     [key], {});\n",
              "          if (!dataTable) return;\n",
              "\n",
              "          const docLinkHtml = 'Like what you see? Visit the ' +\n",
              "            '<a target=\"_blank\" href=https://colab.research.google.com/notebooks/data_table.ipynb>data table notebook</a>'\n",
              "            + ' to learn more about interactive tables.';\n",
              "          element.innerHTML = '';\n",
              "          dataTable['output_type'] = 'display_data';\n",
              "          await google.colab.output.renderOutput(dataTable, element);\n",
              "          const docLink = document.createElement('div');\n",
              "          docLink.innerHTML = docLinkHtml;\n",
              "          element.appendChild(docLink);\n",
              "        }\n",
              "      </script>\n",
              "    </div>\n",
              "  </div>\n",
              "  "
            ]
          },
          "metadata": {},
          "execution_count": 18
        }
      ],
      "source": [
        "raw_data.head()"
      ]
    },
    {
      "cell_type": "code",
      "execution_count": null,
      "id": "ade7e0d3",
      "metadata": {
        "id": "ade7e0d3"
      },
      "outputs": [],
      "source": [
        "g = nx.from_pandas_edgelist(raw_data, source=\"character1\", target=\"character2\")"
      ]
    },
    {
      "cell_type": "code",
      "execution_count": null,
      "id": "f8016014",
      "metadata": {
        "id": "f8016014",
        "colab": {
          "base_uri": "https://localhost:8080/",
          "height": 319
        },
        "outputId": "c7dcf3c2-cdb2-4adb-cc19-c7ecd1910bed"
      },
      "outputs": [
        {
          "output_type": "display_data",
          "data": {
            "text/plain": [
              "<Figure size 432x288 with 1 Axes>"
            ],
            "image/png": "[encoded data removed]"
          },
          "metadata": {}
        }
      ],
      "source": [
        "nx.draw(g, node_size=10)"
      ]
    },
    {
      "cell_type": "markdown",
      "id": "eaf84376",
      "metadata": {
        "id": "eaf84376"
      },
      "source": [
        "In the social network analysis, we will often consider the largest connected component only. Before estimation of CDF, we need to remove all connected components except of the largest one.\n",
        "\n",
        "_Hint: use `nx.connected_components` to get a list of nodes for each connected component._"
      ]
    },
    {
      "cell_type": "code",
      "execution_count": null,
      "id": "94a7ddc4",
      "metadata": {
        "deletable": false,
        "nbgrader": {
          "cell_type": "code",
          "checksum": "07e8207f2a0510ee621508841df6acd0",
          "grade": false,
          "grade_id": "cell-37477b43188105f5",
          "locked": false,
          "schema_version": 3,
          "solution": true,
          "task": false
        },
        "id": "94a7ddc4"
      },
      "outputs": [],
      "source": [
        "def select_gygantic_component(g: nx.Graph) -> nx.Graph:\n",
        "    return g.subgraph(sorted(nx.connected_components(g), key=len)[-1])"
      ]
    },
    {
      "cell_type": "code",
      "execution_count": null,
      "id": "55961de4",
      "metadata": {
        "deletable": false,
        "editable": false,
        "nbgrader": {
          "cell_type": "code",
          "checksum": "faa47fe530d1d42a5c849ee023745376",
          "grade": true,
          "grade_id": "cell-00509dc9b42f24ea",
          "locked": true,
          "points": 0,
          "schema_version": 3,
          "solution": false,
          "task": false
        },
        "id": "55961de4"
      },
      "outputs": [],
      "source": [
        "gg = select_gygantic_component(g)\n",
        "assert gg.number_of_edges() == 49\n",
        "assert gg.number_of_nodes() == 37"
      ]
    },
    {
      "cell_type": "code",
      "execution_count": null,
      "id": "90bb959e",
      "metadata": {
        "id": "90bb959e",
        "colab": {
          "base_uri": "https://localhost:8080/",
          "height": 319
        },
        "outputId": "4ef1fc37-6785-450f-8930-0a1ade9cd297"
      },
      "outputs": [
        {
          "output_type": "display_data",
          "data": {
            "text/plain": [
              "<Figure size 432x288 with 1 Axes>"
            ],
            "image/png": "[encoded data removed]"
          },
          "metadata": {}
        }
      ],
      "source": [
        "nx.draw(gg, node_size=30)"
      ]
    },
    {
      "cell_type": "markdown",
      "id": "300be6fe",
      "metadata": {
        "id": "300be6fe"
      },
      "source": [
        "Now we can calculate an empirical CDF for a given graph. Recall a formal definition of CDF\n",
        "\n",
        "$$F_X(x) = P(X \\leq x)$$\n",
        "\n",
        "And in empirical CDF, we estimate probability by share of nodes.\n",
        "\n",
        "Write a method `empirical_cdf` that takes a graph and returns a np.array of probabilities. The first element is related to the node degree 0, the second — the node degree 1 and so on. The method should be able to group degrees occurence into equaly distributed bins. \n",
        "\n",
        "_Hint: use `nx.degee_histogram` to return a degree histogram — a list of numbers of nodes for each degree._"
      ]
    },
    {
      "cell_type": "code",
      "execution_count": null,
      "id": "52d4bd40",
      "metadata": {
        "id": "52d4bd40",
        "colab": {
          "base_uri": "https://localhost:8080/"
        },
        "outputId": "36e9a395-218f-4a7e-c724-44f7df914019"
      },
      "outputs": [
        {
          "output_type": "execute_result",
          "data": {
            "text/plain": [
              "[0, 75, 46, 24, 6, 4, 2, 1, 2]"
            ]
          },
          "metadata": {},
          "execution_count": 26
        }
      ],
      "source": [
        "nx.degree_histogram(g)"
      ]
    },
    {
      "cell_type": "code",
      "execution_count": null,
      "id": "0f060c4a",
      "metadata": {
        "deletable": false,
        "nbgrader": {
          "cell_type": "code",
          "checksum": "bc0bf47192b76ea6bcdde2ddec48367f",
          "grade": false,
          "grade_id": "cell-cbb478364b51233f",
          "locked": false,
          "schema_version": 3,
          "solution": true,
          "task": false
        },
        "id": "0f060c4a"
      },
      "outputs": [],
      "source": [
        "def empirical_cdf(g: nx.Graph) -> List[float]:\n",
        "    hist = nx.degree_histogram(g)\n",
        "    return np.cumsum(hist) / sum(hist)"
      ]
    },
    {
      "cell_type": "code",
      "execution_count": null,
      "id": "ad1ce8f2",
      "metadata": {
        "deletable": false,
        "editable": false,
        "nbgrader": {
          "cell_type": "code",
          "checksum": "be0a78510d100839e04c8a2ff820c361",
          "grade": true,
          "grade_id": "cell-a1fd6b06aff25d78",
          "locked": true,
          "points": 0,
          "schema_version": 3,
          "solution": false,
          "task": false
        },
        "id": "ad1ce8f2"
      },
      "outputs": [],
      "source": [
        "ecdf = empirical_cdf(gg)\n",
        "assert ecdf[0] == 0\n",
        "assert ecdf[-1] == 1\n",
        "assert np.all(ecdf[:-1] <= ecdf[1:])\n",
        "assert adler32(str(empirical_cdf(gg).round(4).sum()).encode()) == 70123823"
      ]
    },
    {
      "cell_type": "code",
      "execution_count": null,
      "id": "e1382886",
      "metadata": {
        "id": "e1382886",
        "colab": {
          "base_uri": "https://localhost:8080/",
          "height": 295
        },
        "outputId": "0f94dbb9-f0f8-4fb3-a8d3-8264cfc5676d"
      },
      "outputs": [
        {
          "output_type": "display_data",
          "data": {
            "text/plain": [
              "<Figure size 432x288 with 1 Axes>"
            ],
            "image/png": "[encoded data removed]"
          },
          "metadata": {
            "needs_background": "light"
          }
        }
      ],
      "source": [
        "plt.plot(ecdf)\n",
        "plt.xlabel('degree')\n",
        "plt.ylabel('probability')\n",
        "plt.title('Empirical CDF')\n",
        "plt.show()"
      ]
    },
    {
      "cell_type": "markdown",
      "id": "fc62f514",
      "metadata": {
        "id": "fc62f514"
      },
      "source": [
        "### Task 3. Power law CDF (0 points)"
      ]
    },
    {
      "cell_type": "markdown",
      "id": "8440b273",
      "metadata": {
        "id": "8440b273"
      },
      "source": [
        "Scale-free network has a Power law degree distribution. Let us take a closer look at this distribution. The PDF of the Power law is \n",
        "\n",
        "$$ p(x) = Cx^{-\\alpha},$$ \n",
        "\n",
        "where $C$ is a normalization constant \n",
        "\n",
        "$$C = \\frac{\\alpha - 1}{x_{\\text{min}}^{-\\alpha + 1}}$$ \n",
        "\n",
        "and $\\alpha>1$ is called an exponent of the distribution. "
      ]
    },
    {
      "cell_type": "code",
      "execution_count": null,
      "id": "389988cc",
      "metadata": {
        "id": "389988cc"
      },
      "outputs": [],
      "source": [
        "def power_law_pdf(x, alpha=3.5, x_min=1):\n",
        "    C = (alpha - 1) / x_min ** (1 - alpha)\n",
        "    return C * x ** (-alpha)"
      ]
    },
    {
      "cell_type": "code",
      "execution_count": null,
      "id": "13160dc4",
      "metadata": {
        "id": "13160dc4",
        "colab": {
          "base_uri": "https://localhost:8080/",
          "height": 281
        },
        "outputId": "44a130aa-bdfe-45de-9f48-2be9d398ec13"
      },
      "outputs": [
        {
          "output_type": "display_data",
          "data": {
            "text/plain": [
              "<Figure size 432x288 with 1 Axes>"
            ],
            "image/png": "[encoded data removed]"
          },
          "metadata": {
            "needs_background": "light"
          }
        }
      ],
      "source": [
        "x_space = np.linspace(1, 10, 100)\n",
        "plt.plot(x_space, power_law_pdf(x_space))\n",
        "plt.title('Power Law PDF');"
      ]
    },
    {
      "cell_type": "markdown",
      "id": "88c4c4bc",
      "metadata": {
        "id": "88c4c4bc"
      },
      "source": [
        "Let us generate observations from a Power Law RV. The first step is to derive CDF of Powel law: $F(x) = P(X \\leq x)$\n",
        "\n",
        "$$F(x) = 1 - \\int_{x}^\\infty p(t) dt.$$\n",
        "\n",
        "Take the integral, derive CDF analytically and then write a function `power_law_cdf` with parameters `x`, `alpha` and `x_min`."
      ]
    },
    {
      "cell_type": "code",
      "execution_count": null,
      "id": "c8b291fc",
      "metadata": {
        "deletable": false,
        "nbgrader": {
          "cell_type": "code",
          "checksum": "dfa3158ba5ebe1454116372e3a44aec9",
          "grade": false,
          "grade_id": "cell-f682e125051975d6",
          "locked": false,
          "schema_version": 3,
          "solution": true,
          "task": false
        },
        "id": "c8b291fc"
      },
      "outputs": [],
      "source": [
        "def power_law_cdf(x, alpha=3.5, x_min=1):\n",
        "    return 1 - x ** (1 - alpha) / x_min ** (alpha - 1)"
      ]
    },
    {
      "cell_type": "code",
      "execution_count": null,
      "id": "2edbcc3c",
      "metadata": {
        "deletable": false,
        "editable": false,
        "nbgrader": {
          "cell_type": "code",
          "checksum": "c5026b776b780dfcbef35878e3db5366",
          "grade": true,
          "grade_id": "cell-87d0428f480773c4",
          "locked": true,
          "points": 0,
          "schema_version": 3,
          "solution": false,
          "task": false
        },
        "id": "2edbcc3c"
      },
      "outputs": [],
      "source": [
        "assert power_law_cdf(2, 2, 1) == 0.5\n",
        "assert power_law_cdf(10, 2, 1) == 0.9\n",
        "assert adler32(str(power_law_cdf(2, 3, 1)).encode()) == 32571595"
      ]
    },
    {
      "cell_type": "code",
      "execution_count": null,
      "id": "9e59aa27",
      "metadata": {
        "id": "9e59aa27",
        "colab": {
          "base_uri": "https://localhost:8080/",
          "height": 281
        },
        "outputId": "26242bc0-c4a6-4911-a03d-0819ff305339"
      },
      "outputs": [
        {
          "output_type": "display_data",
          "data": {
            "text/plain": [
              "<Figure size 432x288 with 1 Axes>"
            ],
            "image/png": "[encoded data removed]"
          },
          "metadata": {
            "needs_background": "light"
          }
        }
      ],
      "source": [
        "x_space = np.linspace(1, 10, 100)\n",
        "plt.plot(x_space, power_law_cdf(x_space))\n",
        "plt.title('Power Law CDF');"
      ]
    },
    {
      "cell_type": "markdown",
      "id": "3a34ca81",
      "metadata": {
        "id": "3a34ca81"
      },
      "source": [
        "### Task 4. Power law PPF (0 points)"
      ]
    },
    {
      "cell_type": "markdown",
      "id": "309549cb",
      "metadata": {
        "id": "309549cb"
      },
      "source": [
        "Let $X \\sim \\text{Power law}$. Next, define a random variable $R$, s.t. $R = F(X)$, so $R$ will be uniformly distributed on interval [0, 1] ([proof](https://en.wikipedia.org/wiki/Probability_integral_transform#Proof)). Good thing here is that we easily can generate uniformly distributed pseudorandom numbers and then transform them into Power Law. Let us find an expression for $x = F^{-1}(r)$, where $r$ is an observation from uniform distrubution on interval [0, 1]. \n",
        "\n",
        "Find an analytical form of $F^{-1}(r)$ and write a function `power_law_ppf` (percent point function, also known as a quantile) with parameters `r`, `alpha` and `x_min`. "
      ]
    },
    {
      "cell_type": "code",
      "execution_count": null,
      "id": "3e00b43a",
      "metadata": {
        "deletable": false,
        "nbgrader": {
          "cell_type": "code",
          "checksum": "be67ee873cb3bf60c2e62921b187b228",
          "grade": false,
          "grade_id": "cell-63a819b2bc8441f1",
          "locked": false,
          "schema_version": 3,
          "solution": true,
          "task": false
        },
        "id": "3e00b43a"
      },
      "outputs": [],
      "source": [
        "def power_law_ppf(r, alpha=3.5, x_min=1):\n",
        "    return (1 - r) ** (1 / (1 - alpha)) / x_min"
      ]
    },
    {
      "cell_type": "code",
      "execution_count": null,
      "id": "79588cd3",
      "metadata": {
        "deletable": false,
        "editable": false,
        "nbgrader": {
          "cell_type": "code",
          "checksum": "1e6ca2ea8df06ab41316d28339f43b53",
          "grade": true,
          "grade_id": "cell-0b447767612a3798",
          "locked": true,
          "points": 0,
          "schema_version": 3,
          "solution": false,
          "task": false
        },
        "id": "79588cd3"
      },
      "outputs": [],
      "source": [
        "assert round(power_law_ppf(0.5, 2, 1), 2) == 2\n",
        "assert round(power_law_ppf(0.9, 2, 1), 2) == 10\n",
        "assert adler32(str(round(power_law_ppf(0.96, 3, 1), 2)).encode()) == 19792020"
      ]
    },
    {
      "cell_type": "code",
      "execution_count": null,
      "id": "589fbabc",
      "metadata": {
        "id": "589fbabc",
        "colab": {
          "base_uri": "https://localhost:8080/",
          "height": 281
        },
        "outputId": "01631d9c-e123-4825-e029-2328d54e094b"
      },
      "outputs": [
        {
          "output_type": "display_data",
          "data": {
            "text/plain": [
              "<Figure size 432x288 with 1 Axes>"
            ],
            "image/png": "[encoded data removed]"
          },
          "metadata": {
            "needs_background": "light"
          }
        }
      ],
      "source": [
        "x_space = np.linspace(0, 0.999, 100)\n",
        "plt.plot(x_space, power_law_ppf(x_space))\n",
        "plt.title('Power Law PPF');"
      ]
    },
    {
      "cell_type": "markdown",
      "id": "1f52a553",
      "metadata": {
        "id": "1f52a553"
      },
      "source": [
        "Finally, we can generate observation from Power law distribution as follows:\n",
        "1. Generate observation from uniform distribution on interval [0, 1]\n",
        "2. Calculate PPF value of given observation"
      ]
    },
    {
      "cell_type": "code",
      "execution_count": null,
      "id": "64e86aa6",
      "metadata": {
        "id": "64e86aa6"
      },
      "outputs": [],
      "source": [
        "def power_law_generate(n, alpha=3.5, x_min=1, random_seed=1):\n",
        "    np.random.seed(random_seed)\n",
        "    uni_sample = np.random.uniform(0, 0.999, n)\n",
        "    return power_law_ppf(uni_sample, alpha, x_min)"
      ]
    },
    {
      "cell_type": "markdown",
      "id": "c6de778e",
      "metadata": {
        "id": "c6de778e"
      },
      "source": [
        "Look at the histogram of the generated sample"
      ]
    },
    {
      "cell_type": "code",
      "execution_count": null,
      "id": "8e828014",
      "metadata": {
        "id": "8e828014"
      },
      "outputs": [],
      "source": [
        "alpha = 3.5\n",
        "x_min = 1\n",
        "x_train = power_law_generate(1000, alpha, x_min)\n",
        "x_space = np.linspace(1, 15, 100)"
      ]
    },
    {
      "cell_type": "code",
      "execution_count": null,
      "id": "46f77ba6",
      "metadata": {
        "id": "46f77ba6",
        "colab": {
          "base_uri": "https://localhost:8080/",
          "height": 265
        },
        "outputId": "ccc32eac-a6cb-4eeb-c660-051f1d3f7f2b"
      },
      "outputs": [
        {
          "output_type": "display_data",
          "data": {
            "text/plain": [
              "<Figure size 432x288 with 1 Axes>"
            ],
            "image/png": "[encoded data removed]"
          },
          "metadata": {
            "needs_background": "light"
          }
        }
      ],
      "source": [
        "hist, bin_edges = np.histogram(x_train, bins=200, density=True)\n",
        "bin_centers = (bin_edges[1:] + bin_edges[:-1]) / 2\n",
        "plt.scatter(bin_centers[hist > 0], hist[hist > 0], s=10)\n",
        "plt.plot(x_space, power_law_pdf(x_space, alpha, x_min), \n",
        "         label='Theoretical PDF', c='tab:orange')\n",
        "plt.legend()\n",
        "plt.xlim(1, 10)\n",
        "plt.show()"
      ]
    },
    {
      "cell_type": "markdown",
      "id": "4add7a1a",
      "metadata": {
        "id": "4add7a1a"
      },
      "source": [
        "And here is the same histogram in log-log scale"
      ]
    },
    {
      "cell_type": "code",
      "execution_count": null,
      "id": "64426a95",
      "metadata": {
        "id": "64426a95",
        "colab": {
          "base_uri": "https://localhost:8080/",
          "height": 269
        },
        "outputId": "cd036ab4-7403-48a4-eaca-03346281534e"
      },
      "outputs": [
        {
          "output_type": "display_data",
          "data": {
            "text/plain": [
              "<Figure size 432x288 with 1 Axes>"
            ],
            "image/png": "[encoded data removed]"
          },
          "metadata": {
            "needs_background": "light"
          }
        }
      ],
      "source": [
        "hist, bin_edges = np.histogram(x_train, bins=200, density=True)\n",
        "bin_centers = (bin_edges[1:] + bin_edges[:-1]) / 2\n",
        "plt.scatter(bin_centers, hist, s=10)\n",
        "plt.plot(x_space, power_law_pdf(x_space, alpha, x_min), \n",
        "         label='Theoretical PDF', c='tab:orange')\n",
        "plt.legend()\n",
        "plt.xscale('log')\n",
        "plt.yscale('log')\n",
        "plt.xlim(1, 10)\n",
        "plt.show()"
      ]
    },
    {
      "cell_type": "markdown",
      "id": "32e9fe25",
      "metadata": {
        "id": "32e9fe25"
      },
      "source": [
        "### Task 5. Estimation of alpha with linear binning (0 points)"
      ]
    },
    {
      "cell_type": "markdown",
      "id": "e4c55fd8",
      "metadata": {
        "id": "e4c55fd8"
      },
      "source": [
        "Given observations from the Power Law distribution, try to estimate $\\alpha$. The easiest way is to draw an empirical PDF with linear binning in log-log scale and apply linear regression. By _linear binning_ we mean to keep a bin width is fixed.\n",
        "\n",
        "Write a function `alpha_lin_bins` that takes a train set, number of linear bins and returns an estimated $\\alpha$.\n",
        "\n",
        "_Hints:_\n",
        "* _Take log in both side of $p(x) = Cx^{-\\alpha}$_\n",
        "* _To calculate an empirical PDF, use `np.histogram(x_train, bins=bins, density=True)`_\n",
        "* _To calculate pseudoinverse matrix, use `np.linalg.pinv`_\n",
        "* _Also you can fit `sklearn.linear.LinearRegression`_"
      ]
    },
    {
      "cell_type": "code",
      "execution_count": null,
      "id": "052fec24",
      "metadata": {
        "deletable": false,
        "nbgrader": {
          "cell_type": "code",
          "checksum": "98c4c6ef2ed0c2d94c440d3e8e932b7e",
          "grade": false,
          "grade_id": "cell-c57a5c7c5834b80e",
          "locked": false,
          "schema_version": 3,
          "solution": true,
          "task": false
        },
        "id": "052fec24"
      },
      "outputs": [],
      "source": [
        "from sklearn.linear_model import LinearRegression\n",
        "def alpha_lin_bins(x_train, bins):\n",
        "    prob, degree = np.histogram(x_train, bins=bins, density=True)\n",
        "    degree = (degree[:-1] + degree[1:]) / 2\n",
        "    idx = np.argwhere(prob > 0)\n",
        "    prob = np.log(prob[idx])\n",
        "    degree = np.log(degree[idx])[:, 0]\n",
        "    lr = LinearRegression()\n",
        "    lr.fit(degree.reshape(-1, 1), (prob))\n",
        "    return -lr.coef_[0][0]\n",
        "    "
      ]
    },
    {
      "cell_type": "code",
      "execution_count": null,
      "id": "7ace834e",
      "metadata": {
        "deletable": false,
        "editable": false,
        "nbgrader": {
          "cell_type": "code",
          "checksum": "de1fcde9e88bb74af93932b7dea4402d",
          "grade": true,
          "grade_id": "cell-b9cf21aabb190bd7",
          "locked": true,
          "points": 0,
          "schema_version": 3,
          "solution": false,
          "task": false
        },
        "id": "7ace834e"
      },
      "outputs": [],
      "source": [
        "bins = 100\n",
        "x_train = power_law_generate(1000, x_min=1, alpha=2)\n",
        "assert np.abs(alpha_lin_bins(x_train, bins) - 2) < 0.7\n",
        "x_train = power_law_generate(1000, x_min=1, alpha=3.5)\n",
        "assert np.abs(alpha_lin_bins(x_train, bins) - 3.5) < 0.9\n",
        "x_train = power_law_generate(1000, x_min=1, alpha=10)\n",
        "assert np.abs(alpha_lin_bins(x_train, bins) - 10) < 2"
      ]
    },
    {
      "cell_type": "code",
      "execution_count": null,
      "id": "ba02d618",
      "metadata": {
        "id": "ba02d618",
        "colab": {
          "base_uri": "https://localhost:8080/",
          "height": 285
        },
        "outputId": "72ee756c-955a-475b-e344-fa2722ccf33e"
      },
      "outputs": [
        {
          "output_type": "display_data",
          "data": {
            "text/plain": [
              "<Figure size 432x288 with 1 Axes>"
            ],
            "image/png": "[encoded data removed]"
          },
          "metadata": {
            "needs_background": "light"
          }
        }
      ],
      "source": [
        "x_min = 1\n",
        "alpha = 3.5\n",
        "bins = 100\n",
        "\n",
        "x_train = power_law_generate(1000, alpha, x_min)\n",
        "hist, bin_edges = np.histogram(x_train, bins=bins, density=True)\n",
        "bin_centers = (bin_edges[1:] + bin_edges[:-1]) / 2\n",
        "plt.scatter(bin_centers, hist, s=10)\n",
        "\n",
        "hat_alpha = alpha_lin_bins(x_train, bins)\n",
        "x_space = np.linspace(x_min, x_train.max(), 100)\n",
        "plt.plot(x_space, power_law_pdf(x_space, hat_alpha, x_min), \n",
        "         label='Estimated PDF', c='tab:orange')\n",
        "plt.legend()\n",
        "plt.title('Truth alpha = {:.2f}, estimated alpha = {:.2f}'.format(alpha, hat_alpha))\n",
        "plt.xscale('log')\n",
        "plt.yscale('log')\n",
        "plt.show()"
      ]
    },
    {
      "cell_type": "markdown",
      "id": "98bf63bd",
      "metadata": {
        "id": "98bf63bd"
      },
      "source": [
        "### Task 6. Estimation of alpha with logarithmic binning (3 points)"
      ]
    },
    {
      "cell_type": "markdown",
      "id": "382fe125",
      "metadata": {
        "id": "382fe125"
      },
      "source": [
        "As we see the estimation with linear binning is noticeably inaccurate. For logarithmic binning we let the bin sizes increase with the value, making sure that each bin has a comparable number of observations.\n",
        "\n",
        "Write a function `alpha_log_bins` that takes a train set, number of log bins and returns an estimated $\\alpha$."
      ]
    },
    {
      "cell_type": "code",
      "execution_count": null,
      "id": "7ec9e8b9",
      "metadata": {
        "deletable": false,
        "nbgrader": {
          "cell_type": "code",
          "checksum": "f20a7d7035785da992e45b13ecfac97b",
          "grade": false,
          "grade_id": "cell-bc1092822f8126d1",
          "locked": false,
          "schema_version": 3,
          "solution": true,
          "task": false
        },
        "id": "7ec9e8b9"
      },
      "outputs": [],
      "source": [
        "def alpha_log_bins(x_train, bins):\n",
        "    bins = np.logspace(np.log10(min(x_train)), np.log10(max(x_train)), bins)\n",
        "    prob, degree = np.histogram(x_train, bins=bins, density=True)\n",
        "    degree = (degree[:-1] + degree[1:]) / 2\n",
        "    idx = np.argwhere(prob > 0)\n",
        "    prob = np.log(prob[idx])\n",
        "    degree = np.log(degree[idx])[:, 0]\n",
        "    lr = LinearRegression()\n",
        "    lr.fit(degree.reshape(-1, 1), (prob))\n",
        "    return -lr.coef_[0][0]"
      ]
    },
    {
      "cell_type": "code",
      "execution_count": null,
      "id": "89bbb9e6",
      "metadata": {
        "deletable": false,
        "editable": false,
        "nbgrader": {
          "cell_type": "code",
          "checksum": "07b36548e304b6853f9cac274e989b4f",
          "grade": true,
          "grade_id": "cell-1bc5eba53dc73dbd",
          "locked": true,
          "points": 3,
          "schema_version": 3,
          "solution": false,
          "task": false
        },
        "id": "89bbb9e6"
      },
      "outputs": [],
      "source": [
        "bins = 100\n",
        "x_train = power_law_generate(1000, x_min=1, alpha=2)\n",
        "assert np.abs(alpha_log_bins(x_train, bins) - 2) < 0.2\n",
        "x_train = power_law_generate(1000, x_min=1, alpha=3.5)\n",
        "assert np.abs(alpha_log_bins(x_train, bins) - 3.5) < 0.5\n",
        "x_train = power_law_generate(1000, x_min=1, alpha=10)\n",
        "assert np.abs(alpha_log_bins(x_train, bins) - 10) < 1.5"
      ]
    },
    {
      "cell_type": "code",
      "execution_count": null,
      "id": "8c327b22",
      "metadata": {
        "id": "8c327b22",
        "colab": {
          "base_uri": "https://localhost:8080/",
          "height": 285
        },
        "outputId": "4f20a97e-1f09-462e-af6e-63fde308de95"
      },
      "outputs": [
        {
          "output_type": "display_data",
          "data": {
            "text/plain": [
              "<Figure size 432x288 with 1 Axes>"
            ],
            "image/png": "[encoded data removed]"
          },
          "metadata": {
            "needs_background": "light"
          }
        }
      ],
      "source": [
        "x_min = 1\n",
        "alpha = 3.5\n",
        "bins = 100\n",
        "\n",
        "x_train = power_law_generate(1000, alpha, x_min)\n",
        "binning = np.logspace(np.log10(x_min), np.log10(x_train.max()), bins)\n",
        "hist, bin_edges = np.histogram(x_train, bins=binning, density=True)\n",
        "bin_centers = (bin_edges[1:] + bin_edges[:-1]) / 2\n",
        "plt.scatter(bin_centers, hist, s=10)\n",
        "\n",
        "hat_alpha = alpha_log_bins(x_train, bins)\n",
        "x_space = np.linspace(x_min, x_train.max(), 100)\n",
        "plt.plot(x_space, power_law_pdf(x_space, hat_alpha, x_min), \n",
        "         label='Estimated PDF', c='tab:orange')\n",
        "plt.legend()\n",
        "plt.title('Truth alpha = {:.2f}, estimated alpha = {:.2f}'.format(alpha, hat_alpha))\n",
        "plt.xscale('log')\n",
        "plt.yscale('log')\n",
        "plt.show()"
      ]
    },
    {
      "cell_type": "markdown",
      "id": "ce44d66c",
      "metadata": {
        "id": "ce44d66c"
      },
      "source": [
        "### Task 7. Estimation parameters of Power Law by MLE (4 points)"
      ]
    },
    {
      "cell_type": "markdown",
      "source": [],
      "metadata": {
        "id": "snzfSUsKzfXR"
      },
      "id": "snzfSUsKzfXR"
    },
    {
      "cell_type": "markdown",
      "id": "34611258",
      "metadata": {
        "id": "34611258"
      },
      "source": [
        "Let us estimate $\\alpha$ and $x_\\min$ of a real social network using maximum likelihood. Here is a real degree distribution of the network of emails between members of the research institution with 1005 nodes."
      ]
    },
    {
      "cell_type": "code",
      "execution_count": null,
      "id": "1e9dc955",
      "metadata": {
        "id": "1e9dc955"
      },
      "outputs": [],
      "source": [
        "url = 'https://raw.githubusercontent.com/network-science-course/network-science-course/main/datasets/email_degree_sequence.txt'\n",
        "open('email_degree_sequence.txt', 'wb').write(requests.get(url).content);\n"
      ]
    },
    {
      "cell_type": "code",
      "execution_count": null,
      "id": "b6c199d0",
      "metadata": {
        "id": "b6c199d0"
      },
      "outputs": [],
      "source": [
        "degree_sequence = np.loadtxt('email_degree_sequence.txt')\n",
        "hist, bin_edges = np.histogram(degree_sequence, bins=1000, density=True)\n",
        "bin_centers = (bin_edges[1:] + bin_edges[:-1]) / 2\n",
        "plt.scatter(bin_centers[hist > 0], hist[hist > 0], s=5)\n",
        "plt.title('Email network degree distribution')\n",
        "plt.xscale('log')\n",
        "plt.yscale('log')"
      ]
    },
    {
      "cell_type": "markdown",
      "id": "253c306d",
      "metadata": {
        "id": "253c306d"
      },
      "source": [
        "The MLE consists of:\n",
        "1. Fix $x_\\min$ as a minimal node degree (drop node degrees that less than $x_\\min$)\n",
        "2. Calculate $\\alpha$ via maximum likelihood estimation using fixed $x_\\min$\n",
        "$$\\alpha = 1 + n \\left[\\sum_i \\log \\frac{x_i}{x_\\min} \\right]^{-1}$$\n",
        "3. Calculate Kolmogorov-Smirnov test\n",
        "4. Fix $x_\\min$ as the next node degree\n",
        "5. Repeat 2-4 by scanning all possible $x_\\min$ and find the best $\\alpha$ and $x_\\min$ with respect to Kolmogorov-Smirnov test\n",
        "\n",
        "Write a function `ml_power_law_params` that takes a node degree sequence `degree_sequence` and returns a tuple of two values: the best $\\alpha$ and $x_\\min$.\n",
        "\n",
        "_Hint: use `scipy.stats.kstest` where a theoretical CDF is a `power_law_cdf` function and `args=(alpha, k_min)`_"
      ]
    },
    {
      "cell_type": "code",
      "execution_count": null,
      "id": "4f5ed779",
      "metadata": {
        "deletable": false,
        "nbgrader": {
          "cell_type": "code",
          "checksum": "8bc64f253c03d807aade17cb9dee113b",
          "grade": false,
          "grade_id": "cell-c0da4153dae3178a",
          "locked": false,
          "schema_version": 3,
          "solution": true,
          "task": false
        },
        "id": "4f5ed779"
      },
      "outputs": [],
      "source": [
        "def mle_power_law_params(degree_sequence):\n",
        "    # YOUR CODE HERE\n",
        "    raise NotImplementedError()"
      ]
    },
    {
      "cell_type": "code",
      "execution_count": null,
      "id": "9d7e64d4",
      "metadata": {
        "deletable": false,
        "editable": false,
        "nbgrader": {
          "cell_type": "code",
          "checksum": "2518a3f99c2b843b16ef7bb099f6f5d8",
          "grade": true,
          "grade_id": "cell-213992ed205e9591",
          "locked": true,
          "points": 4,
          "schema_version": 3,
          "solution": false,
          "task": false
        },
        "id": "9d7e64d4"
      },
      "outputs": [],
      "source": [
        "alpha, x_min = 3.5, 3\n",
        "hat_alpha, hat_x_min = mle_power_law_params(power_law_generate(1000, alpha, x_min))\n",
        "assert np.abs(hat_alpha - alpha) < 0.05\n",
        "assert np.abs(hat_x_min - x_min) < 0.001\n",
        "\n",
        "alpha, x_min = 7, 1\n",
        "hat_alpha, hat_x_min = mle_power_law_params(power_law_generate(1000, alpha, x_min))\n",
        "assert np.abs(hat_alpha - alpha) < 0.1\n",
        "assert np.abs(hat_x_min - x_min) < 0.0001\n",
        "\n",
        "hat_alpha, hat_x_min = mle_power_law_params(degree_sequence)\n",
        "assert np.abs(hat_alpha - 2.9) < 0.1\n",
        "assert np.abs(hat_x_min - 42) < 1"
      ]
    },
    {
      "cell_type": "code",
      "execution_count": null,
      "id": "ca412d0a",
      "metadata": {
        "id": "ca412d0a"
      },
      "outputs": [],
      "source": [
        "hist, bin_edges = np.histogram(degree_sequence, bins=1000, density=True)\n",
        "bin_centers = (bin_edges[1:] + bin_edges[:-1]) / 2\n",
        "plt.scatter(bin_centers[hist > 0], hist[hist > 0], s=5)\n",
        "plt.title('Email network degree distribution')\n",
        "\n",
        "hat_alpha, hat_x_min = mle_power_law_params(degree_sequence)\n",
        "x_space = np.linspace(hat_x_min, degree_sequence.max(), 100)\n",
        "plt.plot(x_space, power_law_pdf(x_space, hat_alpha, hat_x_min), \n",
        "         label='Estimated PDF', c='tab:orange')\n",
        "plt.xscale('log')\n",
        "plt.yscale('log')\n",
        "plt.ylim(0.001, 0.5);"
      ]
    },
    {
      "cell_type": "markdown",
      "id": "02892a75",
      "metadata": {
        "id": "02892a75"
      },
      "source": [
        "### Task 8. QQ Plot (3 points)"
      ]
    },
    {
      "cell_type": "markdown",
      "id": "fc6c5db8",
      "metadata": {
        "id": "fc6c5db8"
      },
      "source": [
        "It might be useful to draw a quantile-quantile plot (QQ plot) to compare empirical and theoretical distributions by the eye. Your task here is to generate Power Law observations by given parameters and compare theoretical and empirical quantiles.\n",
        "\n",
        "Write a function `qqplot_data` that takes $\\alpha$, $x_\\min$, number of observations $n$ that will be generated and returns a tuple with two np.arrays: theoretical quantiles and empirical quantiles. Let quantiles be calculated for probabilities 0, 0.01, 0.02, ..., 0.99.\n",
        "\n",
        "_Hint: to calculate an empirical quantile, use `np.quantile`_"
      ]
    },
    {
      "cell_type": "code",
      "execution_count": null,
      "id": "711ce7aa",
      "metadata": {
        "deletable": false,
        "nbgrader": {
          "cell_type": "code",
          "checksum": "8eec986886f46027e0d0884381921de0",
          "grade": false,
          "grade_id": "cell-7536b41d94152420",
          "locked": false,
          "schema_version": 3,
          "solution": true,
          "task": false
        },
        "id": "711ce7aa"
      },
      "outputs": [],
      "source": [
        "def qqplot_data(alpha, x_min, n):\n",
        "    # YOUR CODE HERE\n",
        "    raise NotImplementedError()"
      ]
    },
    {
      "cell_type": "code",
      "execution_count": null,
      "id": "2bafc44f",
      "metadata": {
        "deletable": false,
        "editable": false,
        "nbgrader": {
          "cell_type": "code",
          "checksum": "cadf93302d494649d48b907845699beb",
          "grade": true,
          "grade_id": "cell-cee74bedb007dbfa",
          "locked": true,
          "points": 3,
          "schema_version": 3,
          "solution": false,
          "task": false
        },
        "id": "2bafc44f"
      },
      "outputs": [],
      "source": [
        "x_min = 1\n",
        "alpha = 3.5\n",
        "\n",
        "theor100, empir100 = qqplot_data(alpha, x_min, 100)\n",
        "theor200, empir200 = qqplot_data(alpha, x_min, 200)\n",
        "theor1000, empir1000 = qqplot_data(alpha, x_min, 1000)\n",
        "assert np.linalg.norm(theor1000 - empir1000) < np.linalg.norm(theor200 - empir200)\n",
        "assert np.linalg.norm(theor200 - empir200) < np.linalg.norm(theor100 - empir100)"
      ]
    },
    {
      "cell_type": "code",
      "execution_count": null,
      "id": "b0ea17b6",
      "metadata": {
        "id": "b0ea17b6"
      },
      "outputs": [],
      "source": [
        "plt.figure(figsize=(12, 3))\n",
        "\n",
        "plt.subplots_adjust(wspace=0.3)\n",
        "\n",
        "plt.subplot(1, 3, 1)\n",
        "plt.scatter(theor100, empir100, s=10)\n",
        "plt.plot([1, 7], [1, 7], '--', c='tab:orange')\n",
        "plt.title('QQ plot, N = 100')\n",
        "plt.xlabel('Theoretical distribution')\n",
        "plt.ylabel('Empirical distribution')\n",
        "plt.axis('square')\n",
        "\n",
        "plt.subplot(1, 3, 2)\n",
        "plt.scatter(theor200, empir200, s=10)\n",
        "plt.plot([1, 7], [1, 7], '--', c='tab:orange')\n",
        "plt.title('QQ plot, N = 200')\n",
        "plt.xlabel('Theoretical distribution')\n",
        "plt.ylabel('Empirical distribution')\n",
        "plt.axis('square')\n",
        "\n",
        "plt.subplot(1, 3, 3)\n",
        "plt.scatter(theor1000, empir1000, s=10)\n",
        "plt.plot([1, 7], [1, 7], '--', c='tab:orange')\n",
        "plt.title('QQ plot, N = 1000')\n",
        "plt.xlabel('Theoretical distribution')\n",
        "plt.ylabel('Empirical distribution')\n",
        "plt.axis('square');"
      ]
    },
    {
      "cell_type": "code",
      "execution_count": null,
      "id": "e2217695",
      "metadata": {
        "id": "e2217695"
      },
      "outputs": [],
      "source": []
    }
  ],
  "metadata": {
    "kernelspec": {
      "display_name": "Python 3 (ipykernel)",
      "language": "python",
      "name": "python3"
    },
    "language_info": {
      "codemirror_mode": {
        "name": "ipython",
        "version": 3
      },
      "file_extension": ".py",
      "mimetype": "text/x-python",
      "name": "python",
      "nbconvert_exporter": "python",
      "pygments_lexer": "ipython3",
      "version": "3.10.8"
    },
    "colab": {
      "provenance": [],
      "include_colab_link": true
    }
  },
  "nbformat": 4,
  "nbformat_minor": 5
}