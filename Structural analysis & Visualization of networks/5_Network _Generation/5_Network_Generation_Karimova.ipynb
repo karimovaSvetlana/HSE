{
 "cells": [
  {
   "cell_type": "code",
   "execution_count": 39,
   "id": "997f8c27",
   "metadata": {},
   "outputs": [
    {
     "ename": "AssertionError",
     "evalue": "Ошибка: вероятности не суммируются в 1",
     "output_type": "error",
     "traceback": [
      "\u001b[0;31m---------------------------------------------------------------------------\u001b[0m",
      "\u001b[0;31mAssertionError\u001b[0m                            Traceback (most recent call last)",
      "\u001b[0;32m<ipython-input-39-fa494cf75dd5>\u001b[0m in \u001b[0;36m<module>\u001b[0;34m\u001b[0m\n\u001b[1;32m     12\u001b[0m \u001b[0mdegree_seq\u001b[0m \u001b[0;34m=\u001b[0m \u001b[0mnp\u001b[0m\u001b[0;34m.\u001b[0m\u001b[0marray\u001b[0m\u001b[0;34m(\u001b[0m\u001b[0mstats\u001b[0m\u001b[0;34m[\u001b[0m\u001b[0;34m'degree_cdf'\u001b[0m\u001b[0;34m]\u001b[0m\u001b[0;34m[\u001b[0m\u001b[0;36m0\u001b[0m\u001b[0;34m]\u001b[0m\u001b[0;34m)\u001b[0m  \u001b[0;31m# последовательность степеней\u001b[0m\u001b[0;34m\u001b[0m\u001b[0;34m\u001b[0m\u001b[0m\n\u001b[1;32m     13\u001b[0m \u001b[0mdegree_prob\u001b[0m \u001b[0;34m=\u001b[0m \u001b[0mnp\u001b[0m\u001b[0;34m.\u001b[0m\u001b[0marray\u001b[0m\u001b[0;34m(\u001b[0m\u001b[0mstats\u001b[0m\u001b[0;34m[\u001b[0m\u001b[0;34m'degree_cdf'\u001b[0m\u001b[0;34m]\u001b[0m\u001b[0;34m[\u001b[0m\u001b[0;36m1\u001b[0m\u001b[0;34m]\u001b[0m\u001b[0;34m)\u001b[0m  \u001b[0;31m# вероятности степеней\u001b[0m\u001b[0;34m\u001b[0m\u001b[0;34m\u001b[0m\u001b[0m\n\u001b[0;32m---> 14\u001b[0;31m \u001b[0;32massert\u001b[0m \u001b[0mnp\u001b[0m\u001b[0;34m.\u001b[0m\u001b[0misclose\u001b[0m\u001b[0;34m(\u001b[0m\u001b[0mnp\u001b[0m\u001b[0;34m.\u001b[0m\u001b[0msum\u001b[0m\u001b[0;34m(\u001b[0m\u001b[0mdegree_prob\u001b[0m\u001b[0;34m)\u001b[0m\u001b[0;34m,\u001b[0m \u001b[0;36m1.0\u001b[0m\u001b[0;34m)\u001b[0m\u001b[0;34m,\u001b[0m \u001b[0;34m\"Ошибка: вероятности не суммируются в 1\"\u001b[0m\u001b[0;34m\u001b[0m\u001b[0;34m\u001b[0m\u001b[0m\n\u001b[0m\u001b[1;32m     15\u001b[0m \u001b[0;34m\u001b[0m\u001b[0m\n\u001b[1;32m     16\u001b[0m \u001b[0;31m# настройка для генератора случайных чисел\u001b[0m\u001b[0;34m\u001b[0m\u001b[0;34m\u001b[0m\u001b[0;34m\u001b[0m\u001b[0m\n",
      "\u001b[0;31mAssertionError\u001b[0m: Ошибка: вероятности не суммируются в 1"
     ]
    }
   ],
   "source": [
    "import ast\n",
    "import random\n",
    "import numpy as np\n",
    "import networkx as nx\n",
    "import matplotlib.pyplot as plt\n",
    "\n",
    "# загрузка статистик из файла\n",
    "with open('stats.txt', 'r') as f:\n",
    "    stats = ast.literal_eval(f.read())\n",
    "\n",
    "n = stats['number_nodes']  # число узлов\n",
    "degree_seq = np.array(stats['degree_cdf'][0])  # последовательность степеней\n",
    "degree_prob = np.array(stats['degree_cdf'][1])  # вероятности степеней\n",
    "assert np.isclose(np.sum(degree_prob), 1.0), \"Ошибка: вероятности не суммируются в 1\"\n",
    "\n",
    "# настройка для генератора случайных чисел\n",
    "random.seed(42)\n",
    "np.random.seed(42)\n",
    "\n",
    "# конфигурационная модель\n",
    "G = nx.configuration_model(degree_seq)\n",
    "\n",
    "# проверка на нечетную сумму степеней\n",
    "if sum(nx.degree(G)) % 2 != 0:\n",
    "    G.remove_edge(random.choice(list(G.edges())))\n",
    "\n",
    "# устранение параллельных ребер и петель\n",
    "G = nx.Graph(G)\n",
    "\n",
    "# присваивание случайных весов ребрам\n",
    "for (u, v) in G.edges():\n",
    "    G[u][v]['weight'] = random.random()\n",
    "\n",
    "# расчет статистик графа\n",
    "num_cc = nx.number_connected_components(G)  # количество связных компонент\n",
    "giant_cc = max(nx.connected_components(G), key=len)  # наибольшая связная компонента\n",
    "radius = nx.radius(G.subgraph(giant_cc))  # радиус наибольшей связной компоненты\n",
    "diameter = nx.diameter(G.subgraph(giant_cc))  # диаметр наибольшей связной компоненты\n",
    "avg_clustering = nx.average_clustering(G)  # средний коэффициент кластеризации\n",
    "avg_path_length = nx.average_shortest_path_length(G)  # средняя длина пути\n",
    "\n",
    "# вывод статистик\n",
    "print(\"Количество узлов:\", n)\n",
    "print(\"Количество связных компонент:\", num_cc)\n",
    "print(\"Радиус наибольшей связной компоненты:\", radius)\n",
    "print(\"Диаметр наибольшей связной компоненты:\", diameter)\n",
    "print(\"Средний коэффициент кластеризации:\", avg_clustering)\n",
    "print(\"Средняя длина пути:\", avg_path_length)\n",
    "\n",
    "# вывод графа\n",
    "plt.figure(figsize=(8, 8))\n",
    "pos = nx.spring_layout(G, k=0.1)\n",
    "nx.draw_networkx_nodes(G, pos, node_size=50, node_color=\"blue\")\n",
    "nx.draw_networkx_edges(G, pos, alpha=0.1)\n",
    "plt.axis(\"off\")\n",
    "plt.show()\n",
    "\n",
    "# # сохранение списка ребер\n",
    "# with open('edges.txt', 'w') as f:\n",
    "#     f.write('f\"{e}"
   ]
  },
  {
   "cell_type": "code",
   "execution_count": null,
   "id": "f20d502d",
   "metadata": {},
   "outputs": [],
   "source": []
  }
 ],
 "metadata": {
  "kernelspec": {
   "display_name": "Python 3",
   "language": "python",
   "name": "python3"
  },
  "language_info": {
   "codemirror_mode": {
    "name": "ipython",
    "version": 3
   },
   "file_extension": ".py",
   "mimetype": "text/x-python",
   "name": "python",
   "nbconvert_exporter": "python",
   "pygments_lexer": "ipython3",
   "version": "3.8.8"
  },
  "toc": {
   "base_numbering": 1,
   "nav_menu": {},
   "number_sections": true,
   "sideBar": true,
   "skip_h1_title": false,
   "title_cell": "Table of Contents",
   "title_sidebar": "Contents",
   "toc_cell": false,
   "toc_position": {},
   "toc_section_display": true,
   "toc_window_display": true
  }
 },
 "nbformat": 4,
 "nbformat_minor": 5
}
