{
 "cells": [
  {
   "cell_type": "code",
   "execution_count": 1,
   "metadata": {},
   "outputs": [],
   "source": [
    "import networkx as nx\n",
    "import matplotlib.pyplot as plt\n",
    "import numpy as np\n",
    "import pandas as pd\n",
    "from scipy.stats import ks_2samp\n",
    "import random\n",
    "import scipy\n",
    "import ast"
   ]
  },
  {
   "cell_type": "code",
   "execution_count": 2,
   "metadata": {},
   "outputs": [],
   "source": [
    "with open('stats.txt') as t:\n",
    "    stats = t.read()"
   ]
  },
  {
   "cell_type": "code",
   "execution_count": 3,
   "metadata": {},
   "outputs": [],
   "source": [
    "stats = ast.literal_eval(stats)"
   ]
  },
  {
   "cell_type": "code",
   "execution_count": 4,
   "metadata": {},
   "outputs": [
    {
     "data": {
      "image/png": "[encoded data removed]",
      "text/plain": [
       "<Figure size 432x288 with 1 Axes>"
      ]
     },
     "metadata": {
      "needs_background": "light"
     },
     "output_type": "display_data"
    }
   ],
   "source": [
    "q_seq, p_seq = stats['degree_cdf']\n",
    "plt.plot(\n",
    "        np.append(np.repeat(q_seq, 2)[1:], q_seq[-1]), \n",
    "        np.repeat(p_seq, 2)\n",
    "    )\n",
    "plt.show()"
   ]
  },
  {
   "cell_type": "code",
   "execution_count": 5,
   "metadata": {},
   "outputs": [
    {
     "data": {
      "text/plain": [
       "{'number_nodes': 1882,\n",
       " 'radius': [15, 2],\n",
       " 'diameter': [28, 4],\n",
       " 'average_clustering': [0.005066798238955518, 0.001],\n",
       " 'average_path_length': [11.748410823170731, 2],\n",
       " 'number_cc': [168, 32],\n",
       " 'degree_cdf': [[0,\n",
       "   1,\n",
       "   2,\n",
       "   3,\n",
       "   4,\n",
       "   5,\n",
       "   6,\n",
       "   7,\n",
       "   8,\n",
       "   9,\n",
       "   10,\n",
       "   11,\n",
       "   12,\n",
       "   13,\n",
       "   14,\n",
       "   15,\n",
       "   16,\n",
       "   17,\n",
       "   19,\n",
       "   21,\n",
       "   24,\n",
       "   46],\n",
       "  [0.0,\n",
       "   0.6902231668437833,\n",
       "   0.8517534537725824,\n",
       "   0.9086078639744952,\n",
       "   0.9378320935175345,\n",
       "   0.9516471838469713,\n",
       "   0.9654622741764081,\n",
       "   0.9723698193411264,\n",
       "   0.9776833156216791,\n",
       "   0.9808714133900106,\n",
       "   0.9845908607863975,\n",
       "   0.9888416578108395,\n",
       "   0.9893730074388948,\n",
       "   0.9925611052072264,\n",
       "   0.9936238044633369,\n",
       "   0.9952178533475027,\n",
       "   0.9957492029755579,\n",
       "   0.9968119022316685,\n",
       "   0.997874601487779,\n",
       "   0.9989373007438895,\n",
       "   0.9994686503719448,\n",
       "   1.0]]}"
      ]
     },
     "execution_count": 5,
     "metadata": {},
     "output_type": "execute_result"
    }
   ],
   "source": [
    "n_nodes = stats['number_nodes']\n",
    "r = stats['radius']\n",
    "d = stats['diameter']\n",
    "avg_clustering = stats['average_clustering']\n",
    "avg_path_len = stats['average_path_length']\n",
    "n_cc = stats['number_cc']\n",
    "deg_cdf = stats['degree_cdf']\n",
    "stats"
   ]
  },
  {
   "cell_type": "code",
   "execution_count": 6,
   "metadata": {},
   "outputs": [],
   "source": [
    "nodes = [i for i in range(1882)]\n",
    "edges = []\n",
    "for i in range(1882):\n",
    "    for j in range(i+1, 1882):\n",
    "        edge = np.random.binomial(1, 0.001)\n",
    "        if edge==1:\n",
    "            edges.append(tuple((nodes[i], nodes[j])))\n",
    "G = nx.Graph()\n",
    "G.add_nodes_from(nodes)\n",
    "G.add_edges_from(edges)\n",
    "connected_c = nx.connected_components(G)"
   ]
  },
  {
   "cell_type": "code",
   "execution_count": 7,
   "metadata": {},
   "outputs": [],
   "source": [
    "max_connected_c = list(max(list(connected_c)))"
   ]
  },
  {
   "cell_type": "code",
   "execution_count": 8,
   "metadata": {},
   "outputs": [],
   "source": [
    "edges = []\n",
    "for i in max_connected_c:\n",
    "    for j in G.edges(i):\n",
    "        edges.append(j)\n",
    "subG = nx.Graph()\n",
    "subG.add_edges_from(edges)"
   ]
  },
  {
   "cell_type": "code",
   "execution_count": 9,
   "metadata": {},
   "outputs": [
    {
     "data": {
      "text/plain": [
       "1378"
      ]
     },
     "execution_count": 9,
     "metadata": {},
     "output_type": "execute_result"
    }
   ],
   "source": [
    "nx.number_of_nodes(subG)"
   ]
  },
  {
   "cell_type": "code",
   "execution_count": 10,
   "metadata": {},
   "outputs": [
    {
     "data": {
      "text/plain": [
       "16"
      ]
     },
     "execution_count": 10,
     "metadata": {},
     "output_type": "execute_result"
    }
   ],
   "source": [
    "nx.radius(subG)"
   ]
  },
  {
   "cell_type": "code",
   "execution_count": 11,
   "metadata": {},
   "outputs": [
    {
     "data": {
      "text/plain": [
       "30"
      ]
     },
     "execution_count": 11,
     "metadata": {},
     "output_type": "execute_result"
    }
   ],
   "source": [
    "nx.diameter(subG)"
   ]
  },
  {
   "cell_type": "code",
   "execution_count": 12,
   "metadata": {},
   "outputs": [
    {
     "data": {
      "text/plain": [
       "0.0"
      ]
     },
     "execution_count": 12,
     "metadata": {},
     "output_type": "execute_result"
    }
   ],
   "source": [
    "nx.average_clustering(subG)"
   ]
  },
  {
   "cell_type": "code",
   "execution_count": 13,
   "metadata": {},
   "outputs": [
    {
     "data": {
      "text/plain": [
       "11.076042974304166"
      ]
     },
     "execution_count": 13,
     "metadata": {},
     "output_type": "execute_result"
    }
   ],
   "source": [
    "nx.average_shortest_path_length(subG)"
   ]
  },
  {
   "cell_type": "code",
   "execution_count": 14,
   "metadata": {},
   "outputs": [
    {
     "data": {
      "text/plain": [
       "1"
      ]
     },
     "execution_count": 14,
     "metadata": {},
     "output_type": "execute_result"
    }
   ],
   "source": [
    "nx.number_connected_components(subG)"
   ]
  },
  {
   "cell_type": "code",
   "execution_count": 15,
   "metadata": {},
   "outputs": [],
   "source": [
    "degrees = dict(G.degree)\n",
    "zero_deg = []\n",
    "for i in degrees:\n",
    "    if degrees[i] == 0:\n",
    "        zero_deg.append(i)"
   ]
  },
  {
   "cell_type": "code",
   "execution_count": 16,
   "metadata": {},
   "outputs": [],
   "source": [
    "zero_deg_1 = zero_deg[:len(zero_deg)//2]\n",
    "zero_deg_2 = zero_deg[len(zero_deg)//2:len(zero_deg)//2+len(zero_deg_1)]\n",
    "if len(zero_deg_1) != len(zero_deg_2):\n",
    "    zero_deg = zip(zero_deg_1.extend(max_connected_c[0]), zero_deg_2)\n",
    "else:\n",
    "    zero_deg = zip(zero_deg_1, zero_deg_2)\n",
    "G.add_edges_from(zero_deg)"
   ]
  },
  {
   "cell_type": "code",
   "execution_count": 17,
   "metadata": {},
   "outputs": [],
   "source": [
    "node_degrees = []\n",
    "for i in G.nodes:\n",
    "    node_degrees.append(G.edges(i))"
   ]
  },
  {
   "cell_type": "code",
   "execution_count": 18,
   "metadata": {},
   "outputs": [],
   "source": [
    "nodes_1 = sorted(node_degrees, key=len, reverse=True)[100]\n",
    "nodes_2 = sorted(node_degrees, key=len, reverse=True)[110]\n",
    "GG = nx.Graph()\n",
    "GG.add_edges_from(nodes_1)\n",
    "GG.add_edges_from(nodes_2)"
   ]
  },
  {
   "cell_type": "code",
   "execution_count": 19,
   "metadata": {},
   "outputs": [],
   "source": [
    "last_G = nx.complete_graph(GG.nodes)\n",
    "G.add_edges_from(last_G.edges)"
   ]
  },
  {
   "cell_type": "code",
   "execution_count": 20,
   "metadata": {},
   "outputs": [
    {
     "data": {
      "text/plain": [
       "222"
      ]
     },
     "execution_count": 20,
     "metadata": {},
     "output_type": "execute_result"
    }
   ],
   "source": [
    "nx.number_connected_components(G)"
   ]
  },
  {
   "cell_type": "code",
   "execution_count": 21,
   "metadata": {},
   "outputs": [
    {
     "data": {
      "text/plain": [
       "0.004253132627202765"
      ]
     },
     "execution_count": 21,
     "metadata": {},
     "output_type": "execute_result"
    }
   ],
   "source": [
    "nx.average_clustering(G)"
   ]
  },
  {
   "cell_type": "code",
   "execution_count": 22,
   "metadata": {},
   "outputs": [
    {
     "data": {
      "text/plain": [
       "1882"
      ]
     },
     "execution_count": 22,
     "metadata": {},
     "output_type": "execute_result"
    }
   ],
   "source": [
    "nx.number_of_nodes(G)"
   ]
  },
  {
   "cell_type": "code",
   "execution_count": 23,
   "metadata": {},
   "outputs": [],
   "source": [
    "with open('results.txt', 'w') as f:\n",
    "    lines = []\n",
    "    for i in G.edges:\n",
    "        lines.append(str(i[0])+' '+str(i[1])+'\\n')\n",
    "    f.writelines(lines)"
   ]
  },
  {
   "cell_type": "code",
   "execution_count": null,
   "metadata": {},
   "outputs": [],
   "source": []
  }
 ],
 "metadata": {
  "kernelspec": {
   "display_name": "Python 3",
   "language": "python",
   "name": "python3"
  },
  "language_info": {
   "codemirror_mode": {
    "name": "ipython",
    "version": 3
   },
   "file_extension": ".py",
   "mimetype": "text/x-python",
   "name": "python",
   "nbconvert_exporter": "python",
   "pygments_lexer": "ipython3",
   "version": "3.8.8"
  },
  "toc": {
   "base_numbering": 1,
   "nav_menu": {},
   "number_sections": true,
   "sideBar": true,
   "skip_h1_title": false,
   "title_cell": "Table of Contents",
   "title_sidebar": "Contents",
   "toc_cell": false,
   "toc_position": {},
   "toc_section_display": true,
   "toc_window_display": true
  }
 },
 "nbformat": 4,
 "nbformat_minor": 4
}
