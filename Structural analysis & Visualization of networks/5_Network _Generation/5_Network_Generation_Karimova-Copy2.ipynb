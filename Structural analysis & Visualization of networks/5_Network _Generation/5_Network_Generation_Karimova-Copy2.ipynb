{
 "cells": [
  {
   "cell_type": "code",
   "execution_count": 27,
   "id": "d126068c",
   "metadata": {},
   "outputs": [],
   "source": [
    "def sample_degree():\n",
    "    x = random.random()\n",
    "    for i in range(len(cdf)-1):\n",
    "        if cdf[i+1] >= x:\n",
    "            return i\n",
    "    return len(cdf)-1"
   ]
  },
  {
   "cell_type": "code",
   "execution_count": 28,
   "id": "075a9554",
   "metadata": {},
   "outputs": [],
   "source": [
    "import random\n",
    "import numpy as np\n",
    "\n",
    "# Load network statistics from stats.txt\n",
    "# with open('stats.txt', 'r') as f:\n",
    "#     stats = eval(f.read())\n",
    "\n",
    "# Extract degree CDF from stats\n",
    "degrees, probabilities = stats['degree_cdf']\n",
    "probabilities = np.array(probabilities)\n",
    "cdf = np.cumsum(probabilities)\n",
    "\n",
    "# Generate a list of edges\n",
    "edges = []\n",
    "while len(edges) < len(degrees):\n",
    "    # Sample two nodes uniformly at random\n",
    "    u, v = random.sample(range(1, stats['number_nodes']+1), 2)\n",
    "    \n",
    "    # Sample degrees for u and v according to degree CDF\n",
    "    du = sample_degree()\n",
    "    dv = sample_degree()\n",
    "    \n",
    "    # Add edges to the list with probability proportional to degree\n",
    "    if random.random() < du * dv / (cdf[-1]**2):\n",
    "        edges.append((u, v))\n",
    "\n",
    "# Write edges to file\n",
    "with open('edges.txt', 'w') as f:\n",
    "    for edge in edges:\n",
    "        f.write('{} {}\\n'.format(edge[0], edge[1]))"
   ]
  },
  {
   "cell_type": "code",
   "execution_count": null,
   "id": "1f6fb131",
   "metadata": {},
   "outputs": [],
   "source": []
  }
 ],
 "metadata": {
  "kernelspec": {
   "display_name": "Python 3",
   "language": "python",
   "name": "python3"
  },
  "language_info": {
   "codemirror_mode": {
    "name": "ipython",
    "version": 3
   },
   "file_extension": ".py",
   "mimetype": "text/x-python",
   "name": "python",
   "nbconvert_exporter": "python",
   "pygments_lexer": "ipython3",
   "version": "3.8.8"
  },
  "toc": {
   "base_numbering": 1,
   "nav_menu": {},
   "number_sections": true,
   "sideBar": true,
   "skip_h1_title": false,
   "title_cell": "Table of Contents",
   "title_sidebar": "Contents",
   "toc_cell": false,
   "toc_position": {},
   "toc_section_display": true,
   "toc_window_display": true
  }
 },
 "nbformat": 4,
 "nbformat_minor": 5
}
