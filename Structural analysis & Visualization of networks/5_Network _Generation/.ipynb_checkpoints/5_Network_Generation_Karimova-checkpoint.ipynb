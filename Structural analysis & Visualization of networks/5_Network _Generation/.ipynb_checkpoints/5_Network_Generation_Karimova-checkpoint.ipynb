{
 "cells": [
  {
   "cell_type": "code",
   "execution_count": 17,
   "id": "2d789886",
   "metadata": {},
   "outputs": [
    {
     "name": "stdout",
     "output_type": "stream",
     "text": [
      "Original Graph Statistics:\n",
      "Number of Nodes:  1882\n",
      "Number of Connected Components:  168\n",
      "Radius of Giant Component:  15\n",
      "Diameter of Giant Component:  28\n",
      "Average Clustering Coefficient:  0.005066798238955518\n",
      "Average Path Length:  11.748410823170731\n",
      "Generated Graph Statistics:\n",
      "Number of Nodes:  1882\n",
      "Number of Connected Components:  1\n",
      "Radius of Giant Component:  11\n",
      "Diameter of Giant Component:  22\n",
      "Average Clustering Coefficient:  0.0\n",
      "Average Path Length:  8.678342234357672\n"
     ]
    }
   ],
   "source": [
    "import networkx as nx\n",
    "import numpy as np\n",
    "import ast\n",
    "\n",
    "# Чтение статистических данных из файла stats.txt\n",
    "with open('stats.txt', 'r') as f:\n",
    "    stats_dict = ast.literal_eval(f.read())\n",
    "\n",
    "# Создание графа\n",
    "G = nx.Graph()\n",
    "\n",
    "# Настройка параметров модели Барабаши-Альберта на основе статистических данных\n",
    "n = stats_dict['number_nodes']\n",
    "m = max(1, int(round(stats_dict['degree_cdf'][0][0] * n)))\n",
    "m = min(m, n-1)\n",
    "p = m / (n - 1)\n",
    "\n",
    "# Генерация графа моделью Барабаши-Альберта\n",
    "G = nx.barabasi_albert_graph(n, m)\n",
    "\n",
    "# Нормализация графа и настройка статистических характеристик\n",
    "cc = stats_dict['number_cc'][0]\n",
    "radius = stats_dict['radius'][0]\n",
    "diameter = stats_dict['diameter'][0]\n",
    "avg_clustering = stats_dict['average_clustering'][0]\n",
    "avg_path_length = stats_dict['average_path_length'][0]\n",
    "\n",
    "cc_new = nx.number_connected_components(G)\n",
    "radius_new = nx.radius(G)\n",
    "diameter_new = nx.diameter(G)\n",
    "avg_clustering_new = nx.average_clustering(G)\n",
    "avg_path_length_new = nx.average_shortest_path_length(G)\n",
    "\n",
    "# Сохранение листа граней в файл\n",
    "edgelist = nx.generate_edgelist(G, data=False)\n",
    "with open('edgelist.txt', 'w') as f:\n",
    "    f.writelines(edgelist)\n",
    "\n",
    "# Вывод результатов\n",
    "print('Original Graph Statistics:')\n",
    "print('Number of Nodes: ', n)\n",
    "print('Number of Connected Components: ', cc)\n",
    "print('Radius of Giant Component: ', radius)\n",
    "print('Diameter of Giant Component: ', diameter)\n",
    "print('Average Clustering Coefficient: ', avg_clustering)\n",
    "print('Average Path Length: ', avg_path_length)\n",
    "\n",
    "print('Generated Graph Statistics:')\n",
    "print('Number of Nodes: ', G.number_of_nodes())\n",
    "print('Number of Connected Components: ', cc_new)\n",
    "print('Radius of Giant Component: ', radius_new)\n",
    "print('Diameter of Giant Component: ', diameter_new)\n",
    "print('Average Clustering Coefficient: ', avg_clustering_new)\n",
    "print('Average Path Length: ', avg_path_length_new)"
   ]
  },
  {
   "cell_type": "code",
   "execution_count": null,
   "id": "3ef464d1",
   "metadata": {},
   "outputs": [],
   "source": []
  }
 ],
 "metadata": {
  "kernelspec": {
   "display_name": "Python 3",
   "language": "python",
   "name": "python3"
  },
  "language_info": {
   "codemirror_mode": {
    "name": "ipython",
    "version": 3
   },
   "file_extension": ".py",
   "mimetype": "text/x-python",
   "name": "python",
   "nbconvert_exporter": "python",
   "pygments_lexer": "ipython3",
   "version": "3.8.8"
  },
  "toc": {
   "base_numbering": 1,
   "nav_menu": {},
   "number_sections": true,
   "sideBar": true,
   "skip_h1_title": false,
   "title_cell": "Table of Contents",
   "title_sidebar": "Contents",
   "toc_cell": false,
   "toc_position": {},
   "toc_section_display": true,
   "toc_window_display": true
  }
 },
 "nbformat": 4,
 "nbformat_minor": 5
}
