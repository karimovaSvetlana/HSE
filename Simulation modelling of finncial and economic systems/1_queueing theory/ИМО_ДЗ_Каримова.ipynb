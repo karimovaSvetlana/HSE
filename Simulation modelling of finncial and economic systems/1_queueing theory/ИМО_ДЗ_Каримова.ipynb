{
  "nbformat": 4,
  "nbformat_minor": 0,
  "metadata": {
    "colab": {
      "provenance": [],
      "collapsed_sections": [
        "GDayNor42OC0",
        "peM4ien7ibUL",
        "JWTgyZyliLqQ",
        "A-8xmUl2iBAU",
        "s_rZraEThZh-",
        "QsxhAjc8hv_7",
        "upDMncdSixlO"
      ]
    },
    "kernelspec": {
      "name": "python3",
      "display_name": "Python 3"
    },
    "language_info": {
      "name": "python"
    }
  },
  "cells": [
    {
      "cell_type": "markdown",
      "source": [
        "# Задача \n",
        "В парикмахерской работают 3 мастера, а в зале ожидания расположены 3 стула. Поток клиентов имеет интенсивность 12 клиентов в час. Среднее время обслуживания составляет 20 мин. Определить показатели работы СМО."
      ],
      "metadata": {
        "id": "nCXO1GWU7gQD"
      }
    },
    {
      "cell_type": "markdown",
      "source": [
        "# Решение"
      ],
      "metadata": {
        "id": "r3KsfjSA7lC2"
      }
    },
    {
      "cell_type": "code",
      "source": [
        "!pip install simpy\n",
        "import math\n",
        "import pandas as pd\n",
        "import matplotlib.pyplot as plt\n",
        "import random\n",
        "import simpy"
      ],
      "metadata": {
        "id": "s-ZMz5NV8CtY",
        "colab": {
          "base_uri": "https://localhost:8080/"
        },
        "outputId": "fc664858-5825-4af0-da8f-00fad09c237d"
      },
      "execution_count": 1,
      "outputs": [
        {
          "output_type": "stream",
          "name": "stdout",
          "text": [
            "Looking in indexes: https://pypi.org/simple, https://us-python.pkg.dev/colab-wheels/public/simple/\n",
            "Collecting simpy\n",
            "  Downloading simpy-4.0.1-py2.py3-none-any.whl (29 kB)\n",
            "Installing collected packages: simpy\n",
            "Successfully installed simpy-4.0.1\n"
          ]
        }
      ]
    },
    {
      "cell_type": "code",
      "source": [
        "class MMCK:\n",
        "    our_lambda: float = 12 #входная интенсивность задач\n",
        "    c: float = 3 #количество каналов\n",
        "    mu: float = 3 #интенсивность/скорость обслуживания канала\n",
        "    N: float = 3 #максимальная длина очереди\n",
        "    K: float = c+N #макс количество агентов в системе\n",
        "    ro: float = MMCK.our_lambda / MMCK.mu\n",
        "    r: float = MMCK.ro/MMCK.c\n",
        "    \n",
        "\n",
        "    def calc_p_null():\n",
        "        xx, xxx = 0,0\n",
        "        for nn in range(MMCK.c+1):\n",
        "            xx += ro**nn/math.factorial(nn)\n",
        "        for nnn in range(1, MMCK.K-MMCK.c+1):\n",
        "            xxx += MMCK.r**nnn\n",
        "        p = round(1 / (xx+(ro**c/math.factorial(c) * xxx)), 4)\n",
        "        return p\n",
        "\n",
        "\n",
        "    def calc_p_n(i):\n",
        "        x = [MMCK.calc_p_null()]\n",
        "        for n in range(1, K+1):\n",
        "            if n <= c:\n",
        "                p = round((MMCK.ro**n)/math.factorial(n) * MMCK.calc_p_null(), 4)\n",
        "            elif n > c:\n",
        "                p = round(((MMCK.ro**n)/math.factorial(MMCK.c)) * ((1/MMCK.c)**(n-MMCK.c)) * MMCK.calc_p_null(), 4)\n",
        "            x.append(p)\n",
        "        return x[i]\n",
        "    \n",
        "\n",
        "    def calc_lenqueue():\n",
        "        a = MMCK.calc_p_null() * (MMCK.ro**MMCK.c) * (MMCK.ro/MMCK.c - (MMCK.N + 1) * (MMCK.ro/MMCK.c)**(MMCK.c+1) + MMCK.c * (MMCK.ro/MMCK.N)**(MMCK.N+2) )\n",
        "        b = math.factorial(MMCK.N) * (1 - MMCK.ro/MMCK.N)**2\n",
        "        return a/b\n",
        "    \n",
        "\n",
        "    def calc_t():\n",
        "        return MMCK.calc_lenqueue() / MMCK.our_lambda\n",
        "    \n",
        "\n",
        "    def calc_coef_busy(): #среднее число занятых каналов на количество каналов\n",
        "        return MMCK.ro * (1 - MMCK.p_k()) / MMCK.c\n",
        "    \n",
        "    \n",
        "    def p_k():\n",
        "        return MMCK.calc_p_n(MMCK.K)\n",
        "    \n",
        "\n",
        "    def A():\n",
        "        return MMCK.our_lambda*(1 - MMCK.p_k())\n",
        "    \n",
        "\n",
        "    def Q():\n",
        "        return 1 - MMCK.p_k()\n",
        "\n",
        "\n",
        "    def calc_hat_lambda():\n",
        "        hat_lambda = MMCK.our_lambda*(1-MMCK.p_k())\n",
        "        return hat_lambda\n",
        "\n",
        "    \n",
        "    def calc_q_hat():\n",
        "        q_hat = ( (MMCK.ro**MMCK.c * MMCK.r * MMCK.calc_p_n(0))/(math.factorial(MMCK.c) * (1-MMCK.r)**2) ) * (1 + (MMCK.K-MMCK.c) * MMCK.r**(MMCK.K-MMCK.c+1) - (MMCK.K-MMCK.c+1) * MMCK.r**(MMCK.K-MMCK.c))\n",
        "        return q_hat\n",
        "    \n",
        "\n",
        "    def calc_n_hat():\n",
        "        x, y = 0, 0\n",
        "        for n in range(MMCK.c):\n",
        "            x += n * MMCK.calc_p_n(n)\n",
        "            y += MMCK.calc_p_n(n)\n",
        "        \n",
        "        n_hat = round(MMCK.calc_q_hat() + x + MMCK.c*(1-y), 4)\n",
        "        \n",
        "        return n_hat\n",
        "    \n",
        "\n",
        "    def calc_w_hat(): #Average waiting time\n",
        "        return MMCK.calc_q_hat() / MMCK.calc_hat_lambda()\n",
        "    \n",
        "\n",
        "    def calc_t_hat(): #Mean response time\n",
        "        return MMCK.calc_n_hat() / MMCK.calc_hat_lambda()\n",
        "    \n",
        "\n",
        "    def calc_arrival_distribution(i):\n",
        "        x = []\n",
        "        for n in range(0, MMCK.K):\n",
        "            p = MMCK.calc_p_n(n)/(1-MMCK.p_k())\n",
        "            x.append(p)\n",
        "        return x[i]\n",
        "    \n",
        "\n",
        "    def p_nowtake():\n",
        "        x = 0\n",
        "        for i in range(MMCK.c):\n",
        "            x += MMCK.calc_p_n(i)\n",
        "        return x\n",
        "    \n",
        "\n",
        "    def func_wait_time(t):\n",
        "        s, ss = 0, 0\n",
        "        for i in range(MMCK.c, MMCK.K):\n",
        "            s += MMCK.calc_arrival_distribution(i)\n",
        "\n",
        "        for k in range(MMCK.K-MMCK.c+1):\n",
        "            ss += ((MMCK.c*MMCK.mu*t)**k) * math.exp(-(MMCK.c*MMCK.mu*t)) / math.factorial(k)\n",
        "        f_w = 1 - s*ss\n",
        "        return f_w\n",
        "        \n",
        "\n"
      ],
      "metadata": {
        "id": "Aw0VDbw1mY_K"
      },
      "execution_count": 357,
      "outputs": []
    },
    {
      "cell_type": "code",
      "source": [
        "MMCK.calc_t()"
      ],
      "metadata": {
        "colab": {
          "base_uri": "https://localhost:8080/"
        },
        "id": "3B9uTT7l_kX-",
        "outputId": "81f1e2fd-45bb-4d4c-b862-e07ffbd14c4e"
      },
      "execution_count": 349,
      "outputs": [
        {
          "output_type": "execute_result",
          "data": {
            "text/plain": [
              "0.1301333333333333"
            ]
          },
          "metadata": {},
          "execution_count": 349
        }
      ]
    },
    {
      "cell_type": "markdown",
      "source": [
        "### Итог"
      ],
      "metadata": {
        "id": "SRQGuJtWh-wc"
      }
    },
    {
      "cell_type": "code",
      "source": [
        "df_problem = pd.DataFrame([\n",
        "    ['Абсолютная  пропускная  способность СМО'],\n",
        "    ['Относительная пропускная способность СМО'],\n",
        "    ['Средняя продолжительность периода занятости СМО'],\n",
        "    ['Коэффициент использования СМО'],\n",
        "    ['Среднее время ожидания заявки в очереди'],\n",
        "    ['Среднее время пребывания заявки в СМО'],\n",
        "    ['Вероятность отказа заявке в обслуживании без ожидания'],\n",
        "    ['Вероятность того, что вновь поступившая заявка немедленно будет принята к обслуживанию'],\n",
        "    ['Закон распределения времени ожидания заявки в очереди'],\n",
        "    ['Закон распределения времени пребывания заявки в СМО'],\n",
        "    ['Среднее число заявок, находящихся в очереди'],\n",
        "    ['Среднее число заявок, находящихся в СМО'] \n",
        "    ], \n",
        "    columns=['text'])\n",
        "\n",
        "df_problem"
      ],
      "metadata": {
        "colab": {
          "base_uri": "https://localhost:8080/",
          "height": 426
        },
        "id": "WLYYLs-X7Ew8",
        "outputId": "5169786a-71bc-402f-e651-bfd6ca7eeb14"
      },
      "execution_count": 358,
      "outputs": [
        {
          "output_type": "execute_result",
          "data": {
            "text/plain": [
              "                                                 text\n",
              "0             Абсолютная  пропускная  способность СМО\n",
              "1            Относительная пропускная способность СМО\n",
              "2     Средняя продолжительность периода занятости СМО\n",
              "3                       Коэффициент использования СМО\n",
              "4             Среднее время ожидания заявки в очереди\n",
              "5               Среднее время пребывания заявки в СМО\n",
              "6   Вероятность отказа заявке в обслуживании без о...\n",
              "7   Вероятность того, что вновь поступившая заявка...\n",
              "8   Закон распределения времени ожидания заявки в ...\n",
              "9   Закон распределения времени пребывания заявки ...\n",
              "10        Среднее число заявок, находящихся в очереди\n",
              "11            Среднее число заявок, находящихся в СМО"
            ],
            "text/html": [
              "\n",
              "  <div id=\"df-8f20855e-269e-42d7-9359-767063a014d6\">\n",
              "    <div class=\"colab-df-container\">\n",
              "      <div>\n",
              "<style scoped>\n",
              "    .dataframe tbody tr th:only-of-type {\n",
              "        vertical-align: middle;\n",
              "    }\n",
              "\n",
              "    .dataframe tbody tr th {\n",
              "        vertical-align: top;\n",
              "    }\n",
              "\n",
              "    .dataframe thead th {\n",
              "        text-align: right;\n",
              "    }\n",
              "</style>\n",
              "<table border=\"1\" class=\"dataframe\">\n",
              "  <thead>\n",
              "    <tr style=\"text-align: right;\">\n",
              "      <th></th>\n",
              "      <th>text</th>\n",
              "    </tr>\n",
              "  </thead>\n",
              "  <tbody>\n",
              "    <tr>\n",
              "      <th>0</th>\n",
              "      <td>Абсолютная  пропускная  способность СМО</td>\n",
              "    </tr>\n",
              "    <tr>\n",
              "      <th>1</th>\n",
              "      <td>Относительная пропускная способность СМО</td>\n",
              "    </tr>\n",
              "    <tr>\n",
              "      <th>2</th>\n",
              "      <td>Средняя продолжительность периода занятости СМО</td>\n",
              "    </tr>\n",
              "    <tr>\n",
              "      <th>3</th>\n",
              "      <td>Коэффициент использования СМО</td>\n",
              "    </tr>\n",
              "    <tr>\n",
              "      <th>4</th>\n",
              "      <td>Среднее время ожидания заявки в очереди</td>\n",
              "    </tr>\n",
              "    <tr>\n",
              "      <th>5</th>\n",
              "      <td>Среднее время пребывания заявки в СМО</td>\n",
              "    </tr>\n",
              "    <tr>\n",
              "      <th>6</th>\n",
              "      <td>Вероятность отказа заявке в обслуживании без о...</td>\n",
              "    </tr>\n",
              "    <tr>\n",
              "      <th>7</th>\n",
              "      <td>Вероятность того, что вновь поступившая заявка...</td>\n",
              "    </tr>\n",
              "    <tr>\n",
              "      <th>8</th>\n",
              "      <td>Закон распределения времени ожидания заявки в ...</td>\n",
              "    </tr>\n",
              "    <tr>\n",
              "      <th>9</th>\n",
              "      <td>Закон распределения времени пребывания заявки ...</td>\n",
              "    </tr>\n",
              "    <tr>\n",
              "      <th>10</th>\n",
              "      <td>Среднее число заявок, находящихся в очереди</td>\n",
              "    </tr>\n",
              "    <tr>\n",
              "      <th>11</th>\n",
              "      <td>Среднее число заявок, находящихся в СМО</td>\n",
              "    </tr>\n",
              "  </tbody>\n",
              "</table>\n",
              "</div>\n",
              "      <button class=\"colab-df-convert\" onclick=\"convertToInteractive('df-8f20855e-269e-42d7-9359-767063a014d6')\"\n",
              "              title=\"Convert this dataframe to an interactive table.\"\n",
              "              style=\"display:none;\">\n",
              "        \n",
              "  <svg xmlns=\"http://www.w3.org/2000/svg\" height=\"24px\"viewBox=\"0 0 24 24\"\n",
              "       width=\"24px\">\n",
              "    <path d=\"M0 0h24v24H0V0z\" fill=\"none\"/>\n",
              "    <path d=\"M18.56 5.44l.94 2.06.94-2.06 2.06-.94-2.06-.94-.94-2.06-.94 2.06-2.06.94zm-11 1L8.5 8.5l.94-2.06 2.06-.94-2.06-.94L8.5 2.5l-.94 2.06-2.06.94zm10 10l.94 2.06.94-2.06 2.06-.94-2.06-.94-.94-2.06-.94 2.06-2.06.94z\"/><path d=\"M17.41 7.96l-1.37-1.37c-.4-.4-.92-.59-1.43-.59-.52 0-1.04.2-1.43.59L10.3 9.45l-7.72 7.72c-.78.78-.78 2.05 0 2.83L4 21.41c.39.39.9.59 1.41.59.51 0 1.02-.2 1.41-.59l7.78-7.78 2.81-2.81c.8-.78.8-2.07 0-2.86zM5.41 20L4 18.59l7.72-7.72 1.47 1.35L5.41 20z\"/>\n",
              "  </svg>\n",
              "      </button>\n",
              "      \n",
              "  <style>\n",
              "    .colab-df-container {\n",
              "      display:flex;\n",
              "      flex-wrap:wrap;\n",
              "      gap: 12px;\n",
              "    }\n",
              "\n",
              "    .colab-df-convert {\n",
              "      background-color: #E8F0FE;\n",
              "      border: none;\n",
              "      border-radius: 50%;\n",
              "      cursor: pointer;\n",
              "      display: none;\n",
              "      fill: #1967D2;\n",
              "      height: 32px;\n",
              "      padding: 0 0 0 0;\n",
              "      width: 32px;\n",
              "    }\n",
              "\n",
              "    .colab-df-convert:hover {\n",
              "      background-color: #E2EBFA;\n",
              "      box-shadow: 0px 1px 2px rgba(60, 64, 67, 0.3), 0px 1px 3px 1px rgba(60, 64, 67, 0.15);\n",
              "      fill: #174EA6;\n",
              "    }\n",
              "\n",
              "    [theme=dark] .colab-df-convert {\n",
              "      background-color: #3B4455;\n",
              "      fill: #D2E3FC;\n",
              "    }\n",
              "\n",
              "    [theme=dark] .colab-df-convert:hover {\n",
              "      background-color: #434B5C;\n",
              "      box-shadow: 0px 1px 3px 1px rgba(0, 0, 0, 0.15);\n",
              "      filter: drop-shadow(0px 1px 2px rgba(0, 0, 0, 0.3));\n",
              "      fill: #FFFFFF;\n",
              "    }\n",
              "  </style>\n",
              "\n",
              "      <script>\n",
              "        const buttonEl =\n",
              "          document.querySelector('#df-8f20855e-269e-42d7-9359-767063a014d6 button.colab-df-convert');\n",
              "        buttonEl.style.display =\n",
              "          google.colab.kernel.accessAllowed ? 'block' : 'none';\n",
              "\n",
              "        async function convertToInteractive(key) {\n",
              "          const element = document.querySelector('#df-8f20855e-269e-42d7-9359-767063a014d6');\n",
              "          const dataTable =\n",
              "            await google.colab.kernel.invokeFunction('convertToInteractive',\n",
              "                                                     [key], {});\n",
              "          if (!dataTable) return;\n",
              "\n",
              "          const docLinkHtml = 'Like what you see? Visit the ' +\n",
              "            '<a target=\"_blank\" href=https://colab.research.google.com/notebooks/data_table.ipynb>data table notebook</a>'\n",
              "            + ' to learn more about interactive tables.';\n",
              "          element.innerHTML = '';\n",
              "          dataTable['output_type'] = 'display_data';\n",
              "          await google.colab.output.renderOutput(dataTable, element);\n",
              "          const docLink = document.createElement('div');\n",
              "          docLink.innerHTML = docLinkHtml;\n",
              "          element.appendChild(docLink);\n",
              "        }\n",
              "      </script>\n",
              "    </div>\n",
              "  </div>\n",
              "  "
            ]
          },
          "metadata": {},
          "execution_count": 358
        }
      ]
    },
    {
      "cell_type": "code",
      "source": [
        "df_problem['KPI'] = 0\n",
        "df_problem['Value'] = 0.000\n",
        "df_problem['KPI'][0], df_problem['Value'][0] = 'A', MMCK.A()\n",
        "df_problem['KPI'][1], df_problem['Value'][1] = 'Q', MMCK.Q()\n",
        "df_problem['KPI'][2], df_problem['Value'][2] = 'T', MMCK.calc_t()\n",
        "df_problem['KPI'][3], df_problem['Value'][3] = 'coef_busy', MMCK.calc_coef_busy()\n",
        "df_problem['KPI'][4], df_problem['Value'][4] = 'w_hat', MMCK.calc_w_hat()\n",
        "df_problem['KPI'][5], df_problem['Value'][5] = 't_hat', MMCK.calc_t_hat()\n",
        "df_problem['KPI'][6], df_problem['Value'][6] = 'p_k', MMCK.p_k()\n",
        "df_problem['KPI'][7], df_problem['Value'][7] = 'p_nowtake', MMCK.p_nowtake()\n",
        "df_problem['KPI'][8], df_problem['Value'][8] = 'func_wait_time', MMCK.func_wait_time(0)\n",
        "df_problem['KPI'][9], df_problem['Value'][9] = 'dist_arrival_null', MMCK.calc_arrival_distribution(0)\n",
        "df_problem['KPI'][10], df_problem['Value'][10] = 'q_hat', MMCK.calc_q_hat()\n",
        "df_problem['KPI'][11], df_problem['Value'][11] = 'n_hat', MMCK.calc_n_hat()"
      ],
      "metadata": {
        "id": "x-XP8161XD-z"
      },
      "execution_count": null,
      "outputs": []
    },
    {
      "cell_type": "code",
      "source": [
        "df_problem"
      ],
      "metadata": {
        "colab": {
          "base_uri": "https://localhost:8080/",
          "height": 426
        },
        "id": "lmqgljbacTu8",
        "outputId": "0944594f-180a-43ad-a26b-49fe314a82af"
      },
      "execution_count": 362,
      "outputs": [
        {
          "output_type": "execute_result",
          "data": {
            "text/plain": [
              "                                                 text                KPI  \\\n",
              "0             Абсолютная  пропускная  способность СМО                  A   \n",
              "1            Относительная пропускная способность СМО                  Q   \n",
              "2     Средняя продолжительность периода занятости СМО                  T   \n",
              "3                       Коэффициент использования СМО          coef_busy   \n",
              "4             Среднее время ожидания заявки в очереди              w_hat   \n",
              "5               Среднее время пребывания заявки в СМО              t_hat   \n",
              "6   Вероятность отказа заявке в обслуживании без о...                p_k   \n",
              "7   Вероятность того, что вновь поступившая заявка...          p_nowtake   \n",
              "8   Закон распределения времени ожидания заявки в ...     func_wait_time   \n",
              "9   Закон распределения времени пребывания заявки ...  dist_arrival_null   \n",
              "10        Среднее число заявок, находящихся в очереди              q_hat   \n",
              "11            Среднее число заявок, находящихся в СМО              n_hat   \n",
              "\n",
              "       Value  \n",
              "0   8.298000  \n",
              "1   0.691500  \n",
              "2   0.130133  \n",
              "3   0.922000  \n",
              "4   0.188190  \n",
              "5   0.521788  \n",
              "6   0.308500  \n",
              "7   0.158600  \n",
              "8   0.226464  \n",
              "9   0.017643  \n",
              "10  1.561600  \n",
              "11  4.329800  "
            ],
            "text/html": [
              "\n",
              "  <div id=\"df-ccee482d-8294-40cf-b767-73fbe781dcf3\">\n",
              "    <div class=\"colab-df-container\">\n",
              "      <div>\n",
              "<style scoped>\n",
              "    .dataframe tbody tr th:only-of-type {\n",
              "        vertical-align: middle;\n",
              "    }\n",
              "\n",
              "    .dataframe tbody tr th {\n",
              "        vertical-align: top;\n",
              "    }\n",
              "\n",
              "    .dataframe thead th {\n",
              "        text-align: right;\n",
              "    }\n",
              "</style>\n",
              "<table border=\"1\" class=\"dataframe\">\n",
              "  <thead>\n",
              "    <tr style=\"text-align: right;\">\n",
              "      <th></th>\n",
              "      <th>text</th>\n",
              "      <th>KPI</th>\n",
              "      <th>Value</th>\n",
              "    </tr>\n",
              "  </thead>\n",
              "  <tbody>\n",
              "    <tr>\n",
              "      <th>0</th>\n",
              "      <td>Абсолютная  пропускная  способность СМО</td>\n",
              "      <td>A</td>\n",
              "      <td>8.298000</td>\n",
              "    </tr>\n",
              "    <tr>\n",
              "      <th>1</th>\n",
              "      <td>Относительная пропускная способность СМО</td>\n",
              "      <td>Q</td>\n",
              "      <td>0.691500</td>\n",
              "    </tr>\n",
              "    <tr>\n",
              "      <th>2</th>\n",
              "      <td>Средняя продолжительность периода занятости СМО</td>\n",
              "      <td>T</td>\n",
              "      <td>0.130133</td>\n",
              "    </tr>\n",
              "    <tr>\n",
              "      <th>3</th>\n",
              "      <td>Коэффициент использования СМО</td>\n",
              "      <td>coef_busy</td>\n",
              "      <td>0.922000</td>\n",
              "    </tr>\n",
              "    <tr>\n",
              "      <th>4</th>\n",
              "      <td>Среднее время ожидания заявки в очереди</td>\n",
              "      <td>w_hat</td>\n",
              "      <td>0.188190</td>\n",
              "    </tr>\n",
              "    <tr>\n",
              "      <th>5</th>\n",
              "      <td>Среднее время пребывания заявки в СМО</td>\n",
              "      <td>t_hat</td>\n",
              "      <td>0.521788</td>\n",
              "    </tr>\n",
              "    <tr>\n",
              "      <th>6</th>\n",
              "      <td>Вероятность отказа заявке в обслуживании без о...</td>\n",
              "      <td>p_k</td>\n",
              "      <td>0.308500</td>\n",
              "    </tr>\n",
              "    <tr>\n",
              "      <th>7</th>\n",
              "      <td>Вероятность того, что вновь поступившая заявка...</td>\n",
              "      <td>p_nowtake</td>\n",
              "      <td>0.158600</td>\n",
              "    </tr>\n",
              "    <tr>\n",
              "      <th>8</th>\n",
              "      <td>Закон распределения времени ожидания заявки в ...</td>\n",
              "      <td>func_wait_time</td>\n",
              "      <td>0.226464</td>\n",
              "    </tr>\n",
              "    <tr>\n",
              "      <th>9</th>\n",
              "      <td>Закон распределения времени пребывания заявки ...</td>\n",
              "      <td>dist_arrival_null</td>\n",
              "      <td>0.017643</td>\n",
              "    </tr>\n",
              "    <tr>\n",
              "      <th>10</th>\n",
              "      <td>Среднее число заявок, находящихся в очереди</td>\n",
              "      <td>q_hat</td>\n",
              "      <td>1.561600</td>\n",
              "    </tr>\n",
              "    <tr>\n",
              "      <th>11</th>\n",
              "      <td>Среднее число заявок, находящихся в СМО</td>\n",
              "      <td>n_hat</td>\n",
              "      <td>4.329800</td>\n",
              "    </tr>\n",
              "  </tbody>\n",
              "</table>\n",
              "</div>\n",
              "      <button class=\"colab-df-convert\" onclick=\"convertToInteractive('df-ccee482d-8294-40cf-b767-73fbe781dcf3')\"\n",
              "              title=\"Convert this dataframe to an interactive table.\"\n",
              "              style=\"display:none;\">\n",
              "        \n",
              "  <svg xmlns=\"http://www.w3.org/2000/svg\" height=\"24px\"viewBox=\"0 0 24 24\"\n",
              "       width=\"24px\">\n",
              "    <path d=\"M0 0h24v24H0V0z\" fill=\"none\"/>\n",
              "    <path d=\"M18.56 5.44l.94 2.06.94-2.06 2.06-.94-2.06-.94-.94-2.06-.94 2.06-2.06.94zm-11 1L8.5 8.5l.94-2.06 2.06-.94-2.06-.94L8.5 2.5l-.94 2.06-2.06.94zm10 10l.94 2.06.94-2.06 2.06-.94-2.06-.94-.94-2.06-.94 2.06-2.06.94z\"/><path d=\"M17.41 7.96l-1.37-1.37c-.4-.4-.92-.59-1.43-.59-.52 0-1.04.2-1.43.59L10.3 9.45l-7.72 7.72c-.78.78-.78 2.05 0 2.83L4 21.41c.39.39.9.59 1.41.59.51 0 1.02-.2 1.41-.59l7.78-7.78 2.81-2.81c.8-.78.8-2.07 0-2.86zM5.41 20L4 18.59l7.72-7.72 1.47 1.35L5.41 20z\"/>\n",
              "  </svg>\n",
              "      </button>\n",
              "      \n",
              "  <style>\n",
              "    .colab-df-container {\n",
              "      display:flex;\n",
              "      flex-wrap:wrap;\n",
              "      gap: 12px;\n",
              "    }\n",
              "\n",
              "    .colab-df-convert {\n",
              "      background-color: #E8F0FE;\n",
              "      border: none;\n",
              "      border-radius: 50%;\n",
              "      cursor: pointer;\n",
              "      display: none;\n",
              "      fill: #1967D2;\n",
              "      height: 32px;\n",
              "      padding: 0 0 0 0;\n",
              "      width: 32px;\n",
              "    }\n",
              "\n",
              "    .colab-df-convert:hover {\n",
              "      background-color: #E2EBFA;\n",
              "      box-shadow: 0px 1px 2px rgba(60, 64, 67, 0.3), 0px 1px 3px 1px rgba(60, 64, 67, 0.15);\n",
              "      fill: #174EA6;\n",
              "    }\n",
              "\n",
              "    [theme=dark] .colab-df-convert {\n",
              "      background-color: #3B4455;\n",
              "      fill: #D2E3FC;\n",
              "    }\n",
              "\n",
              "    [theme=dark] .colab-df-convert:hover {\n",
              "      background-color: #434B5C;\n",
              "      box-shadow: 0px 1px 3px 1px rgba(0, 0, 0, 0.15);\n",
              "      filter: drop-shadow(0px 1px 2px rgba(0, 0, 0, 0.3));\n",
              "      fill: #FFFFFF;\n",
              "    }\n",
              "  </style>\n",
              "\n",
              "      <script>\n",
              "        const buttonEl =\n",
              "          document.querySelector('#df-ccee482d-8294-40cf-b767-73fbe781dcf3 button.colab-df-convert');\n",
              "        buttonEl.style.display =\n",
              "          google.colab.kernel.accessAllowed ? 'block' : 'none';\n",
              "\n",
              "        async function convertToInteractive(key) {\n",
              "          const element = document.querySelector('#df-ccee482d-8294-40cf-b767-73fbe781dcf3');\n",
              "          const dataTable =\n",
              "            await google.colab.kernel.invokeFunction('convertToInteractive',\n",
              "                                                     [key], {});\n",
              "          if (!dataTable) return;\n",
              "\n",
              "          const docLinkHtml = 'Like what you see? Visit the ' +\n",
              "            '<a target=\"_blank\" href=https://colab.research.google.com/notebooks/data_table.ipynb>data table notebook</a>'\n",
              "            + ' to learn more about interactive tables.';\n",
              "          element.innerHTML = '';\n",
              "          dataTable['output_type'] = 'display_data';\n",
              "          await google.colab.output.renderOutput(dataTable, element);\n",
              "          const docLink = document.createElement('div');\n",
              "          docLink.innerHTML = docLinkHtml;\n",
              "          element.appendChild(docLink);\n",
              "        }\n",
              "      </script>\n",
              "    </div>\n",
              "  </div>\n",
              "  "
            ]
          },
          "metadata": {},
          "execution_count": 362
        }
      ]
    },
    {
      "cell_type": "markdown",
      "source": [
        "## Симуляция"
      ],
      "metadata": {
        "id": "E7RsyKuTYYPv"
      }
    },
    {
      "cell_type": "code",
      "source": [
        "RANDOM_SEED = 42\n",
        "NUM_CHANNELS = 3\n",
        "QUEUE_LIMIT = 3\n",
        "ARRIVAL_RATE = 5.0\n",
        "SERVICE_RATE = 3.0\n",
        "SIM_TIME = 100\n",
        "\n",
        "def customer_generator(env, arrival_rate, channel):\n",
        "    \"\"\"Generate customers randomly\"\"\"\n",
        "    i = 0\n",
        "    while True:\n",
        "        yield env.timeout(random.expovariate(1.0 / arrival_rate))\n",
        "        i += 1\n",
        "        env.process(customer(env, i, channel))\n",
        "\n",
        "def customer(env, i, channel):\n",
        "    \"\"\"Customer arrives, is served and leaves.\"\"\"\n",
        "    arrive = env.now\n",
        "    print(f\"Customer {i} arrived at {arrive:.2f}\")\n",
        "\n",
        "    with channel.request() as req:\n",
        "        yield req\n",
        "\n",
        "        wait = env.now - arrive\n",
        "        print(f\"Customer {i} waited for {wait:.2f}\")\n",
        "\n",
        "        service_time = random.expovariate(1.0 / SERVICE_RATE)\n",
        "        yield env.timeout(service_time)\n",
        "        print(f\"Customer {i} finished service at {env.now:.2f}\")\n",
        "\n",
        "# Setup and start the simulation\n",
        "random.seed(RANDOM_SEED)\n",
        "env = simpy.Environment()\n",
        "channel = simpy.Resource(env, capacity=NUM_CHANNELS)\n",
        "env.process(customer_generator(env, ARRIVAL_RATE, channel))\n",
        "\n",
        "# Execute the simulation\n",
        "env.run(until=SIM_TIME)"
      ],
      "metadata": {
        "colab": {
          "base_uri": "https://localhost:8080/"
        },
        "id": "PnYvEvJJYXtx",
        "outputId": "4d0fbfad-3210-4369-a9b3-25b0b0486c12"
      },
      "execution_count": 2,
      "outputs": [
        {
          "output_type": "stream",
          "name": "stdout",
          "text": [
            "Customer 1 arrived at 5.10\n",
            "Customer 1 waited for 0.00\n",
            "Customer 2 arrived at 5.23\n",
            "Customer 2 waited for 0.00\n",
            "Customer 1 finished service at 6.07\n",
            "Customer 3 arrived at 6.49\n",
            "Customer 3 waited for 0.00\n",
            "Customer 2 finished service at 9.23\n",
            "Customer 4 arrived at 12.14\n",
            "Customer 4 waited for 0.00\n",
            "Customer 5 arrived at 12.59\n",
            "Customer 5 waited for 0.00\n",
            "Customer 6 arrived at 12.74\n",
            "Customer 3 finished service at 13.17\n",
            "Customer 6 waited for 0.43\n",
            "Customer 6 finished service at 13.25\n",
            "Customer 5 finished service at 13.33\n",
            "Customer 4 finished service at 13.78\n",
            "Customer 7 arrived at 16.26\n",
            "Customer 7 waited for 0.00\n",
            "Customer 8 arrived at 17.37\n",
            "Customer 8 waited for 0.00\n",
            "Customer 8 finished service at 18.12\n",
            "Customer 7 finished service at 19.41\n",
            "Customer 9 arrived at 21.31\n",
            "Customer 9 waited for 0.00\n",
            "Customer 10 arrived at 25.76\n",
            "Customer 10 waited for 0.00\n",
            "Customer 11 arrived at 25.79\n",
            "Customer 11 waited for 0.00\n",
            "Customer 9 finished service at 26.28\n",
            "Customer 11 finished service at 27.04\n",
            "Customer 10 finished service at 30.67\n",
            "Customer 12 arrived at 31.78\n",
            "Customer 12 waited for 0.00\n",
            "Customer 13 arrived at 32.62\n",
            "Customer 13 waited for 0.00\n",
            "Customer 13 finished service at 32.91\n",
            "Customer 14 arrived at 34.67\n",
            "Customer 14 waited for 0.00\n",
            "Customer 15 arrived at 35.18\n",
            "Customer 15 waited for 0.00\n",
            "Customer 16 arrived at 39.81\n",
            "Customer 15 finished service at 40.12\n",
            "Customer 16 waited for 0.31\n",
            "Customer 14 finished service at 40.32\n",
            "Customer 12 finished service at 41.23\n",
            "Customer 16 finished service at 42.42\n",
            "Customer 17 arrived at 46.35\n",
            "Customer 17 waited for 0.00\n",
            "Customer 17 finished service at 47.78\n",
            "Customer 18 arrived at 64.43\n",
            "Customer 18 waited for 0.00\n",
            "Customer 19 arrived at 68.45\n",
            "Customer 19 waited for 0.00\n",
            "Customer 18 finished service at 69.74\n",
            "Customer 20 arrived at 73.27\n",
            "Customer 20 waited for 0.00\n",
            "Customer 19 finished service at 74.38\n",
            "Customer 20 finished service at 76.93\n",
            "Customer 21 arrived at 77.57\n",
            "Customer 21 waited for 0.00\n",
            "Customer 22 arrived at 77.81\n",
            "Customer 22 waited for 0.00\n",
            "Customer 22 finished service at 78.06\n",
            "Customer 21 finished service at 78.35\n",
            "Customer 23 arrived at 79.52\n",
            "Customer 23 waited for 0.00\n",
            "Customer 23 finished service at 79.84\n",
            "Customer 24 arrived at 80.84\n",
            "Customer 24 waited for 0.00\n",
            "Customer 25 arrived at 82.47\n",
            "Customer 25 waited for 0.00\n",
            "Customer 25 finished service at 83.86\n",
            "Customer 24 finished service at 83.87\n",
            "Customer 26 arrived at 84.74\n",
            "Customer 26 waited for 0.00\n",
            "Customer 26 finished service at 85.67\n",
            "Customer 27 arrived at 85.91\n",
            "Customer 27 waited for 0.00\n",
            "Customer 27 finished service at 89.05\n",
            "Customer 28 arrived at 99.71\n",
            "Customer 28 waited for 0.00\n"
          ]
        }
      ]
    },
    {
      "cell_type": "markdown",
      "source": [
        "В этом коде сначала создается окружение SimPy, а затем ресурс (каналы) с заданной вместимостью. Затем мы создаем генератор клиентов, который генерирует клиентов с помощью функции random.expovariate, которая генерирует экспоненциальное распределение времени между приходами клиентов.\n",
        "\n",
        "Далее в функции customer мы моделируем поведение клиента: клиент приходит, затем запрашивает доступ к каналу, ждет окончания обслуживания и затем уходит.\n",
        "\n",
        "В конце мы запускаем симуляцию с помощью метода env.run и задаем время ее выполнения через параметр until.\n",
        "\n",
        "Эта модель не учитывает ограничение на длину очереди((("
      ],
      "metadata": {
        "id": "eT16yQ_PY0a1"
      }
    },
    {
      "cell_type": "markdown",
      "source": [
        "## остальное (расчеты до создания целого класса)"
      ],
      "metadata": {
        "id": "GDayNor42OC0"
      }
    },
    {
      "cell_type": "markdown",
      "source": [
        "### $P_n$"
      ],
      "metadata": {
        "id": "peM4ien7ibUL"
      }
    },
    {
      "cell_type": "markdown",
      "source": [
        "![Screenshot 2023-02-12 at 14.33.31.png](data:image/png;base64,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)"
      ],
      "metadata": {
        "id": "GwafIZX2Zv8D"
      }
    },
    {
      "cell_type": "code",
      "execution_count": 81,
      "metadata": {
        "colab": {
          "base_uri": "https://localhost:8080/",
          "height": 269
        },
        "id": "mGe6qe694DW7",
        "outputId": "30862109-ad9d-47e9-93f3-029f964bb74a"
      },
      "outputs": [
        {
          "output_type": "execute_result",
          "data": {
            "text/plain": [
              "   n     p_n\n",
              "0  0  0.0122\n",
              "1  1  0.0488\n",
              "2  2  0.0976\n",
              "3  3  0.1301\n",
              "4  4  0.1735\n",
              "5  5  0.2313\n",
              "6  6  0.3085"
            ],
            "text/html": [
              "\n",
              "  <div id=\"df-bce51079-f98b-4609-bed9-98a71e7fdc1c\">\n",
              "    <div class=\"colab-df-container\">\n",
              "      <div>\n",
              "<style scoped>\n",
              "    .dataframe tbody tr th:only-of-type {\n",
              "        vertical-align: middle;\n",
              "    }\n",
              "\n",
              "    .dataframe tbody tr th {\n",
              "        vertical-align: top;\n",
              "    }\n",
              "\n",
              "    .dataframe thead th {\n",
              "        text-align: right;\n",
              "    }\n",
              "</style>\n",
              "<table border=\"1\" class=\"dataframe\">\n",
              "  <thead>\n",
              "    <tr style=\"text-align: right;\">\n",
              "      <th></th>\n",
              "      <th>n</th>\n",
              "      <th>p_n</th>\n",
              "    </tr>\n",
              "  </thead>\n",
              "  <tbody>\n",
              "    <tr>\n",
              "      <th>0</th>\n",
              "      <td>0</td>\n",
              "      <td>0.0122</td>\n",
              "    </tr>\n",
              "    <tr>\n",
              "      <th>1</th>\n",
              "      <td>1</td>\n",
              "      <td>0.0488</td>\n",
              "    </tr>\n",
              "    <tr>\n",
              "      <th>2</th>\n",
              "      <td>2</td>\n",
              "      <td>0.0976</td>\n",
              "    </tr>\n",
              "    <tr>\n",
              "      <th>3</th>\n",
              "      <td>3</td>\n",
              "      <td>0.1301</td>\n",
              "    </tr>\n",
              "    <tr>\n",
              "      <th>4</th>\n",
              "      <td>4</td>\n",
              "      <td>0.1735</td>\n",
              "    </tr>\n",
              "    <tr>\n",
              "      <th>5</th>\n",
              "      <td>5</td>\n",
              "      <td>0.2313</td>\n",
              "    </tr>\n",
              "    <tr>\n",
              "      <th>6</th>\n",
              "      <td>6</td>\n",
              "      <td>0.3085</td>\n",
              "    </tr>\n",
              "  </tbody>\n",
              "</table>\n",
              "</div>\n",
              "      <button class=\"colab-df-convert\" onclick=\"convertToInteractive('df-bce51079-f98b-4609-bed9-98a71e7fdc1c')\"\n",
              "              title=\"Convert this dataframe to an interactive table.\"\n",
              "              style=\"display:none;\">\n",
              "        \n",
              "  <svg xmlns=\"http://www.w3.org/2000/svg\" height=\"24px\"viewBox=\"0 0 24 24\"\n",
              "       width=\"24px\">\n",
              "    <path d=\"M0 0h24v24H0V0z\" fill=\"none\"/>\n",
              "    <path d=\"M18.56 5.44l.94 2.06.94-2.06 2.06-.94-2.06-.94-.94-2.06-.94 2.06-2.06.94zm-11 1L8.5 8.5l.94-2.06 2.06-.94-2.06-.94L8.5 2.5l-.94 2.06-2.06.94zm10 10l.94 2.06.94-2.06 2.06-.94-2.06-.94-.94-2.06-.94 2.06-2.06.94z\"/><path d=\"M17.41 7.96l-1.37-1.37c-.4-.4-.92-.59-1.43-.59-.52 0-1.04.2-1.43.59L10.3 9.45l-7.72 7.72c-.78.78-.78 2.05 0 2.83L4 21.41c.39.39.9.59 1.41.59.51 0 1.02-.2 1.41-.59l7.78-7.78 2.81-2.81c.8-.78.8-2.07 0-2.86zM5.41 20L4 18.59l7.72-7.72 1.47 1.35L5.41 20z\"/>\n",
              "  </svg>\n",
              "      </button>\n",
              "      \n",
              "  <style>\n",
              "    .colab-df-container {\n",
              "      display:flex;\n",
              "      flex-wrap:wrap;\n",
              "      gap: 12px;\n",
              "    }\n",
              "\n",
              "    .colab-df-convert {\n",
              "      background-color: #E8F0FE;\n",
              "      border: none;\n",
              "      border-radius: 50%;\n",
              "      cursor: pointer;\n",
              "      display: none;\n",
              "      fill: #1967D2;\n",
              "      height: 32px;\n",
              "      padding: 0 0 0 0;\n",
              "      width: 32px;\n",
              "    }\n",
              "\n",
              "    .colab-df-convert:hover {\n",
              "      background-color: #E2EBFA;\n",
              "      box-shadow: 0px 1px 2px rgba(60, 64, 67, 0.3), 0px 1px 3px 1px rgba(60, 64, 67, 0.15);\n",
              "      fill: #174EA6;\n",
              "    }\n",
              "\n",
              "    [theme=dark] .colab-df-convert {\n",
              "      background-color: #3B4455;\n",
              "      fill: #D2E3FC;\n",
              "    }\n",
              "\n",
              "    [theme=dark] .colab-df-convert:hover {\n",
              "      background-color: #434B5C;\n",
              "      box-shadow: 0px 1px 3px 1px rgba(0, 0, 0, 0.15);\n",
              "      filter: drop-shadow(0px 1px 2px rgba(0, 0, 0, 0.3));\n",
              "      fill: #FFFFFF;\n",
              "    }\n",
              "  </style>\n",
              "\n",
              "      <script>\n",
              "        const buttonEl =\n",
              "          document.querySelector('#df-bce51079-f98b-4609-bed9-98a71e7fdc1c button.colab-df-convert');\n",
              "        buttonEl.style.display =\n",
              "          google.colab.kernel.accessAllowed ? 'block' : 'none';\n",
              "\n",
              "        async function convertToInteractive(key) {\n",
              "          const element = document.querySelector('#df-bce51079-f98b-4609-bed9-98a71e7fdc1c');\n",
              "          const dataTable =\n",
              "            await google.colab.kernel.invokeFunction('convertToInteractive',\n",
              "                                                     [key], {});\n",
              "          if (!dataTable) return;\n",
              "\n",
              "          const docLinkHtml = 'Like what you see? Visit the ' +\n",
              "            '<a target=\"_blank\" href=https://colab.research.google.com/notebooks/data_table.ipynb>data table notebook</a>'\n",
              "            + ' to learn more about interactive tables.';\n",
              "          element.innerHTML = '';\n",
              "          dataTable['output_type'] = 'display_data';\n",
              "          await google.colab.output.renderOutput(dataTable, element);\n",
              "          const docLink = document.createElement('div');\n",
              "          docLink.innerHTML = docLinkHtml;\n",
              "          element.appendChild(docLink);\n",
              "        }\n",
              "      </script>\n",
              "    </div>\n",
              "  </div>\n",
              "  "
            ]
          },
          "metadata": {},
          "execution_count": 81
        }
      ],
      "source": [
        "# дано\n",
        "our_lambda = 12 #входная интенсивность задач\n",
        "c = 3 #количество каналов\n",
        "mu = 3 #интенсивность/скорость обслуживания канала\n",
        "N = 3 #максимальная длина очереди\n",
        "K = c+N #макс количество агентов в системе\n",
        "\n",
        "# считаем\n",
        "ro = our_lambda / mu\n",
        "\n",
        "#  P_0 \n",
        "x = 0\n",
        "for n in range(c+1):\n",
        "    x_1 = ro**n/math.factorial(n)\n",
        "    x += x_1\n",
        "\n",
        "y = 0\n",
        "for i in range(1, K-c+1):\n",
        "    y_1 = (ro/c)**i\n",
        "    y += y_1 \n",
        "\n",
        "p_null = round(1 / (x+(ro**c/math.factorial(c) * y)), 4)\n",
        "\n",
        "#P_n\n",
        "df_p = pd.DataFrame([[0, p_null]], columns=['n', 'p_n'])\n",
        "for n in range(1, K+1):\n",
        "    if n <= c:\n",
        "        p = round((ro**n)/math.factorial(n) * p_null, 4)\n",
        "    elif n > c:\n",
        "        p = round(((ro**n)/math.factorial(c)) * ((1/c)**(n-c)) * p_null, 4)\n",
        "    \n",
        "    df = pd.DataFrame([[n, p]], columns=['n', 'p_n'])\n",
        "    df_p = pd.concat([df_p, df]).reset_index(drop=True)\n",
        "\n",
        "df_p"
      ]
    },
    {
      "cell_type": "code",
      "source": [
        "# The average arrival rate of customers who actually enter the system\n",
        "p_k = df_p.iloc[6][1] #все каналы заняты и очередь наполнена, тогда p_k - это вероятность отказа (и вероятность, что у нас K клиентов в системе)\n",
        "hat_lambda = our_lambda*(1-p_k)\n",
        "hat_lambda"
      ],
      "metadata": {
        "colab": {
          "base_uri": "https://localhost:8080/"
        },
        "id": "Jxv1GJxVS9ZU",
        "outputId": "753d8dcf-885f-4898-c7fb-9f21e8dfaf75"
      },
      "execution_count": 43,
      "outputs": [
        {
          "output_type": "execute_result",
          "data": {
            "text/plain": [
              "8.298"
            ]
          },
          "metadata": {},
          "execution_count": 43
        }
      ]
    },
    {
      "cell_type": "markdown",
      "source": [
        "### $\\bar{Q}$ - Среднее число заявок, находящихся в очереди"
      ],
      "metadata": {
        "id": "JWTgyZyliLqQ"
      }
    },
    {
      "cell_type": "markdown",
      "source": [
        "![Screenshot 2023-02-12 at 14.19.20.png](data:image/png;base64,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)"
      ],
      "metadata": {
        "id": "CKAPI3K0WfMr"
      }
    },
    {
      "cell_type": "code",
      "source": [
        "r = ro/c\n",
        "q_hat = ( (ro**c * r * p_null)/(math.factorial(c) * (1-r)**2) ) * (1 + (K-c) * r**(K-c+1) - (K-c+1) * r**(K-c))\n",
        "q_hat"
      ],
      "metadata": {
        "colab": {
          "base_uri": "https://localhost:8080/"
        },
        "id": "wmht-hjZWP7J",
        "outputId": "ad4fc881-d4f3-4b10-9fb5-c91268bd2429"
      },
      "execution_count": 44,
      "outputs": [
        {
          "output_type": "execute_result",
          "data": {
            "text/plain": [
              "1.5616000000000005"
            ]
          },
          "metadata": {},
          "execution_count": 44
        }
      ]
    },
    {
      "cell_type": "markdown",
      "source": [
        "### $\\bar{N}$ - Среднее число заявок, находящихся в СМО"
      ],
      "metadata": {
        "id": "A-8xmUl2iBAU"
      }
    },
    {
      "cell_type": "markdown",
      "source": [
        "![Screenshot 2023-02-12 at 14.25.22.png](data:image/png;base64,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)"
      ],
      "metadata": {
        "id": "tk8U7IGVX49g"
      }
    },
    {
      "cell_type": "code",
      "source": [
        "x, y = 0, 0\n",
        "for n in range(c):\n",
        "    x_1 = n * df_p.iloc[n][1]\n",
        "    x += x_1\n",
        "    y_1 = df_p.iloc[n][1]\n",
        "    y += y_1\n",
        " \n",
        "n_hat = round(q_hat + x + c*(1-y), 4)\n",
        "n_hat"
      ],
      "metadata": {
        "colab": {
          "base_uri": "https://localhost:8080/"
        },
        "id": "lbhjGTZdXud4",
        "outputId": "1d33188a-76a1-4653-aeaf-04b480daa2e7"
      },
      "execution_count": 45,
      "outputs": [
        {
          "output_type": "execute_result",
          "data": {
            "text/plain": [
              "4.3298"
            ]
          },
          "metadata": {},
          "execution_count": 45
        }
      ]
    },
    {
      "cell_type": "markdown",
      "source": [
        "### $\\bar{W}, \\bar{T}, \\Pi_n$ (dist_arrival_null)"
      ],
      "metadata": {
        "id": "s_rZraEThZh-"
      }
    },
    {
      "cell_type": "markdown",
      "source": [
        "![Screenshot 2023-02-12 at 14.42.24.png](data:image/png;base64,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)"
      ],
      "metadata": {
        "id": "pATRLYhObxbi"
      }
    },
    {
      "cell_type": "code",
      "source": [
        "# Average waiting time\n",
        "w_hat = q_hat / hat_lambda\n",
        "w_hat"
      ],
      "metadata": {
        "colab": {
          "base_uri": "https://localhost:8080/"
        },
        "id": "vWU3AJ8Pbh9Q",
        "outputId": "e3dbbaaa-6ebd-438a-a5e6-778c67b8b0c0"
      },
      "execution_count": 50,
      "outputs": [
        {
          "output_type": "execute_result",
          "data": {
            "text/plain": [
              "0.18818992528320083"
            ]
          },
          "metadata": {},
          "execution_count": 50
        }
      ]
    },
    {
      "cell_type": "code",
      "source": [
        "# Mean response time\n",
        "t_hat = n_hat / hat_lambda\n",
        "t_hat"
      ],
      "metadata": {
        "colab": {
          "base_uri": "https://localhost:8080/"
        },
        "id": "1Z5uW_hOcXcb",
        "outputId": "dc358b9f-f031-4a68-9515-0857dcf7e4c1"
      },
      "execution_count": 55,
      "outputs": [
        {
          "output_type": "execute_result",
          "data": {
            "text/plain": [
              "0.5217883827428296"
            ]
          },
          "metadata": {},
          "execution_count": 55
        }
      ]
    },
    {
      "cell_type": "code",
      "source": [
        "# Distribution at the moment of arrival into the system\n",
        "df_pp = df_p.copy()\n",
        "df_pp['dist_arrival'] = 0\n",
        "for i in df_pp['n']:\n",
        "    df_pp.loc[df_pp['n'] == i, 'dist_arrival'] = df_pp.loc[df_pp['n'] == i, 'p_n'] / (1-p_k)\n",
        "\n",
        "dist_arrival_null = df_pp.iloc[0][2]\n",
        "df_pp"
      ],
      "metadata": {
        "colab": {
          "base_uri": "https://localhost:8080/",
          "height": 269
        },
        "id": "hG6VSOw5ewxK",
        "outputId": "4c5deb07-fcea-461a-b45e-1b6abc536dc4"
      },
      "execution_count": 226,
      "outputs": [
        {
          "output_type": "execute_result",
          "data": {
            "text/plain": [
              "   n     p_n  dist_arrival\n",
              "0  0  0.0122      0.017643\n",
              "1  1  0.0488      0.070571\n",
              "2  2  0.0976      0.141142\n",
              "3  3  0.1301      0.188142\n",
              "4  4  0.1735      0.250904\n",
              "5  5  0.2313      0.334490\n",
              "6  6  0.3085      0.446132"
            ],
            "text/html": [
              "\n",
              "  <div id=\"df-40054cc5-d3ad-472f-9af9-6a0fe8ec8dc0\">\n",
              "    <div class=\"colab-df-container\">\n",
              "      <div>\n",
              "<style scoped>\n",
              "    .dataframe tbody tr th:only-of-type {\n",
              "        vertical-align: middle;\n",
              "    }\n",
              "\n",
              "    .dataframe tbody tr th {\n",
              "        vertical-align: top;\n",
              "    }\n",
              "\n",
              "    .dataframe thead th {\n",
              "        text-align: right;\n",
              "    }\n",
              "</style>\n",
              "<table border=\"1\" class=\"dataframe\">\n",
              "  <thead>\n",
              "    <tr style=\"text-align: right;\">\n",
              "      <th></th>\n",
              "      <th>n</th>\n",
              "      <th>p_n</th>\n",
              "      <th>dist_arrival</th>\n",
              "    </tr>\n",
              "  </thead>\n",
              "  <tbody>\n",
              "    <tr>\n",
              "      <th>0</th>\n",
              "      <td>0</td>\n",
              "      <td>0.0122</td>\n",
              "      <td>0.017643</td>\n",
              "    </tr>\n",
              "    <tr>\n",
              "      <th>1</th>\n",
              "      <td>1</td>\n",
              "      <td>0.0488</td>\n",
              "      <td>0.070571</td>\n",
              "    </tr>\n",
              "    <tr>\n",
              "      <th>2</th>\n",
              "      <td>2</td>\n",
              "      <td>0.0976</td>\n",
              "      <td>0.141142</td>\n",
              "    </tr>\n",
              "    <tr>\n",
              "      <th>3</th>\n",
              "      <td>3</td>\n",
              "      <td>0.1301</td>\n",
              "      <td>0.188142</td>\n",
              "    </tr>\n",
              "    <tr>\n",
              "      <th>4</th>\n",
              "      <td>4</td>\n",
              "      <td>0.1735</td>\n",
              "      <td>0.250904</td>\n",
              "    </tr>\n",
              "    <tr>\n",
              "      <th>5</th>\n",
              "      <td>5</td>\n",
              "      <td>0.2313</td>\n",
              "      <td>0.334490</td>\n",
              "    </tr>\n",
              "    <tr>\n",
              "      <th>6</th>\n",
              "      <td>6</td>\n",
              "      <td>0.3085</td>\n",
              "      <td>0.446132</td>\n",
              "    </tr>\n",
              "  </tbody>\n",
              "</table>\n",
              "</div>\n",
              "      <button class=\"colab-df-convert\" onclick=\"convertToInteractive('df-40054cc5-d3ad-472f-9af9-6a0fe8ec8dc0')\"\n",
              "              title=\"Convert this dataframe to an interactive table.\"\n",
              "              style=\"display:none;\">\n",
              "        \n",
              "  <svg xmlns=\"http://www.w3.org/2000/svg\" height=\"24px\"viewBox=\"0 0 24 24\"\n",
              "       width=\"24px\">\n",
              "    <path d=\"M0 0h24v24H0V0z\" fill=\"none\"/>\n",
              "    <path d=\"M18.56 5.44l.94 2.06.94-2.06 2.06-.94-2.06-.94-.94-2.06-.94 2.06-2.06.94zm-11 1L8.5 8.5l.94-2.06 2.06-.94-2.06-.94L8.5 2.5l-.94 2.06-2.06.94zm10 10l.94 2.06.94-2.06 2.06-.94-2.06-.94-.94-2.06-.94 2.06-2.06.94z\"/><path d=\"M17.41 7.96l-1.37-1.37c-.4-.4-.92-.59-1.43-.59-.52 0-1.04.2-1.43.59L10.3 9.45l-7.72 7.72c-.78.78-.78 2.05 0 2.83L4 21.41c.39.39.9.59 1.41.59.51 0 1.02-.2 1.41-.59l7.78-7.78 2.81-2.81c.8-.78.8-2.07 0-2.86zM5.41 20L4 18.59l7.72-7.72 1.47 1.35L5.41 20z\"/>\n",
              "  </svg>\n",
              "      </button>\n",
              "      \n",
              "  <style>\n",
              "    .colab-df-container {\n",
              "      display:flex;\n",
              "      flex-wrap:wrap;\n",
              "      gap: 12px;\n",
              "    }\n",
              "\n",
              "    .colab-df-convert {\n",
              "      background-color: #E8F0FE;\n",
              "      border: none;\n",
              "      border-radius: 50%;\n",
              "      cursor: pointer;\n",
              "      display: none;\n",
              "      fill: #1967D2;\n",
              "      height: 32px;\n",
              "      padding: 0 0 0 0;\n",
              "      width: 32px;\n",
              "    }\n",
              "\n",
              "    .colab-df-convert:hover {\n",
              "      background-color: #E2EBFA;\n",
              "      box-shadow: 0px 1px 2px rgba(60, 64, 67, 0.3), 0px 1px 3px 1px rgba(60, 64, 67, 0.15);\n",
              "      fill: #174EA6;\n",
              "    }\n",
              "\n",
              "    [theme=dark] .colab-df-convert {\n",
              "      background-color: #3B4455;\n",
              "      fill: #D2E3FC;\n",
              "    }\n",
              "\n",
              "    [theme=dark] .colab-df-convert:hover {\n",
              "      background-color: #434B5C;\n",
              "      box-shadow: 0px 1px 3px 1px rgba(0, 0, 0, 0.15);\n",
              "      filter: drop-shadow(0px 1px 2px rgba(0, 0, 0, 0.3));\n",
              "      fill: #FFFFFF;\n",
              "    }\n",
              "  </style>\n",
              "\n",
              "      <script>\n",
              "        const buttonEl =\n",
              "          document.querySelector('#df-40054cc5-d3ad-472f-9af9-6a0fe8ec8dc0 button.colab-df-convert');\n",
              "        buttonEl.style.display =\n",
              "          google.colab.kernel.accessAllowed ? 'block' : 'none';\n",
              "\n",
              "        async function convertToInteractive(key) {\n",
              "          const element = document.querySelector('#df-40054cc5-d3ad-472f-9af9-6a0fe8ec8dc0');\n",
              "          const dataTable =\n",
              "            await google.colab.kernel.invokeFunction('convertToInteractive',\n",
              "                                                     [key], {});\n",
              "          if (!dataTable) return;\n",
              "\n",
              "          const docLinkHtml = 'Like what you see? Visit the ' +\n",
              "            '<a target=\"_blank\" href=https://colab.research.google.com/notebooks/data_table.ipynb>data table notebook</a>'\n",
              "            + ' to learn more about interactive tables.';\n",
              "          element.innerHTML = '';\n",
              "          dataTable['output_type'] = 'display_data';\n",
              "          await google.colab.output.renderOutput(dataTable, element);\n",
              "          const docLink = document.createElement('div');\n",
              "          docLink.innerHTML = docLinkHtml;\n",
              "          element.appendChild(docLink);\n",
              "        }\n",
              "      </script>\n",
              "    </div>\n",
              "  </div>\n",
              "  "
            ]
          },
          "metadata": {},
          "execution_count": 226
        }
      ]
    },
    {
      "cell_type": "markdown",
      "source": [
        "### Вероятность того, что вновь поступившая заявка немедленно будет принята к обслуживанию (p_nowtake)"
      ],
      "metadata": {
        "id": "QsxhAjc8hv_7"
      }
    },
    {
      "cell_type": "code",
      "source": [
        "# Вероятность того, что вновь поступившая заявка немедленно будет принята к обслуживанию \n",
        "# по сути это вероятность, что хотя бы один канал свободен, тогда это сумма вероятностей от p_0 до p_2\n",
        "# не берем p_3 так как если все три канала заняты, то заявка не будет немедленно принята к обслуживанию\n",
        "# плюс заметил, что сумма вероятностей нахождения во всех состояниях равна 1\n",
        "p_nowtake = round(df_p.iloc[0][1] + df_p.iloc[1][1] + df_p.iloc[2][1], 4)\n",
        "p_nowtake"
      ],
      "metadata": {
        "colab": {
          "base_uri": "https://localhost:8080/"
        },
        "id": "Zc8Ayjn1dn32",
        "outputId": "145a3b94-8eb4-430e-f278-c807d550a428"
      },
      "execution_count": 67,
      "outputs": [
        {
          "output_type": "execute_result",
          "data": {
            "text/plain": [
              "0.1586"
            ]
          },
          "metadata": {},
          "execution_count": 67
        }
      ]
    },
    {
      "cell_type": "markdown",
      "source": [
        "### $F_W(t)$ - Distribution of the waiting time, Закон распределения времени ожидания заявки в очереди"
      ],
      "metadata": {
        "id": "upDMncdSixlO"
      }
    },
    {
      "cell_type": "markdown",
      "source": [
        "![Screenshot 2023-02-12 at 15.15.22.png](data:image/png;base64,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)"
      ],
      "metadata": {
        "id": "MV1YlskQjT7-"
      }
    },
    {
      "cell_type": "code",
      "source": [
        "def func_wait_time(t):\n",
        "    x, y = 0, 0\n",
        "    for i in range(c, K):\n",
        "        x += df_pp.iloc[i][2]\n",
        "\n",
        "    for i in range(n-c+1):\n",
        "        y += ((c*mu*t)**i) * math.exp(-(c*mu*t)) / math.factorial(i)\n",
        "    \n",
        "    return 1 - x*y"
      ],
      "metadata": {
        "id": "rwcICaLKi8Jk"
      },
      "execution_count": null,
      "outputs": []
    }
  ]
}