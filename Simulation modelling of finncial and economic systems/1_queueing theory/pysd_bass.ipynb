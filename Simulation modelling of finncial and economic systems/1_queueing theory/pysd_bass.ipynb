{
  "cells": [
    {
      "cell_type": "code",
      "execution_count": 2,
      "id": "1b8acecc",
      "metadata": {
        "colab": {
          "base_uri": "https://localhost:8080/"
        },
        "id": "1b8acecc",
        "outputId": "ed696307-6434-4915-9d79-0e975fb080cc"
      },
      "outputs": [
        {
          "output_type": "stream",
          "name": "stdout",
          "text": [
            "Looking in indexes: https://pypi.org/simple, https://us-python.pkg.dev/colab-wheels/public/simple/\n",
            "Collecting pysd\n",
            "  Downloading pysd-3.9.0-py3-none-any.whl (143 kB)\n",
            "\u001b[2K     \u001b[90m━━━━━━━━━━━━━━━━━━━━━━━━━━━━━━━━━━━━━━\u001b[0m \u001b[32m144.0/144.0 KB\u001b[0m \u001b[31m14.8 MB/s\u001b[0m eta \u001b[36m0:00:00\u001b[0m\n",
            "\u001b[?25hRequirement already satisfied: scipy in /usr/local/lib/python3.8/dist-packages (from pysd) (1.10.1)\n",
            "Collecting black\n",
            "  Downloading black-23.1.0-cp38-cp38-manylinux_2_17_x86_64.manylinux2014_x86_64.whl (1.6 MB)\n",
            "\u001b[2K     \u001b[90m━━━━━━━━━━━━━━━━━━━━━━━━━━━━━━━━━━━━━━━━\u001b[0m \u001b[32m1.6/1.6 MB\u001b[0m \u001b[31m63.1 MB/s\u001b[0m eta \u001b[36m0:00:00\u001b[0m\n",
            "\u001b[?25hCollecting portion\n",
            "  Downloading portion-2.3.1-py3-none-any.whl (23 kB)\n",
            "Requirement already satisfied: openpyxl in /usr/local/lib/python3.8/dist-packages (from pysd) (3.0.10)\n",
            "Requirement already satisfied: pandas in /usr/local/lib/python3.8/dist-packages (from pysd) (1.3.5)\n",
            "Requirement already satisfied: chardet in /usr/local/lib/python3.8/dist-packages (from pysd) (4.0.0)\n",
            "Requirement already satisfied: progressbar2 in /usr/local/lib/python3.8/dist-packages (from pysd) (3.38.0)\n",
            "Requirement already satisfied: lxml in /usr/local/lib/python3.8/dist-packages (from pysd) (4.9.2)\n",
            "Requirement already satisfied: xarray in /usr/local/lib/python3.8/dist-packages (from pysd) (2022.12.0)\n",
            "Requirement already satisfied: xlrd in /usr/local/lib/python3.8/dist-packages (from pysd) (1.2.0)\n",
            "Collecting parsimonious\n",
            "  Downloading parsimonious-0.10.0-py3-none-any.whl (48 kB)\n",
            "\u001b[2K     \u001b[90m━━━━━━━━━━━━━━━━━━━━━━━━━━━━━━━━━━━━━━━━\u001b[0m \u001b[32m48.4/48.4 KB\u001b[0m \u001b[31m5.9 MB/s\u001b[0m eta \u001b[36m0:00:00\u001b[0m\n",
            "\u001b[?25hRequirement already satisfied: regex in /usr/local/lib/python3.8/dist-packages (from pysd) (2022.6.2)\n",
            "Requirement already satisfied: tomli>=1.1.0 in /usr/local/lib/python3.8/dist-packages (from black->pysd) (2.0.1)\n",
            "Requirement already satisfied: packaging>=22.0 in /usr/local/lib/python3.8/dist-packages (from black->pysd) (23.0)\n",
            "Requirement already satisfied: typing-extensions>=3.10.0.0 in /usr/local/lib/python3.8/dist-packages (from black->pysd) (4.5.0)\n",
            "Requirement already satisfied: platformdirs>=2 in /usr/local/lib/python3.8/dist-packages (from black->pysd) (3.0.0)\n",
            "Collecting mypy-extensions>=0.4.3\n",
            "  Downloading mypy_extensions-1.0.0-py3-none-any.whl (4.7 kB)\n",
            "Requirement already satisfied: click>=8.0.0 in /usr/local/lib/python3.8/dist-packages (from black->pysd) (8.1.3)\n",
            "Collecting pathspec>=0.9.0\n",
            "  Downloading pathspec-0.11.0-py3-none-any.whl (29 kB)\n",
            "Requirement already satisfied: et-xmlfile in /usr/local/lib/python3.8/dist-packages (from openpyxl->pysd) (1.1.0)\n",
            "Requirement already satisfied: numpy>=1.17.3 in /usr/local/lib/python3.8/dist-packages (from pandas->pysd) (1.22.4)\n",
            "Requirement already satisfied: pytz>=2017.3 in /usr/local/lib/python3.8/dist-packages (from pandas->pysd) (2022.7.1)\n",
            "Requirement already satisfied: python-dateutil>=2.7.3 in /usr/local/lib/python3.8/dist-packages (from pandas->pysd) (2.8.2)\n",
            "Requirement already satisfied: sortedcontainers~=2.2 in /usr/local/lib/python3.8/dist-packages (from portion->pysd) (2.4.0)\n",
            "Requirement already satisfied: six in /usr/local/lib/python3.8/dist-packages (from progressbar2->pysd) (1.15.0)\n",
            "Requirement already satisfied: python-utils>=2.3.0 in /usr/local/lib/python3.8/dist-packages (from progressbar2->pysd) (3.5.2)\n",
            "Installing collected packages: portion, pathspec, parsimonious, mypy-extensions, black, pysd\n",
            "Successfully installed black-23.1.0 mypy-extensions-1.0.0 parsimonious-0.10.0 pathspec-0.11.0 portion-2.3.1 pysd-3.9.0\n"
          ]
        }
      ],
      "source": [
        "# !pip install netCDF4\n",
        "!pip install pysd"
      ]
    },
    {
      "cell_type": "code",
      "execution_count": 4,
      "id": "understanding-international",
      "metadata": {
        "scrolled": true,
        "colab": {
          "base_uri": "https://localhost:8080/",
          "height": 363
        },
        "id": "understanding-international",
        "outputId": "17524559-3086-44a8-e897-d1c7e34ef2cc"
      },
      "outputs": [
        {
          "output_type": "stream",
          "name": "stdout",
          "text": [
            "Populating the interactive namespace from numpy and matplotlib\n"
          ]
        },
        {
          "output_type": "error",
          "ename": "FileNotFoundError",
          "evalue": "ignored",
          "traceback": [
            "\u001b[0;31m---------------------------------------------------------------------------\u001b[0m",
            "\u001b[0;31mFileNotFoundError\u001b[0m                         Traceback (most recent call last)",
            "\u001b[0;32m<ipython-input-4-b703cc6f19f9>\u001b[0m in \u001b[0;36m<module>\u001b[0;34m\u001b[0m\n\u001b[1;32m      2\u001b[0m \u001b[0mget_ipython\u001b[0m\u001b[0;34m(\u001b[0m\u001b[0;34m)\u001b[0m\u001b[0;34m.\u001b[0m\u001b[0mrun_line_magic\u001b[0m\u001b[0;34m(\u001b[0m\u001b[0;34m'pylab'\u001b[0m\u001b[0;34m,\u001b[0m \u001b[0;34m'inline'\u001b[0m\u001b[0;34m)\u001b[0m\u001b[0;34m\u001b[0m\u001b[0;34m\u001b[0m\u001b[0m\n\u001b[1;32m      3\u001b[0m \u001b[0;32mimport\u001b[0m \u001b[0mpysd\u001b[0m\u001b[0;34m\u001b[0m\u001b[0;34m\u001b[0m\u001b[0m\n\u001b[0;32m----> 4\u001b[0;31m \u001b[0mmodel\u001b[0m \u001b[0;34m=\u001b[0m \u001b[0mpysd\u001b[0m\u001b[0;34m.\u001b[0m\u001b[0mread_vensim\u001b[0m\u001b[0;34m(\u001b[0m\u001b[0;34m'./bass.mdl'\u001b[0m\u001b[0;34m)\u001b[0m\u001b[0;34m\u001b[0m\u001b[0;34m\u001b[0m\u001b[0m\n\u001b[0m",
            "\u001b[0;32m/usr/local/lib/python3.8/dist-packages/pysd/pysd.py\u001b[0m in \u001b[0;36mread_vensim\u001b[0;34m(mdl_file, data_files, initialize, missing_values, split_views, encoding, **kwargs)\u001b[0m\n\u001b[1;32m    142\u001b[0m     \u001b[0;32mfrom\u001b[0m \u001b[0mpysd\u001b[0m\u001b[0;34m.\u001b[0m\u001b[0mbuilders\u001b[0m\u001b[0;34m.\u001b[0m\u001b[0mpython\u001b[0m\u001b[0;34m.\u001b[0m\u001b[0mpython_model_builder\u001b[0m \u001b[0;32mimport\u001b[0m \u001b[0mModelBuilder\u001b[0m\u001b[0;34m\u001b[0m\u001b[0;34m\u001b[0m\u001b[0m\n\u001b[1;32m    143\u001b[0m     \u001b[0;31m# Read and parse Vensim file\u001b[0m\u001b[0;34m\u001b[0m\u001b[0;34m\u001b[0m\u001b[0;34m\u001b[0m\u001b[0m\n\u001b[0;32m--> 144\u001b[0;31m     \u001b[0mven_file\u001b[0m \u001b[0;34m=\u001b[0m \u001b[0mVensimFile\u001b[0m\u001b[0;34m(\u001b[0m\u001b[0mmdl_file\u001b[0m\u001b[0;34m,\u001b[0m \u001b[0mencoding\u001b[0m\u001b[0;34m=\u001b[0m\u001b[0mencoding\u001b[0m\u001b[0;34m)\u001b[0m\u001b[0;34m\u001b[0m\u001b[0;34m\u001b[0m\u001b[0m\n\u001b[0m\u001b[1;32m    145\u001b[0m     \u001b[0mven_file\u001b[0m\u001b[0;34m.\u001b[0m\u001b[0mparse\u001b[0m\u001b[0;34m(\u001b[0m\u001b[0;34m)\u001b[0m\u001b[0;34m\u001b[0m\u001b[0;34m\u001b[0m\u001b[0m\n\u001b[1;32m    146\u001b[0m     \u001b[0;32mif\u001b[0m \u001b[0msplit_views\u001b[0m\u001b[0;34m:\u001b[0m\u001b[0;34m\u001b[0m\u001b[0;34m\u001b[0m\u001b[0m\n",
            "\u001b[0;32m/usr/local/lib/python3.8/dist-packages/pysd/translators/vensim/vensim_file.py\u001b[0m in \u001b[0;36m__init__\u001b[0;34m(self, mdl_path, encoding)\u001b[0m\n\u001b[1;32m     42\u001b[0m         \u001b[0mself\u001b[0m\u001b[0;34m.\u001b[0m\u001b[0mmdl_path\u001b[0m \u001b[0;34m=\u001b[0m \u001b[0mPath\u001b[0m\u001b[0;34m(\u001b[0m\u001b[0mmdl_path\u001b[0m\u001b[0;34m)\u001b[0m\u001b[0;34m\u001b[0m\u001b[0;34m\u001b[0m\u001b[0m\n\u001b[1;32m     43\u001b[0m         \u001b[0mself\u001b[0m\u001b[0;34m.\u001b[0m\u001b[0mroot_path\u001b[0m \u001b[0;34m=\u001b[0m \u001b[0mself\u001b[0m\u001b[0;34m.\u001b[0m\u001b[0mmdl_path\u001b[0m\u001b[0;34m.\u001b[0m\u001b[0mparent\u001b[0m\u001b[0;34m\u001b[0m\u001b[0;34m\u001b[0m\u001b[0m\n\u001b[0;32m---> 44\u001b[0;31m         \u001b[0mself\u001b[0m\u001b[0;34m.\u001b[0m\u001b[0mmodel_text\u001b[0m \u001b[0;34m=\u001b[0m \u001b[0mself\u001b[0m\u001b[0;34m.\u001b[0m\u001b[0m_read\u001b[0m\u001b[0;34m(\u001b[0m\u001b[0mencoding\u001b[0m\u001b[0;34m)\u001b[0m\u001b[0;34m\u001b[0m\u001b[0;34m\u001b[0m\u001b[0m\n\u001b[0m\u001b[1;32m     45\u001b[0m         \u001b[0mself\u001b[0m\u001b[0;34m.\u001b[0m\u001b[0msketch\u001b[0m \u001b[0;34m=\u001b[0m \u001b[0;34m\"\"\u001b[0m\u001b[0;34m\u001b[0m\u001b[0;34m\u001b[0m\u001b[0m\n\u001b[1;32m     46\u001b[0m         \u001b[0mself\u001b[0m\u001b[0;34m.\u001b[0m\u001b[0mview_elements\u001b[0m \u001b[0;34m=\u001b[0m \u001b[0;32mNone\u001b[0m\u001b[0;34m\u001b[0m\u001b[0;34m\u001b[0m\u001b[0m\n",
            "\u001b[0;32m/usr/local/lib/python3.8/dist-packages/pysd/translators/vensim/vensim_file.py\u001b[0m in \u001b[0;36m_read\u001b[0;34m(self, encoding)\u001b[0m\n\u001b[1;32m     82\u001b[0m         \u001b[0;32mif\u001b[0m \u001b[0mencoding\u001b[0m \u001b[0;32mis\u001b[0m \u001b[0;32mNone\u001b[0m\u001b[0;34m:\u001b[0m\u001b[0;34m\u001b[0m\u001b[0;34m\u001b[0m\u001b[0m\n\u001b[1;32m     83\u001b[0m             \u001b[0;31m# Try detecting the encoding from the file\u001b[0m\u001b[0;34m\u001b[0m\u001b[0;34m\u001b[0m\u001b[0;34m\u001b[0m\u001b[0m\n\u001b[0;32m---> 84\u001b[0;31m             \u001b[0mencoding\u001b[0m \u001b[0;34m=\u001b[0m \u001b[0mvu\u001b[0m\u001b[0;34m.\u001b[0m\u001b[0m_detect_encoding_from_file\u001b[0m\u001b[0;34m(\u001b[0m\u001b[0mself\u001b[0m\u001b[0;34m.\u001b[0m\u001b[0mmdl_path\u001b[0m\u001b[0;34m)\u001b[0m\u001b[0;34m\u001b[0m\u001b[0;34m\u001b[0m\u001b[0m\n\u001b[0m\u001b[1;32m     85\u001b[0m \u001b[0;34m\u001b[0m\u001b[0m\n\u001b[1;32m     86\u001b[0m         with self.mdl_path.open(\"r\", encoding=encoding,\n",
            "\u001b[0;32m/usr/local/lib/python3.8/dist-packages/pysd/translators/vensim/vensim_utils.py\u001b[0m in \u001b[0;36m_detect_encoding_from_file\u001b[0;34m(mdl_file)\u001b[0m\n\u001b[1;32m    145\u001b[0m     \u001b[0;34m\"\"\"Detect and return the encoding from a Vensim file\"\"\"\u001b[0m\u001b[0;34m\u001b[0m\u001b[0;34m\u001b[0m\u001b[0m\n\u001b[1;32m    146\u001b[0m     \u001b[0;32mtry\u001b[0m\u001b[0;34m:\u001b[0m\u001b[0;34m\u001b[0m\u001b[0;34m\u001b[0m\u001b[0m\n\u001b[0;32m--> 147\u001b[0;31m         \u001b[0;32mwith\u001b[0m \u001b[0mmdl_file\u001b[0m\u001b[0;34m.\u001b[0m\u001b[0mopen\u001b[0m\u001b[0;34m(\u001b[0m\u001b[0;34m\"rb\"\u001b[0m\u001b[0;34m)\u001b[0m \u001b[0;32mas\u001b[0m \u001b[0min_file\u001b[0m\u001b[0;34m:\u001b[0m\u001b[0;34m\u001b[0m\u001b[0;34m\u001b[0m\u001b[0m\n\u001b[0m\u001b[1;32m    148\u001b[0m             \u001b[0mf_line\u001b[0m\u001b[0;34m:\u001b[0m \u001b[0mbytes\u001b[0m \u001b[0;34m=\u001b[0m \u001b[0min_file\u001b[0m\u001b[0;34m.\u001b[0m\u001b[0mreadline\u001b[0m\u001b[0;34m(\u001b[0m\u001b[0;34m)\u001b[0m\u001b[0;34m\u001b[0m\u001b[0;34m\u001b[0m\u001b[0m\n\u001b[1;32m    149\u001b[0m         \u001b[0mf_line\u001b[0m\u001b[0;34m:\u001b[0m \u001b[0mstr\u001b[0m \u001b[0;34m=\u001b[0m \u001b[0mf_line\u001b[0m\u001b[0;34m.\u001b[0m\u001b[0mdecode\u001b[0m\u001b[0;34m(\u001b[0m\u001b[0mdetect\u001b[0m\u001b[0;34m(\u001b[0m\u001b[0mf_line\u001b[0m\u001b[0;34m)\u001b[0m\u001b[0;34m[\u001b[0m\u001b[0;34m'encoding'\u001b[0m\u001b[0;34m]\u001b[0m\u001b[0;34m)\u001b[0m\u001b[0;34m\u001b[0m\u001b[0;34m\u001b[0m\u001b[0m\n",
            "\u001b[0;32m/usr/lib/python3.8/pathlib.py\u001b[0m in \u001b[0;36mopen\u001b[0;34m(self, mode, buffering, encoding, errors, newline)\u001b[0m\n\u001b[1;32m   1220\u001b[0m         \u001b[0;32mif\u001b[0m \u001b[0mself\u001b[0m\u001b[0;34m.\u001b[0m\u001b[0m_closed\u001b[0m\u001b[0;34m:\u001b[0m\u001b[0;34m\u001b[0m\u001b[0;34m\u001b[0m\u001b[0m\n\u001b[1;32m   1221\u001b[0m             \u001b[0mself\u001b[0m\u001b[0;34m.\u001b[0m\u001b[0m_raise_closed\u001b[0m\u001b[0;34m(\u001b[0m\u001b[0;34m)\u001b[0m\u001b[0;34m\u001b[0m\u001b[0;34m\u001b[0m\u001b[0m\n\u001b[0;32m-> 1222\u001b[0;31m         return io.open(self, mode, buffering, encoding, errors, newline,\n\u001b[0m\u001b[1;32m   1223\u001b[0m                        opener=self._opener)\n\u001b[1;32m   1224\u001b[0m \u001b[0;34m\u001b[0m\u001b[0m\n",
            "\u001b[0;32m/usr/lib/python3.8/pathlib.py\u001b[0m in \u001b[0;36m_opener\u001b[0;34m(self, name, flags, mode)\u001b[0m\n\u001b[1;32m   1076\u001b[0m     \u001b[0;32mdef\u001b[0m \u001b[0m_opener\u001b[0m\u001b[0;34m(\u001b[0m\u001b[0mself\u001b[0m\u001b[0;34m,\u001b[0m \u001b[0mname\u001b[0m\u001b[0;34m,\u001b[0m \u001b[0mflags\u001b[0m\u001b[0;34m,\u001b[0m \u001b[0mmode\u001b[0m\u001b[0;34m=\u001b[0m\u001b[0;36m0o666\u001b[0m\u001b[0;34m)\u001b[0m\u001b[0;34m:\u001b[0m\u001b[0;34m\u001b[0m\u001b[0;34m\u001b[0m\u001b[0m\n\u001b[1;32m   1077\u001b[0m         \u001b[0;31m# A stub for the opener argument to built-in open()\u001b[0m\u001b[0;34m\u001b[0m\u001b[0;34m\u001b[0m\u001b[0;34m\u001b[0m\u001b[0m\n\u001b[0;32m-> 1078\u001b[0;31m         \u001b[0;32mreturn\u001b[0m \u001b[0mself\u001b[0m\u001b[0;34m.\u001b[0m\u001b[0m_accessor\u001b[0m\u001b[0;34m.\u001b[0m\u001b[0mopen\u001b[0m\u001b[0;34m(\u001b[0m\u001b[0mself\u001b[0m\u001b[0;34m,\u001b[0m \u001b[0mflags\u001b[0m\u001b[0;34m,\u001b[0m \u001b[0mmode\u001b[0m\u001b[0;34m)\u001b[0m\u001b[0;34m\u001b[0m\u001b[0;34m\u001b[0m\u001b[0m\n\u001b[0m\u001b[1;32m   1079\u001b[0m \u001b[0;34m\u001b[0m\u001b[0m\n\u001b[1;32m   1080\u001b[0m     \u001b[0;32mdef\u001b[0m \u001b[0m_raw_open\u001b[0m\u001b[0;34m(\u001b[0m\u001b[0mself\u001b[0m\u001b[0;34m,\u001b[0m \u001b[0mflags\u001b[0m\u001b[0;34m,\u001b[0m \u001b[0mmode\u001b[0m\u001b[0;34m=\u001b[0m\u001b[0;36m0o777\u001b[0m\u001b[0;34m)\u001b[0m\u001b[0;34m:\u001b[0m\u001b[0;34m\u001b[0m\u001b[0;34m\u001b[0m\u001b[0m\n",
            "\u001b[0;31mFileNotFoundError\u001b[0m: [Errno 2] No such file or directory: 'bass.mdl'"
          ]
        }
      ],
      "source": [
        "#!pip install pylab\n",
        "%pylab inline\n",
        "import pysd\n",
        "model = pysd.read_vensim('./bass.mdl')"
      ]
    },
    {
      "cell_type": "code",
      "execution_count": 5,
      "id": "forward-industry",
      "metadata": {
        "colab": {
          "base_uri": "https://localhost:8080/",
          "height": 424
        },
        "id": "forward-industry",
        "outputId": "c30764b6-3527-4ff9-c801-46a382195ad5"
      },
      "outputs": [
        {
          "output_type": "execute_result",
          "data": {
            "text/plain": [
              "        potential_customers\n",
              "0.0           100000.000000\n",
              "0.1            99776.126751\n",
              "0.2            99543.448043\n",
              "0.3            99301.645636\n",
              "0.4            99050.394331\n",
              "...                     ...\n",
              "999.6          33673.873563\n",
              "999.7          33673.873563\n",
              "999.8          33673.873563\n",
              "999.9          33673.873563\n",
              "1000.0         33673.873563\n",
              "\n",
              "[10001 rows x 1 columns]"
            ],
            "text/html": [
              "\n",
              "  <div id=\"df-effefc67-eb38-468f-aa91-9183eb81dfdf\">\n",
              "    <div class=\"colab-df-container\">\n",
              "      <div>\n",
              "<style scoped>\n",
              "    .dataframe tbody tr th:only-of-type {\n",
              "        vertical-align: middle;\n",
              "    }\n",
              "\n",
              "    .dataframe tbody tr th {\n",
              "        vertical-align: top;\n",
              "    }\n",
              "\n",
              "    .dataframe thead th {\n",
              "        text-align: right;\n",
              "    }\n",
              "</style>\n",
              "<table border=\"1\" class=\"dataframe\">\n",
              "  <thead>\n",
              "    <tr style=\"text-align: right;\">\n",
              "      <th></th>\n",
              "      <th>potential_customers</th>\n",
              "    </tr>\n",
              "  </thead>\n",
              "  <tbody>\n",
              "    <tr>\n",
              "      <th>0.0</th>\n",
              "      <td>100000.000000</td>\n",
              "    </tr>\n",
              "    <tr>\n",
              "      <th>0.1</th>\n",
              "      <td>99776.126751</td>\n",
              "    </tr>\n",
              "    <tr>\n",
              "      <th>0.2</th>\n",
              "      <td>99543.448043</td>\n",
              "    </tr>\n",
              "    <tr>\n",
              "      <th>0.3</th>\n",
              "      <td>99301.645636</td>\n",
              "    </tr>\n",
              "    <tr>\n",
              "      <th>0.4</th>\n",
              "      <td>99050.394331</td>\n",
              "    </tr>\n",
              "    <tr>\n",
              "      <th>...</th>\n",
              "      <td>...</td>\n",
              "    </tr>\n",
              "    <tr>\n",
              "      <th>999.6</th>\n",
              "      <td>33673.873563</td>\n",
              "    </tr>\n",
              "    <tr>\n",
              "      <th>999.7</th>\n",
              "      <td>33673.873563</td>\n",
              "    </tr>\n",
              "    <tr>\n",
              "      <th>999.8</th>\n",
              "      <td>33673.873563</td>\n",
              "    </tr>\n",
              "    <tr>\n",
              "      <th>999.9</th>\n",
              "      <td>33673.873563</td>\n",
              "    </tr>\n",
              "    <tr>\n",
              "      <th>1000.0</th>\n",
              "      <td>33673.873563</td>\n",
              "    </tr>\n",
              "  </tbody>\n",
              "</table>\n",
              "<p>10001 rows × 1 columns</p>\n",
              "</div>\n",
              "      <button class=\"colab-df-convert\" onclick=\"convertToInteractive('df-effefc67-eb38-468f-aa91-9183eb81dfdf')\"\n",
              "              title=\"Convert this dataframe to an interactive table.\"\n",
              "              style=\"display:none;\">\n",
              "        \n",
              "  <svg xmlns=\"http://www.w3.org/2000/svg\" height=\"24px\"viewBox=\"0 0 24 24\"\n",
              "       width=\"24px\">\n",
              "    <path d=\"M0 0h24v24H0V0z\" fill=\"none\"/>\n",
              "    <path d=\"M18.56 5.44l.94 2.06.94-2.06 2.06-.94-2.06-.94-.94-2.06-.94 2.06-2.06.94zm-11 1L8.5 8.5l.94-2.06 2.06-.94-2.06-.94L8.5 2.5l-.94 2.06-2.06.94zm10 10l.94 2.06.94-2.06 2.06-.94-2.06-.94-.94-2.06-.94 2.06-2.06.94z\"/><path d=\"M17.41 7.96l-1.37-1.37c-.4-.4-.92-.59-1.43-.59-.52 0-1.04.2-1.43.59L10.3 9.45l-7.72 7.72c-.78.78-.78 2.05 0 2.83L4 21.41c.39.39.9.59 1.41.59.51 0 1.02-.2 1.41-.59l7.78-7.78 2.81-2.81c.8-.78.8-2.07 0-2.86zM5.41 20L4 18.59l7.72-7.72 1.47 1.35L5.41 20z\"/>\n",
              "  </svg>\n",
              "      </button>\n",
              "      \n",
              "  <style>\n",
              "    .colab-df-container {\n",
              "      display:flex;\n",
              "      flex-wrap:wrap;\n",
              "      gap: 12px;\n",
              "    }\n",
              "\n",
              "    .colab-df-convert {\n",
              "      background-color: #E8F0FE;\n",
              "      border: none;\n",
              "      border-radius: 50%;\n",
              "      cursor: pointer;\n",
              "      display: none;\n",
              "      fill: #1967D2;\n",
              "      height: 32px;\n",
              "      padding: 0 0 0 0;\n",
              "      width: 32px;\n",
              "    }\n",
              "\n",
              "    .colab-df-convert:hover {\n",
              "      background-color: #E2EBFA;\n",
              "      box-shadow: 0px 1px 2px rgba(60, 64, 67, 0.3), 0px 1px 3px 1px rgba(60, 64, 67, 0.15);\n",
              "      fill: #174EA6;\n",
              "    }\n",
              "\n",
              "    [theme=dark] .colab-df-convert {\n",
              "      background-color: #3B4455;\n",
              "      fill: #D2E3FC;\n",
              "    }\n",
              "\n",
              "    [theme=dark] .colab-df-convert:hover {\n",
              "      background-color: #434B5C;\n",
              "      box-shadow: 0px 1px 3px 1px rgba(0, 0, 0, 0.15);\n",
              "      filter: drop-shadow(0px 1px 2px rgba(0, 0, 0, 0.3));\n",
              "      fill: #FFFFFF;\n",
              "    }\n",
              "  </style>\n",
              "\n",
              "      <script>\n",
              "        const buttonEl =\n",
              "          document.querySelector('#df-effefc67-eb38-468f-aa91-9183eb81dfdf button.colab-df-convert');\n",
              "        buttonEl.style.display =\n",
              "          google.colab.kernel.accessAllowed ? 'block' : 'none';\n",
              "\n",
              "        async function convertToInteractive(key) {\n",
              "          const element = document.querySelector('#df-effefc67-eb38-468f-aa91-9183eb81dfdf');\n",
              "          const dataTable =\n",
              "            await google.colab.kernel.invokeFunction('convertToInteractive',\n",
              "                                                     [key], {});\n",
              "          if (!dataTable) return;\n",
              "\n",
              "          const docLinkHtml = 'Like what you see? Visit the ' +\n",
              "            '<a target=\"_blank\" href=https://colab.research.google.com/notebooks/data_table.ipynb>data table notebook</a>'\n",
              "            + ' to learn more about interactive tables.';\n",
              "          element.innerHTML = '';\n",
              "          dataTable['output_type'] = 'display_data';\n",
              "          await google.colab.output.renderOutput(dataTable, element);\n",
              "          const docLink = document.createElement('div');\n",
              "          docLink.innerHTML = docLinkHtml;\n",
              "          element.appendChild(docLink);\n",
              "        }\n",
              "      </script>\n",
              "    </div>\n",
              "  </div>\n",
              "  "
            ]
          },
          "metadata": {},
          "execution_count": 5
        }
      ],
      "source": [
        "model = pysd.load('./bass copy.py')\n",
        "model.run(return_columns=['potential_customers'])"
      ]
    },
    {
      "cell_type": "code",
      "execution_count": null,
      "id": "romance-italic",
      "metadata": {
        "id": "romance-italic",
        "outputId": "efb9a10f-a03e-48d8-cda4-3fdf37d9ea5a"
      },
      "outputs": [
        {
          "data": {
            "text/html": [
              "<div>\n",
              "<style scoped>\n",
              "    .dataframe tbody tr th:only-of-type {\n",
              "        vertical-align: middle;\n",
              "    }\n",
              "\n",
              "    .dataframe tbody tr th {\n",
              "        vertical-align: top;\n",
              "    }\n",
              "\n",
              "    .dataframe thead th {\n",
              "        text-align: right;\n",
              "    }\n",
              "</style>\n",
              "<table border=\"1\" class=\"dataframe\">\n",
              "  <thead>\n",
              "    <tr style=\"text-align: right;\">\n",
              "      <th></th>\n",
              "      <th>Real Name</th>\n",
              "      <th>Py Name</th>\n",
              "      <th>Subscripts</th>\n",
              "      <th>Units</th>\n",
              "      <th>Limits</th>\n",
              "      <th>Type</th>\n",
              "      <th>Subtype</th>\n",
              "      <th>Comment</th>\n",
              "    </tr>\n",
              "  </thead>\n",
              "  <tbody>\n",
              "    <tr>\n",
              "      <th>0</th>\n",
              "      <td>Customers</td>\n",
              "      <td>customers</td>\n",
              "      <td>None</td>\n",
              "      <td>person</td>\n",
              "      <td>(nan, nan)</td>\n",
              "      <td>Stateful</td>\n",
              "      <td>Integ</td>\n",
              "      <td>None</td>\n",
              "    </tr>\n",
              "    <tr>\n",
              "      <th>1</th>\n",
              "      <td>Enemy customers</td>\n",
              "      <td>enemy_customers</td>\n",
              "      <td>None</td>\n",
              "      <td>person</td>\n",
              "      <td>(nan, nan)</td>\n",
              "      <td>Stateful</td>\n",
              "      <td>Integ</td>\n",
              "      <td>None</td>\n",
              "    </tr>\n",
              "    <tr>\n",
              "      <th>2</th>\n",
              "      <td>FINAL TIME</td>\n",
              "      <td>final_time</td>\n",
              "      <td>None</td>\n",
              "      <td>Month</td>\n",
              "      <td>(nan, nan)</td>\n",
              "      <td>Constant</td>\n",
              "      <td>Normal</td>\n",
              "      <td>The final time for the simulation.</td>\n",
              "    </tr>\n",
              "    <tr>\n",
              "      <th>3</th>\n",
              "      <td>INITIAL TIME</td>\n",
              "      <td>initial_time</td>\n",
              "      <td>None</td>\n",
              "      <td>Month</td>\n",
              "      <td>(nan, nan)</td>\n",
              "      <td>Constant</td>\n",
              "      <td>Normal</td>\n",
              "      <td>The initial time for the simulation.</td>\n",
              "    </tr>\n",
              "    <tr>\n",
              "      <th>4</th>\n",
              "      <td>Potential Customers</td>\n",
              "      <td>potential_customers</td>\n",
              "      <td>None</td>\n",
              "      <td>person</td>\n",
              "      <td>(nan, nan)</td>\n",
              "      <td>Stateful</td>\n",
              "      <td>Integ</td>\n",
              "      <td>None</td>\n",
              "    </tr>\n",
              "    <tr>\n",
              "      <th>5</th>\n",
              "      <td>SAVEPER</td>\n",
              "      <td>saveper</td>\n",
              "      <td>None</td>\n",
              "      <td>Month</td>\n",
              "      <td>(nan, nan)</td>\n",
              "      <td>Auxiliary</td>\n",
              "      <td>Normal</td>\n",
              "      <td>The frequency with which output is stored.</td>\n",
              "    </tr>\n",
              "    <tr>\n",
              "      <th>6</th>\n",
              "      <td>TIME STEP</td>\n",
              "      <td>time_step</td>\n",
              "      <td>None</td>\n",
              "      <td>Month</td>\n",
              "      <td>(nan, nan)</td>\n",
              "      <td>Constant</td>\n",
              "      <td>Normal</td>\n",
              "      <td>The time step for the simulation.</td>\n",
              "    </tr>\n",
              "    <tr>\n",
              "      <th>7</th>\n",
              "      <td>Time</td>\n",
              "      <td>time</td>\n",
              "      <td>None</td>\n",
              "      <td>None</td>\n",
              "      <td>(nan, nan)</td>\n",
              "      <td>None</td>\n",
              "      <td>None</td>\n",
              "      <td>Current time of the model.</td>\n",
              "    </tr>\n",
              "    <tr>\n",
              "      <th>8</th>\n",
              "      <td>change rate</td>\n",
              "      <td>change_rate</td>\n",
              "      <td>None</td>\n",
              "      <td></td>\n",
              "      <td>(nan, nan)</td>\n",
              "      <td>Auxiliary</td>\n",
              "      <td>Normal</td>\n",
              "      <td>None</td>\n",
              "    </tr>\n",
              "    <tr>\n",
              "      <th>9</th>\n",
              "      <td>change to enemy</td>\n",
              "      <td>change_to_enemy</td>\n",
              "      <td>None</td>\n",
              "      <td>person/Month</td>\n",
              "      <td>(nan, nan)</td>\n",
              "      <td>Auxiliary</td>\n",
              "      <td>Normal</td>\n",
              "      <td>None</td>\n",
              "    </tr>\n",
              "    <tr>\n",
              "      <th>10</th>\n",
              "      <td>change to me</td>\n",
              "      <td>change_to_me</td>\n",
              "      <td>None</td>\n",
              "      <td>person/Month</td>\n",
              "      <td>(nan, nan)</td>\n",
              "      <td>Auxiliary</td>\n",
              "      <td>Normal</td>\n",
              "      <td>None</td>\n",
              "    </tr>\n",
              "    <tr>\n",
              "      <th>11</th>\n",
              "      <td>contacts of noncustomers with customers</td>\n",
              "      <td>contacts_of_noncustomers_with_customers</td>\n",
              "      <td>None</td>\n",
              "      <td>contact/Month</td>\n",
              "      <td>(nan, nan)</td>\n",
              "      <td>Auxiliary</td>\n",
              "      <td>Normal</td>\n",
              "      <td>None</td>\n",
              "    </tr>\n",
              "    <tr>\n",
              "      <th>12</th>\n",
              "      <td>contacts of noncustomers with enemy customers</td>\n",
              "      <td>contacts_of_noncustomers_with_enemy_customers</td>\n",
              "      <td>None</td>\n",
              "      <td>contact/Month</td>\n",
              "      <td>(nan, nan)</td>\n",
              "      <td>Auxiliary</td>\n",
              "      <td>Normal</td>\n",
              "      <td>None</td>\n",
              "    </tr>\n",
              "    <tr>\n",
              "      <th>13</th>\n",
              "      <td>contacts with customers</td>\n",
              "      <td>contacts_with_customers</td>\n",
              "      <td>None</td>\n",
              "      <td>contact/Month</td>\n",
              "      <td>(nan, nan)</td>\n",
              "      <td>Auxiliary</td>\n",
              "      <td>Normal</td>\n",
              "      <td>None</td>\n",
              "    </tr>\n",
              "    <tr>\n",
              "      <th>14</th>\n",
              "      <td>contacts with enemy customers</td>\n",
              "      <td>contacts_with_enemy_customers</td>\n",
              "      <td>None</td>\n",
              "      <td>contact/Month</td>\n",
              "      <td>(nan, nan)</td>\n",
              "      <td>Auxiliary</td>\n",
              "      <td>Normal</td>\n",
              "      <td>None</td>\n",
              "    </tr>\n",
              "    <tr>\n",
              "      <th>15</th>\n",
              "      <td>direct market</td>\n",
              "      <td>direct_market</td>\n",
              "      <td>None</td>\n",
              "      <td>person/Month</td>\n",
              "      <td>(nan, nan)</td>\n",
              "      <td>Auxiliary</td>\n",
              "      <td>Normal</td>\n",
              "      <td>None</td>\n",
              "    </tr>\n",
              "    <tr>\n",
              "      <th>16</th>\n",
              "      <td>enemy share</td>\n",
              "      <td>comp_share</td>\n",
              "      <td>None</td>\n",
              "      <td></td>\n",
              "      <td>(nan, nan)</td>\n",
              "      <td>Auxiliary</td>\n",
              "      <td>Normal</td>\n",
              "      <td>None</td>\n",
              "    </tr>\n",
              "    <tr>\n",
              "      <th>17</th>\n",
              "      <td>fruitfulness</td>\n",
              "      <td>fruitfulness</td>\n",
              "      <td>None</td>\n",
              "      <td>person/contact</td>\n",
              "      <td>(nan, nan)</td>\n",
              "      <td>Constant</td>\n",
              "      <td>Normal</td>\n",
              "      <td>None</td>\n",
              "    </tr>\n",
              "    <tr>\n",
              "      <th>18</th>\n",
              "      <td>leave rate</td>\n",
              "      <td>leave_rate</td>\n",
              "      <td>None</td>\n",
              "      <td></td>\n",
              "      <td>(nan, nan)</td>\n",
              "      <td>Auxiliary</td>\n",
              "      <td>Normal</td>\n",
              "      <td>None</td>\n",
              "    </tr>\n",
              "    <tr>\n",
              "      <th>19</th>\n",
              "      <td>left enemy</td>\n",
              "      <td>left_enemy</td>\n",
              "      <td>None</td>\n",
              "      <td>person/Month</td>\n",
              "      <td>(nan, nan)</td>\n",
              "      <td>Auxiliary</td>\n",
              "      <td>Normal</td>\n",
              "      <td>None</td>\n",
              "    </tr>\n",
              "    <tr>\n",
              "      <th>20</th>\n",
              "      <td>left me</td>\n",
              "      <td>left_me</td>\n",
              "      <td>None</td>\n",
              "      <td>person/Month</td>\n",
              "      <td>(nan, nan)</td>\n",
              "      <td>Auxiliary</td>\n",
              "      <td>Normal</td>\n",
              "      <td>None</td>\n",
              "    </tr>\n",
              "    <tr>\n",
              "      <th>21</th>\n",
              "      <td>mark eff</td>\n",
              "      <td>mark_eff</td>\n",
              "      <td>None</td>\n",
              "      <td>person/contact</td>\n",
              "      <td>(nan, nan)</td>\n",
              "      <td>Constant</td>\n",
              "      <td>Normal</td>\n",
              "      <td>None</td>\n",
              "    </tr>\n",
              "    <tr>\n",
              "      <th>22</th>\n",
              "      <td>my share</td>\n",
              "      <td>my_share</td>\n",
              "      <td>None</td>\n",
              "      <td></td>\n",
              "      <td>(nan, nan)</td>\n",
              "      <td>Auxiliary</td>\n",
              "      <td>Normal</td>\n",
              "      <td>None</td>\n",
              "    </tr>\n",
              "    <tr>\n",
              "      <th>23</th>\n",
              "      <td>new customers</td>\n",
              "      <td>new_customers</td>\n",
              "      <td>None</td>\n",
              "      <td>person/Month</td>\n",
              "      <td>(nan, nan)</td>\n",
              "      <td>Auxiliary</td>\n",
              "      <td>Normal</td>\n",
              "      <td>None</td>\n",
              "    </tr>\n",
              "    <tr>\n",
              "      <th>24</th>\n",
              "      <td>new enemy customers</td>\n",
              "      <td>new_enemy_customers</td>\n",
              "      <td>None</td>\n",
              "      <td>person/Month</td>\n",
              "      <td>(nan, nan)</td>\n",
              "      <td>Auxiliary</td>\n",
              "      <td>Normal</td>\n",
              "      <td>None</td>\n",
              "    </tr>\n",
              "    <tr>\n",
              "      <th>25</th>\n",
              "      <td>p11</td>\n",
              "      <td>p11</td>\n",
              "      <td>None</td>\n",
              "      <td>probability</td>\n",
              "      <td>(nan, nan)</td>\n",
              "      <td>Constant</td>\n",
              "      <td>Normal</td>\n",
              "      <td>None</td>\n",
              "    </tr>\n",
              "    <tr>\n",
              "      <th>26</th>\n",
              "      <td>p13</td>\n",
              "      <td>p13</td>\n",
              "      <td>None</td>\n",
              "      <td>probability</td>\n",
              "      <td>(nan, nan)</td>\n",
              "      <td>Constant</td>\n",
              "      <td>Normal</td>\n",
              "      <td>None</td>\n",
              "    </tr>\n",
              "    <tr>\n",
              "      <th>27</th>\n",
              "      <td>p21</td>\n",
              "      <td>p21</td>\n",
              "      <td>None</td>\n",
              "      <td>probability</td>\n",
              "      <td>(nan, nan)</td>\n",
              "      <td>Constant</td>\n",
              "      <td>Normal</td>\n",
              "      <td>None</td>\n",
              "    </tr>\n",
              "    <tr>\n",
              "      <th>28</th>\n",
              "      <td>p23</td>\n",
              "      <td>p23</td>\n",
              "      <td>None</td>\n",
              "      <td>probability</td>\n",
              "      <td>(nan, nan)</td>\n",
              "      <td>Constant</td>\n",
              "      <td>Normal</td>\n",
              "      <td>None</td>\n",
              "    </tr>\n",
              "    <tr>\n",
              "      <th>29</th>\n",
              "      <td>potential customer concentration</td>\n",
              "      <td>potential_customer_concentration</td>\n",
              "      <td>None</td>\n",
              "      <td>dmnl</td>\n",
              "      <td>(nan, nan)</td>\n",
              "      <td>Auxiliary</td>\n",
              "      <td>Normal</td>\n",
              "      <td>None</td>\n",
              "    </tr>\n",
              "    <tr>\n",
              "      <th>30</th>\n",
              "      <td>sociability</td>\n",
              "      <td>sociability</td>\n",
              "      <td>None</td>\n",
              "      <td>contact/person/Month</td>\n",
              "      <td>(nan, nan)</td>\n",
              "      <td>Constant</td>\n",
              "      <td>Normal</td>\n",
              "      <td>None</td>\n",
              "    </tr>\n",
              "    <tr>\n",
              "      <th>31</th>\n",
              "      <td>total market</td>\n",
              "      <td>total_market</td>\n",
              "      <td>None</td>\n",
              "      <td>person</td>\n",
              "      <td>(nan, nan)</td>\n",
              "      <td>Auxiliary</td>\n",
              "      <td>Normal</td>\n",
              "      <td>None</td>\n",
              "    </tr>\n",
              "    <tr>\n",
              "      <th>32</th>\n",
              "      <td>word of enemy mouth demand</td>\n",
              "      <td>word_of_enemy_mouth_demand</td>\n",
              "      <td>None</td>\n",
              "      <td>person/Month</td>\n",
              "      <td>(nan, nan)</td>\n",
              "      <td>Auxiliary</td>\n",
              "      <td>Normal</td>\n",
              "      <td>None</td>\n",
              "    </tr>\n",
              "    <tr>\n",
              "      <th>33</th>\n",
              "      <td>word of mouth demand</td>\n",
              "      <td>word_of_mouth_demand</td>\n",
              "      <td>None</td>\n",
              "      <td>person/Month</td>\n",
              "      <td>(nan, nan)</td>\n",
              "      <td>Auxiliary</td>\n",
              "      <td>Normal</td>\n",
              "      <td>None</td>\n",
              "    </tr>\n",
              "  </tbody>\n",
              "</table>\n",
              "</div>"
            ],
            "text/plain": [
              "                                        Real Name  \\\n",
              "0                                       Customers   \n",
              "1                                 Enemy customers   \n",
              "2                                      FINAL TIME   \n",
              "3                                    INITIAL TIME   \n",
              "4                             Potential Customers   \n",
              "5                                         SAVEPER   \n",
              "6                                       TIME STEP   \n",
              "7                                            Time   \n",
              "8                                     change rate   \n",
              "9                                 change to enemy   \n",
              "10                                   change to me   \n",
              "11        contacts of noncustomers with customers   \n",
              "12  contacts of noncustomers with enemy customers   \n",
              "13                        contacts with customers   \n",
              "14                  contacts with enemy customers   \n",
              "15                                  direct market   \n",
              "16                                    enemy share   \n",
              "17                                   fruitfulness   \n",
              "18                                     leave rate   \n",
              "19                                     left enemy   \n",
              "20                                        left me   \n",
              "21                                       mark eff   \n",
              "22                                       my share   \n",
              "23                                  new customers   \n",
              "24                            new enemy customers   \n",
              "25                                            p11   \n",
              "26                                            p13   \n",
              "27                                            p21   \n",
              "28                                            p23   \n",
              "29               potential customer concentration   \n",
              "30                                    sociability   \n",
              "31                                   total market   \n",
              "32                     word of enemy mouth demand   \n",
              "33                           word of mouth demand   \n",
              "\n",
              "                                          Py Name Subscripts  \\\n",
              "0                                       customers       None   \n",
              "1                                 enemy_customers       None   \n",
              "2                                      final_time       None   \n",
              "3                                    initial_time       None   \n",
              "4                             potential_customers       None   \n",
              "5                                         saveper       None   \n",
              "6                                       time_step       None   \n",
              "7                                            time       None   \n",
              "8                                     change_rate       None   \n",
              "9                                 change_to_enemy       None   \n",
              "10                                   change_to_me       None   \n",
              "11        contacts_of_noncustomers_with_customers       None   \n",
              "12  contacts_of_noncustomers_with_enemy_customers       None   \n",
              "13                        contacts_with_customers       None   \n",
              "14                  contacts_with_enemy_customers       None   \n",
              "15                                  direct_market       None   \n",
              "16                                     comp_share       None   \n",
              "17                                   fruitfulness       None   \n",
              "18                                     leave_rate       None   \n",
              "19                                     left_enemy       None   \n",
              "20                                        left_me       None   \n",
              "21                                       mark_eff       None   \n",
              "22                                       my_share       None   \n",
              "23                                  new_customers       None   \n",
              "24                            new_enemy_customers       None   \n",
              "25                                            p11       None   \n",
              "26                                            p13       None   \n",
              "27                                            p21       None   \n",
              "28                                            p23       None   \n",
              "29               potential_customer_concentration       None   \n",
              "30                                    sociability       None   \n",
              "31                                   total_market       None   \n",
              "32                     word_of_enemy_mouth_demand       None   \n",
              "33                           word_of_mouth_demand       None   \n",
              "\n",
              "                   Units      Limits       Type Subtype  \\\n",
              "0                 person  (nan, nan)   Stateful   Integ   \n",
              "1                 person  (nan, nan)   Stateful   Integ   \n",
              "2                  Month  (nan, nan)   Constant  Normal   \n",
              "3                  Month  (nan, nan)   Constant  Normal   \n",
              "4                 person  (nan, nan)   Stateful   Integ   \n",
              "5                  Month  (nan, nan)  Auxiliary  Normal   \n",
              "6                  Month  (nan, nan)   Constant  Normal   \n",
              "7                   None  (nan, nan)       None    None   \n",
              "8                         (nan, nan)  Auxiliary  Normal   \n",
              "9           person/Month  (nan, nan)  Auxiliary  Normal   \n",
              "10          person/Month  (nan, nan)  Auxiliary  Normal   \n",
              "11         contact/Month  (nan, nan)  Auxiliary  Normal   \n",
              "12         contact/Month  (nan, nan)  Auxiliary  Normal   \n",
              "13         contact/Month  (nan, nan)  Auxiliary  Normal   \n",
              "14         contact/Month  (nan, nan)  Auxiliary  Normal   \n",
              "15          person/Month  (nan, nan)  Auxiliary  Normal   \n",
              "16                        (nan, nan)  Auxiliary  Normal   \n",
              "17        person/contact  (nan, nan)   Constant  Normal   \n",
              "18                        (nan, nan)  Auxiliary  Normal   \n",
              "19          person/Month  (nan, nan)  Auxiliary  Normal   \n",
              "20          person/Month  (nan, nan)  Auxiliary  Normal   \n",
              "21        person/contact  (nan, nan)   Constant  Normal   \n",
              "22                        (nan, nan)  Auxiliary  Normal   \n",
              "23          person/Month  (nan, nan)  Auxiliary  Normal   \n",
              "24          person/Month  (nan, nan)  Auxiliary  Normal   \n",
              "25           probability  (nan, nan)   Constant  Normal   \n",
              "26           probability  (nan, nan)   Constant  Normal   \n",
              "27           probability  (nan, nan)   Constant  Normal   \n",
              "28           probability  (nan, nan)   Constant  Normal   \n",
              "29                  dmnl  (nan, nan)  Auxiliary  Normal   \n",
              "30  contact/person/Month  (nan, nan)   Constant  Normal   \n",
              "31                person  (nan, nan)  Auxiliary  Normal   \n",
              "32          person/Month  (nan, nan)  Auxiliary  Normal   \n",
              "33          person/Month  (nan, nan)  Auxiliary  Normal   \n",
              "\n",
              "                                       Comment  \n",
              "0                                         None  \n",
              "1                                         None  \n",
              "2           The final time for the simulation.  \n",
              "3         The initial time for the simulation.  \n",
              "4                                         None  \n",
              "5   The frequency with which output is stored.  \n",
              "6            The time step for the simulation.  \n",
              "7                   Current time of the model.  \n",
              "8                                         None  \n",
              "9                                         None  \n",
              "10                                        None  \n",
              "11                                        None  \n",
              "12                                        None  \n",
              "13                                        None  \n",
              "14                                        None  \n",
              "15                                        None  \n",
              "16                                        None  \n",
              "17                                        None  \n",
              "18                                        None  \n",
              "19                                        None  \n",
              "20                                        None  \n",
              "21                                        None  \n",
              "22                                        None  \n",
              "23                                        None  \n",
              "24                                        None  \n",
              "25                                        None  \n",
              "26                                        None  \n",
              "27                                        None  \n",
              "28                                        None  \n",
              "29                                        None  \n",
              "30                                        None  \n",
              "31                                        None  \n",
              "32                                        None  \n",
              "33                                        None  "
            ]
          },
          "execution_count": 33,
          "metadata": {},
          "output_type": "execute_result"
        }
      ],
      "source": [
        "model.doc#()"
      ]
    },
    {
      "cell_type": "code",
      "execution_count": null,
      "id": "hollow-vegetable",
      "metadata": {
        "id": "hollow-vegetable",
        "outputId": "f044fd5f-cb3e-4864-8d42-ea19acb8d7bc"
      },
      "outputs": [
        {
          "data": {
            "text/html": [
              "<div>\n",
              "<style scoped>\n",
              "    .dataframe tbody tr th:only-of-type {\n",
              "        vertical-align: middle;\n",
              "    }\n",
              "\n",
              "    .dataframe tbody tr th {\n",
              "        vertical-align: top;\n",
              "    }\n",
              "\n",
              "    .dataframe thead th {\n",
              "        text-align: right;\n",
              "    }\n",
              "</style>\n",
              "<table border=\"1\" class=\"dataframe\">\n",
              "  <thead>\n",
              "    <tr style=\"text-align: right;\">\n",
              "      <th></th>\n",
              "      <th>Customers</th>\n",
              "      <th>Enemy customers</th>\n",
              "      <th>Potential Customers</th>\n",
              "    </tr>\n",
              "  </thead>\n",
              "  <tbody>\n",
              "    <tr>\n",
              "      <th>0.0</th>\n",
              "      <td>0.000000</td>\n",
              "      <td>0.000000</td>\n",
              "      <td>100000.000000</td>\n",
              "    </tr>\n",
              "    <tr>\n",
              "      <th>0.1</th>\n",
              "      <td>110.004678</td>\n",
              "      <td>110.651423</td>\n",
              "      <td>99779.343899</td>\n",
              "    </tr>\n",
              "    <tr>\n",
              "      <th>0.2</th>\n",
              "      <td>220.016698</td>\n",
              "      <td>222.746872</td>\n",
              "      <td>99557.236430</td>\n",
              "    </tr>\n",
              "    <tr>\n",
              "      <th>0.3</th>\n",
              "      <td>330.031241</td>\n",
              "      <td>336.280106</td>\n",
              "      <td>99333.688652</td>\n",
              "    </tr>\n",
              "    <tr>\n",
              "      <th>0.4</th>\n",
              "      <td>440.043498</td>\n",
              "      <td>451.244070</td>\n",
              "      <td>99108.712431</td>\n",
              "    </tr>\n",
              "    <tr>\n",
              "      <th>0.5</th>\n",
              "      <td>550.048671</td>\n",
              "      <td>567.630879</td>\n",
              "      <td>98882.320450</td>\n",
              "    </tr>\n",
              "    <tr>\n",
              "      <th>0.6</th>\n",
              "      <td>660.041971</td>\n",
              "      <td>685.431812</td>\n",
              "      <td>98654.526217</td>\n",
              "    </tr>\n",
              "    <tr>\n",
              "      <th>0.7</th>\n",
              "      <td>770.018626</td>\n",
              "      <td>804.637299</td>\n",
              "      <td>98425.344075</td>\n",
              "    </tr>\n",
              "    <tr>\n",
              "      <th>0.8</th>\n",
              "      <td>879.973877</td>\n",
              "      <td>925.236915</td>\n",
              "      <td>98194.789208</td>\n",
              "    </tr>\n",
              "    <tr>\n",
              "      <th>0.9</th>\n",
              "      <td>989.902981</td>\n",
              "      <td>1047.219372</td>\n",
              "      <td>97962.877648</td>\n",
              "    </tr>\n",
              "  </tbody>\n",
              "</table>\n",
              "</div>"
            ],
            "text/plain": [
              "      Customers  Enemy customers  Potential Customers\n",
              "0.0    0.000000         0.000000        100000.000000\n",
              "0.1  110.004678       110.651423         99779.343899\n",
              "0.2  220.016698       222.746872         99557.236430\n",
              "0.3  330.031241       336.280106         99333.688652\n",
              "0.4  440.043498       451.244070         99108.712431\n",
              "0.5  550.048671       567.630879         98882.320450\n",
              "0.6  660.041971       685.431812         98654.526217\n",
              "0.7  770.018626       804.637299         98425.344075\n",
              "0.8  879.973877       925.236915         98194.789208\n",
              "0.9  989.902981      1047.219372         97962.877648"
            ]
          },
          "execution_count": 40,
          "metadata": {},
          "output_type": "execute_result"
        }
      ],
      "source": [
        "values = model.run(return_columns=['Customers', 'Enemy customers', 'Potential Customers'])#, 'left me', 'left enemy', 'change to me',\n",
        "#        'change to enemy'])\n",
        "values.head(10)"
      ]
    },
    {
      "cell_type": "markdown",
      "id": "c44c022d",
      "metadata": {
        "id": "c44c022d"
      },
      "source": [
        "# ДЗ"
      ]
    },
    {
      "cell_type": "code",
      "execution_count": null,
      "id": "embedded-stylus",
      "metadata": {
        "id": "embedded-stylus",
        "outputId": "68441deb-9be1-49f7-d148-0b6157c0c985"
      },
      "outputs": [
        {
          "data": {
            "image/png": "[encoded data removed]",
            "text/plain": [
              "<Figure size 432x288 with 1 Axes>"
            ]
          },
          "metadata": {
            "needs_background": "light"
          },
          "output_type": "display_data"
        }
      ],
      "source": [
        "# функция грубая, надо сделать меньше шаг, но правим saveper\n",
        "import pandas as pd\n",
        "model = pysd.load('./bass copy.py')\n",
        "model.run(return_columns=['potential_customers'])\n",
        "\n",
        "values = model.run(return_columns=['Customers', 'Enemy customers', 'Potential Customers'])\n",
        "\n",
        "values.plot()\n",
        "plt.ylabel('Data')\n",
        "plt.xlabel('Month')\n",
        "plt.legend(loc='center left', bbox_to_anchor=(1,.5));"
      ]
    },
    {
      "cell_type": "code",
      "execution_count": null,
      "id": "3536cd1c",
      "metadata": {
        "id": "3536cd1c",
        "outputId": "d6a9146c-5fa0-4357-847d-8cb071983102"
      },
      "outputs": [
        {
          "name": "stdout",
          "output_type": "stream",
          "text": [
            "Все отклонения по всем трем переменным равны: 0.0 \n",
            "Сходимость начинается с индекса: 597.3 \n",
            "Сходится к константе по Customers: 58951.0\n"
          ]
        }
      ],
      "source": [
        "values_diff = values.diff()\n",
        "values_diff['diff'] = abs(values_diff['Customers'])+abs(values_diff['Enemy customers'])+abs(values_diff['Potential Customers'])\n",
        "values_diff_null = values_diff[values_diff['diff'] == 0]\n",
        "print('Все отклонения по всем трем переменным равны:', values_diff_null['diff'].sum(), \n",
        "      '\\nСходимость начинается с индекса:', values_diff_null.index[0], '\\nСходится к константе по Customers:', round(values.iloc[5973, 0], 0))"
      ]
    },
    {
      "cell_type": "code",
      "execution_count": null,
      "id": "96d53628",
      "metadata": {
        "id": "96d53628"
      },
      "outputs": [],
      "source": [
        "model.set_components(params={'fruitfulness':0.005})\n",
        "model.components.fruitfulness()"
      ]
    },
    {
      "cell_type": "markdown",
      "source": [
        "# Читинг"
      ],
      "metadata": {
        "id": "FdGrt4WapIjP"
      },
      "id": "FdGrt4WapIjP"
    },
    {
      "cell_type": "code",
      "source": [
        "import numpy as np\n",
        "\n",
        "# задаем параметры модели, которые будем варьировать\n",
        "p11 = np.linspace(0.01, 0.99, 5)\n",
        "p13 = np.linspace(0.01, 0.99, 5)\n",
        "p21 = np.linspace(0.01, 0.99, 5)\n",
        "p23 = np.linspace(0.01, 0.99, 5)\n",
        "\n",
        "# задаем количество точек в обучающей и проверочной выборках\n",
        "n_train = 500\n",
        "n_test = 100\n",
        "\n",
        "# генерируем обучающую выборку\n",
        "train_X = np.zeros((n_train, 4))\n",
        "train_Y = np.zeros(n_train)\n",
        "\n",
        "for i in range(n_train):\n",
        "    # выбираем случайные значения параметров модели из заданных интервалов\n",
        "    rand_p11 = np.random.choice(p11)\n",
        "    rand_p13 = np.random.choice(p13)\n",
        "    rand_p21 = np.random.choice(p21)\n",
        "    rand_p23 = np.random.choice(p23)\n",
        "\n",
        "    # вычисляем долю рынка по модели Басса\n",
        "    p = (rand_p11 + rand_p13 + rand_p21 * rand_p13 / (rand_p13 + rand_p23)) / (1 + rand_p21)\n",
        "\n",
        "    # сохраняем параметры модели и долю рынка\n",
        "    train_X[i] = np.array([rand_p11, rand_p13, rand_p21, rand_p23])\n",
        "    train_Y[i] = p\n",
        "\n",
        "# генерируем проверочную выборку\n",
        "test_X = np.zeros((n_test, 4))\n",
        "test_Y = np.zeros(n_test)\n",
        "\n",
        "for i in range(n_test):\n",
        "    # выбираем случайные значения параметров модели из заданных интервалов\n",
        "    rand_p11 = np.random.choice(p11)\n",
        "    rand_p13 = np.random.choice(p13)\n",
        "    rand_p21 = np.random.choice(p21)\n",
        "    rand_p23 = np.random.choice(p23)\n",
        "\n",
        "    # вычисляем долю рынка по модели Басса\n",
        "    p = (rand_p11 + rand_p13 + rand_p21 * rand_p13 / (rand_p13 + rand_p23)) / (1 + rand_p21)\n",
        "\n",
        "    # сохраняем параметры модели и долю рынка\n",
        "    test_X[i] = np.array([rand_p11, rand_p13, rand_p21, rand_p23])\n",
        "    test_Y[i] = p\n"
      ],
      "metadata": {
        "id": "_GEX0xo9q6QO"
      },
      "id": "_GEX0xo9q6QO",
      "execution_count": 6,
      "outputs": []
    },
    {
      "cell_type": "code",
      "source": [
        "import pandas as pd\n",
        "from sklearn.model_selection import train_test_split\n",
        "from sklearn.linear_model import LinearRegression\n",
        "\n",
        "# # Загрузим данные\n",
        "# df = df_train\n",
        "\n",
        "# # Разделим данные на признаки (X) и метки (y)\n",
        "# X = df.drop(['Market Share'], axis=1)\n",
        "# y = df['Market Share']\n",
        "\n",
        "# Создадим объект модели линейной регрессии\n",
        "model = LinearRegression()\n",
        "\n",
        "# Обучим модель на обучающих данных\n",
        "model.fit(train_X, train_Y)\n",
        "\n",
        "# Сделаем предсказания на тестовых данных\n",
        "y_pred = model.predict(test_X)\n",
        "\n",
        "from sklearn.metrics import r2_score\n",
        "\n",
        "# Оценим качество предсказаний модели\n",
        "r2 = r2_score(test_Y, y_pred)\n",
        "r2"
      ],
      "metadata": {
        "colab": {
          "base_uri": "https://localhost:8080/"
        },
        "id": "NjGrqs1trArF",
        "outputId": "71f16458-148d-47b2-9dd3-cb7903aed011"
      },
      "id": "NjGrqs1trArF",
      "execution_count": 19,
      "outputs": [
        {
          "output_type": "execute_result",
          "data": {
            "text/plain": [
              "0.9595720909835547"
            ]
          },
          "metadata": {},
          "execution_count": 19
        }
      ]
    },
    {
      "cell_type": "markdown",
      "id": "d610b511",
      "metadata": {
        "id": "d610b511"
      },
      "source": [
        "---"
      ]
    },
    {
      "cell_type": "code",
      "source": [
        "# Оценка сходимости модели\n",
        "p11 = np.arange(0.01, 0.1, 0.01)\n",
        "p13 = np.arange(0.1, 1, 0.1)\n",
        "p21 = np.arange(0.1, 1, 0.1)\n",
        "p23 = np.arange(0.01, 0.1, 0.01)\n",
        "\n",
        "for i in range(len(p11)):\n",
        "    for j in range(len(p13)):\n",
        "        for k in range(len(p21)):\n",
        "            for l in range(len(p23)):\n",
        "                params = {'Initial_Number_of_Customers': 500000,\n",
        "                          'p11': p11[i],\n",
        "                          'p13': p13[j],\n",
        "                          'p21': p21[k],\n",
        "                          'p23': p23[l],\n",
        "                          'Frequency_of_Contacts': 0.7,\n",
        "                          'Sensitivity': 0.03,\n",
        "                          'Aggressiveness': 0.01}\n",
        "                result = model.run(params=params, initial_condition=stocks, return_timestamps=[i for i in range(1, 11)])\n",
        "                if abs(result['Cumulative_Number_of_Customers'][-1] - result['Cumulative_Number_of_Customers'][-2]) <= 0.0001:\n",
        "                    print('Model is stable for parameters: p11 = %0.2f, p13 = %0.2f, p21 = %0.2f, p23 = %0.2f' % (p11[i], p13[j], p21[k], p23[l]))\n",
        "\n",
        "\n",
        "# Варьирование параметров и построение ML модели\n",
        "import pandas as pd\n",
        "from sklearn.model_selection import train_test_split\n",
        "from sklearn.linear_model import LinearRegression\n",
        "\n",
        "# Генерируем данные для обучения модели\n",
        "params = {'Initial_Number_of_Customers': 500000,\n",
        "          'Frequency_of_Contacts': 0.7,\n",
        "          'Sensitivity': 0.03,\n",
        "          'Aggressiveness': 0."
      ],
      "metadata": {
        "id": "jsPbivONpKtq"
      },
      "id": "jsPbivONpKtq",
      "execution_count": null,
      "outputs": []
    },
    {
      "cell_type": "code",
      "source": [
        "mport numpy as np\n",
        "\n",
        "def generate_data(p11_range, p13_range, p21_range, p23_range):\n",
        "    data = []\n",
        "    for p11 in p11_range:\n",
        "        for p13 in p13_range:\n",
        "            for p21 in p21_range:\n",
        "                for p23 in p23_range:\n",
        "                    # Set fixed parameters\n",
        "                    p12 = 1 - p11\n",
        "                    p22 = 1 - p21\n",
        "                    p32 = 1 - p31 - p33\n",
        "                    p33 = 1 - p13 - p23\n",
        "                    initial_customers = 1000\n",
        "                    word_of_mouth_demand = 1\n",
        "                    sociability = 20\n",
        "                    fruitfulness = 0.01\n",
        "                    final_time = 100\n",
        "\n",
        "                    # Run Bass model simulation\n",
        "                    component = pm.Component()\n",
        "                    potential_customer_concentration = component.add(pm.Division(pm.Variable(\"Potential Customers\"), pm.Variable(\"total market\")))\n",
        "                    new_customers = component.add(pm.Variable(\"word of mouth demand\"))\n",
        "                    contacts_with_customers = component.add(pm.Multiplication(pm.Variable(\"Customers\"), pm.Variable(\"sociability\")))\n",
        "                    contacts_of_noncustomers_with_customers = component.add(pm.Multiplication(pm.Multiplication(pm.Variable(\"contacts with customers\"), pm.Variable(\"potential customer concentration\")), pm.Constant(30)))\n",
        "                    customers = component.add(pm.Integration(new_customers, initial_customers))\n",
        "                    fruitfulness = component.add(pm.Constant(0.01))\n",
        "                    potential_customers = component.add(pm.Integration(pm.Negation(new_customers), 1000000))\n",
        "                    sociability = component.add(pm.Constant(20))\n",
        "                    total_market = component.add(pm.Addition(customers, potential_customers))\n",
        "                    word_of_mouth_demand = component.add(pm.Multiplication(contacts_of_noncustomers_with_customers, fruitfulness))\n",
        "\n",
        "                    # Set variable parameters\n",
        "                    p31 = 0\n",
        "                    p33 = 1 - p13 - p23\n",
        "                    component.set_variable(\"p11\", p11)\n",
        "                    component.set_variable(\"p12\", p12)\n",
        "                    component.set_variable(\"p13\", p13)\n",
        "                    component.set_variable(\"p21\", p21)\n",
        "                    component.set_variable(\"p22\", p22)\n",
        "                    component.set_variable(\"p23\", p23)\n",
        "                    component.set_variable(\"p31\", p31)\n",
        "                    component.set_variable(\"p32\", p32)\n",
        "                    component.set_variable(\"p33\", p33)\n",
        "                    component.set_variable(\"Customers\", initial_customers)\n",
        "                    component.set_variable(\"contacts with customers\", contacts_with_customers)\n",
        "                    component.set_variable(\"Potential Customers\", 1000000)\n",
        "                    component.set_variable(\"sociability\", sociability)\n",
        "\n",
        "                    simulator ="
      ],
      "metadata": {
        "id": "tt7jSvIxpowN"
      },
      "id": "tt7jSvIxpowN",
      "execution_count": null,
      "outputs": []
    },
    {
      "cell_type": "markdown",
      "id": "5e362dfb",
      "metadata": {
        "id": "5e362dfb"
      },
      "source": [
        "---"
      ]
    },
    {
      "cell_type": "markdown",
      "id": "bba3e961",
      "metadata": {
        "id": "bba3e961"
      },
      "source": [
        "---"
      ]
    },
    {
      "cell_type": "markdown",
      "id": "72c11311",
      "metadata": {
        "id": "72c11311"
      },
      "source": [
        "---"
      ]
    },
    {
      "cell_type": "markdown",
      "id": "a52c312d",
      "metadata": {
        "id": "a52c312d"
      },
      "source": [
        "---"
      ]
    },
    {
      "cell_type": "markdown",
      "id": "ce43856d",
      "metadata": {
        "id": "ce43856d"
      },
      "source": [
        "---"
      ]
    },
    {
      "cell_type": "code",
      "execution_count": null,
      "id": "personal-vacuum",
      "metadata": {
        "id": "personal-vacuum",
        "outputId": "d1c57942-2f55-4eb0-cb4e-cf387783b910"
      },
      "outputs": [
        {
          "data": {
            "image/png": "[encoded data removed]",
            "text/plain": [
              "<Figure size 432x288 with 1 Axes>"
            ]
          },
          "metadata": {
            "needs_background": "light"
          },
          "output_type": "display_data"
        }
      ],
      "source": [
        "values = model.run(return_columns=['Potential Customers', 'Customers'])\n",
        "values.plot()\n",
        "plt.ylabel('Data')\n",
        "plt.xlabel('Month')\n",
        "plt.legend(loc='center left', bbox_to_anchor=(1,.5));"
      ]
    },
    {
      "cell_type": "code",
      "execution_count": null,
      "id": "dried-monitoring",
      "metadata": {
        "id": "dried-monitoring",
        "outputId": "1d9c63af-88e5-45f2-c602-641528484169"
      },
      "outputs": [
        {
          "data": {
            "text/html": [
              "<div>\n",
              "<style scoped>\n",
              "    .dataframe tbody tr th:only-of-type {\n",
              "        vertical-align: middle;\n",
              "    }\n",
              "\n",
              "    .dataframe tbody tr th {\n",
              "        vertical-align: top;\n",
              "    }\n",
              "\n",
              "    .dataframe thead th {\n",
              "        text-align: right;\n",
              "    }\n",
              "</style>\n",
              "<table border=\"1\" class=\"dataframe\">\n",
              "  <thead>\n",
              "    <tr style=\"text-align: right;\">\n",
              "      <th></th>\n",
              "      <th>Customers</th>\n",
              "    </tr>\n",
              "  </thead>\n",
              "  <tbody>\n",
              "    <tr>\n",
              "      <th>0.0</th>\n",
              "      <td>0.000000</td>\n",
              "    </tr>\n",
              "    <tr>\n",
              "      <th>1.0</th>\n",
              "      <td>17787.399210</td>\n",
              "    </tr>\n",
              "    <tr>\n",
              "      <th>3.0</th>\n",
              "      <td>77960.530997</td>\n",
              "    </tr>\n",
              "    <tr>\n",
              "      <th>7.0</th>\n",
              "      <td>92140.799233</td>\n",
              "    </tr>\n",
              "    <tr>\n",
              "      <th>9.5</th>\n",
              "      <td>92173.996150</td>\n",
              "    </tr>\n",
              "  </tbody>\n",
              "</table>\n",
              "</div>"
            ],
            "text/plain": [
              "        Customers\n",
              "0.0      0.000000\n",
              "1.0  17787.399210\n",
              "3.0  77960.530997\n",
              "7.0  92140.799233\n",
              "9.5  92173.996150"
            ]
          },
          "execution_count": 63,
          "metadata": {},
          "output_type": "execute_result"
        },
        {
          "data": {
            "image/png": "[encoded data removed]",
            "text/plain": [
              "<Figure size 432x288 with 1 Axes>"
            ]
          },
          "metadata": {
            "needs_background": "light"
          },
          "output_type": "display_data"
        }
      ],
      "source": [
        "values = model.run(return_timestamps=[0,1,3,7,9.5], return_columns=['Customers'])\n",
        "values.plot(linewidth=0, marker='o')\n",
        "plt.ylabel('Customers')\n",
        "plt.xlabel('Month')\n",
        "values.head()"
      ]
    },
    {
      "cell_type": "code",
      "execution_count": null,
      "id": "blind-farming",
      "metadata": {
        "id": "blind-farming",
        "outputId": "0021f8c2-4c2d-4921-ee8f-331b29da08fc"
      },
      "outputs": [
        {
          "data": {
            "text/plain": [
              "Text(0.5, 0, 'Month')"
            ]
          },
          "execution_count": 64,
          "metadata": {},
          "output_type": "execute_result"
        },
        {
          "data": {
            "image/png": "[encoded data removed]",
            "text/plain": [
              "<Figure size 432x288 with 1 Axes>"
            ]
          },
          "metadata": {
            "needs_background": "light"
          },
          "output_type": "display_data"
        }
      ],
      "source": [
        "# sociability - это contact rate. Он уменьшился, значит мы менее привлекаем. За 10 шагов не успели исчерпать рынок\n",
        "values = model.run(params={'sociability':40},return_columns=['Potential Customers', 'Customers'])\n",
        "values.plot()\n",
        "plt.ylabel('Data')\n",
        "plt.xlabel('Month')"
      ]
    },
    {
      "cell_type": "code",
      "execution_count": null,
      "id": "greek-prayer",
      "metadata": {
        "id": "greek-prayer",
        "outputId": "a0339325-bdb7-48c0-8e2e-f296c1122c3c"
      },
      "outputs": [
        {
          "data": {
            "image/png": "[encoded data removed]",
            "text/plain": [
              "<Figure size 432x288 with 1 Axes>"
            ]
          },
          "metadata": {
            "needs_background": "light"
          },
          "output_type": "display_data"
        }
      ],
      "source": [
        "# несмотря на то, что sociabiity - константа, на ее вход можно подать time series, шаг может быть неравномерный\n",
        "import pandas as pd\n",
        "soc_timeseries = pd.Series(index=range(30), data=range(20,50,1))\n",
        "values = model.run(params={'sociability':soc_timeseries},return_columns=['Potential Customers', 'Customers'])\n",
        "values.plot()\n",
        "plt.ylabel('Data')\n",
        "plt.xlabel('Month');"
      ]
    },
    {
      "cell_type": "code",
      "execution_count": null,
      "id": "institutional-signature",
      "metadata": {
        "id": "institutional-signature",
        "outputId": "f5da8f18-5859-4276-88c0-94d2d53b70d5"
      },
      "outputs": [
        {
          "data": {
            "image/png": "[encoded data removed]",
            "text/plain": [
              "<Figure size 432x288 with 1 Axes>"
            ]
          },
          "metadata": {
            "needs_background": "light"
          },
          "output_type": "display_data"
        }
      ],
      "source": [
        "# fruitfulness - сарафанное радио\n",
        "# все эти p1, p2 - это эта игра константами, как мы сейчас поменяли fruitfulness c 0.002 на 0.005, только мы это делаем в цикле\n",
        "# сначала находим final_time - убедились, что модель сошлась, \n",
        "# потом внешний цикл меняет параметры\n",
        "# пошли if'ать - сошлись/не сошлись, записали (что такое сошлись - позже)\n",
        "model = pysd.load('./bass copy.py')\n",
        "values = model.run(final_time=15,params={'fruitfulness':0.003},return_columns=['Potential Customers', 'Customers'])\n",
        "values.plot()\n",
        "plt.ylabel('Data')\n",
        "plt.xlabel('Month');"
      ]
    },
    {
      "cell_type": "code",
      "execution_count": null,
      "id": "meaningful-intersection",
      "metadata": {
        "id": "meaningful-intersection",
        "outputId": "8f30075b-69a0-4960-e927-2a03720d646e"
      },
      "outputs": [
        {
          "data": {
            "image/png": "[encoded data removed]",
            "text/plain": [
              "<Figure size 432x288 with 1 Axes>"
            ]
          },
          "metadata": {
            "needs_background": "light"
          },
          "output_type": "display_data"
        }
      ],
      "source": [
        "# current - стартовать с предыдущего значения\n",
        "values = model.run(initial_condition='current',return_columns=['Potential Customers', 'Customers'],return_timestamps=list(range(16,20)))\n",
        "values.plot()\n",
        "plt.ylabel('Data')\n",
        "plt.xlabel('Month');"
      ]
    },
    {
      "cell_type": "code",
      "execution_count": null,
      "id": "reasonable-baghdad",
      "metadata": {
        "id": "reasonable-baghdad",
        "outputId": "61fadc69-614b-4663-c556-e1704e30ccda"
      },
      "outputs": [
        {
          "data": {
            "image/png": "[encoded data removed]",
            "text/plain": [
              "<Figure size 432x288 with 1 Axes>"
            ]
          },
          "metadata": {
            "needs_background": "light"
          },
          "output_type": "display_data"
        }
      ],
      "source": [
        "values = model.run(return_columns=['Potential Customers', 'Customers'],return_timestamps=list(range(20,45)))\n",
        "values.plot()\n",
        "plt.ylabel('Data')\n",
        "plt.xlabel('Month');"
      ]
    },
    {
      "cell_type": "code",
      "execution_count": null,
      "id": "greenhouse-blade",
      "metadata": {
        "id": "greenhouse-blade",
        "outputId": "152a2082-e2f8-4d40-b7ce-e12e93ef364e"
      },
      "outputs": [
        {
          "data": {
            "image/png": "[encoded data removed]",
            "text/plain": [
              "<Figure size 432x288 with 1 Axes>"
            ]
          },
          "metadata": {
            "needs_background": "light"
          },
          "output_type": "display_data"
        }
      ],
      "source": [
        "# original - вернуться к дефолту (то что в py файле указано)\n",
        "# В ДЗ СМОТРИМ НЕ НА САМИ КОНТЕЙНЕРЫ, а на их долю относительно общего рынка\n",
        "model = pysd.load('./bass copy.py')\n",
        "values = model.run(initial_condition='original',return_columns=['Potential Customers', 'Customers'])\n",
        "values.plot()\n",
        "plt.ylabel('Data')\n",
        "plt.xlabel('Month');"
      ]
    },
    {
      "cell_type": "code",
      "execution_count": null,
      "id": "difficult-greene",
      "metadata": {
        "id": "difficult-greene",
        "outputId": "4014eae2-7962-4f8e-edf4-92917244e000"
      },
      "outputs": [
        {
          "data": {
            "text/plain": [
              "92174.37069193614"
            ]
          },
          "execution_count": 70,
          "metadata": {},
          "output_type": "execute_result"
        }
      ],
      "source": [
        "model.components.customers()"
      ]
    },
    {
      "cell_type": "code",
      "execution_count": null,
      "id": "charming-luxury",
      "metadata": {
        "id": "charming-luxury",
        "outputId": "bc523689-e10d-48ee-e029-9cdfa7f722a0"
      },
      "outputs": [
        {
          "data": {
            "text/plain": [
              "0.005"
            ]
          },
          "execution_count": 71,
          "metadata": {},
          "output_type": "execute_result"
        }
      ],
      "source": [
        "# set_components - изменить навсегда на константу, пока не вызовем original\n",
        "model.set_components(params={'fruitfulness':0.005})\n",
        "model.components.fruitfulness()"
      ]
    },
    {
      "cell_type": "code",
      "execution_count": null,
      "id": "corporate-oasis",
      "metadata": {
        "id": "corporate-oasis",
        "outputId": "6d2f40eb-c34b-4919-f6ae-8e86b36af638"
      },
      "outputs": [
        {
          "data": {
            "text/plain": [
              "0.15"
            ]
          },
          "execution_count": 72,
          "metadata": {},
          "output_type": "execute_result"
        }
      ],
      "source": [
        "# reload - а то она работает с того момента, на котором остановились. Лучше reload, чем заново load, чтобы модельные переменные не обнулялись\n",
        "model.reload()\n",
        "model.components.fruitfulness()"
      ]
    },
    {
      "cell_type": "markdown",
      "id": "8e2c15ca",
      "metadata": {
        "id": "8e2c15ca"
      },
      "source": [
        "1. Создать контейнер\n",
        "2. Создать четыре стрелочки"
      ]
    }
  ],
  "metadata": {
    "kernelspec": {
      "display_name": "Python 3",
      "language": "python",
      "name": "python3"
    },
    "language_info": {
      "codemirror_mode": {
        "name": "ipython",
        "version": 3
      },
      "file_extension": ".py",
      "mimetype": "text/x-python",
      "name": "python",
      "nbconvert_exporter": "python",
      "pygments_lexer": "ipython3",
      "version": "3.8.8"
    },
    "toc": {
      "base_numbering": 1,
      "nav_menu": {},
      "number_sections": true,
      "sideBar": true,
      "skip_h1_title": false,
      "title_cell": "Table of Contents",
      "title_sidebar": "Contents",
      "toc_cell": false,
      "toc_position": {},
      "toc_section_display": true,
      "toc_window_display": false
    },
    "colab": {
      "provenance": []
    }
  },
  "nbformat": 4,
  "nbformat_minor": 5
}